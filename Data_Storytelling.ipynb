{
 "cells": [
  {
   "cell_type": "markdown",
   "metadata": {},
   "source": [
    "# Data Storytelling\n",
    "\n",
    "blah blah blah\n",
    "\n",
    "Let's start by importing and inspecting the dataframe."
   ]
  },
  {
   "cell_type": "code",
   "execution_count": 19,
   "metadata": {
    "scrolled": true
   },
   "outputs": [
    {
     "data": {
      "text/html": [
       "<div>\n",
       "<style>\n",
       "    .dataframe thead tr:only-child th {\n",
       "        text-align: right;\n",
       "    }\n",
       "\n",
       "    .dataframe thead th {\n",
       "        text-align: left;\n",
       "    }\n",
       "\n",
       "    .dataframe tbody tr th {\n",
       "        vertical-align: top;\n",
       "    }\n",
       "</style>\n",
       "<table border=\"1\" class=\"dataframe\">\n",
       "  <thead>\n",
       "    <tr style=\"text-align: right;\">\n",
       "      <th></th>\n",
       "      <th>Year</th>\n",
       "      <th>Incident Date</th>\n",
       "      <th>Incident Type</th>\n",
       "      <th>Track</th>\n",
       "      <th>Inv Location</th>\n",
       "      <th>Racing Type Description</th>\n",
       "      <th>Division</th>\n",
       "      <th>Weather Conditions</th>\n",
       "      <th>Horse</th>\n",
       "      <th>Trainer</th>\n",
       "      <th>...</th>\n",
       "      <th>Rain</th>\n",
       "      <th>Snow</th>\n",
       "      <th>Wind</th>\n",
       "      <th>Thunder Storm</th>\n",
       "      <th>Hot</th>\n",
       "      <th>Humid</th>\n",
       "      <th>Warm</th>\n",
       "      <th>Year of Action</th>\n",
       "      <th>Action Description</th>\n",
       "      <th>Source</th>\n",
       "    </tr>\n",
       "  </thead>\n",
       "  <tbody>\n",
       "    <tr>\n",
       "      <th>0</th>\n",
       "      <td>2009</td>\n",
       "      <td>2009-03-04</td>\n",
       "      <td>EQUINE DEATH</td>\n",
       "      <td>Aqueduct Racetrack (NYRA)</td>\n",
       "      <td>Aqueduct</td>\n",
       "      <td>Racing</td>\n",
       "      <td>Thoroughbred</td>\n",
       "      <td>NaN</td>\n",
       "      <td>Private Details</td>\n",
       "      <td>JOHN P. TERRANOVA II</td>\n",
       "      <td>...</td>\n",
       "      <td>False</td>\n",
       "      <td>False</td>\n",
       "      <td>False</td>\n",
       "      <td>False</td>\n",
       "      <td>False</td>\n",
       "      <td>False</td>\n",
       "      <td>False</td>\n",
       "      <td>NaN</td>\n",
       "      <td>NaN</td>\n",
       "      <td>NaN</td>\n",
       "    </tr>\n",
       "    <tr>\n",
       "      <th>1</th>\n",
       "      <td>2009</td>\n",
       "      <td>2009-03-04</td>\n",
       "      <td>ACCIDENT - ON TRACK</td>\n",
       "      <td>Aqueduct Racetrack (NYRA)</td>\n",
       "      <td>NaN</td>\n",
       "      <td>Racing</td>\n",
       "      <td>Thoroughbred</td>\n",
       "      <td>NaN</td>\n",
       "      <td>Private Details</td>\n",
       "      <td>JOHN P. TERRANOVA II</td>\n",
       "      <td>...</td>\n",
       "      <td>False</td>\n",
       "      <td>False</td>\n",
       "      <td>False</td>\n",
       "      <td>False</td>\n",
       "      <td>False</td>\n",
       "      <td>False</td>\n",
       "      <td>False</td>\n",
       "      <td>NaN</td>\n",
       "      <td>NaN</td>\n",
       "      <td>NaN</td>\n",
       "    </tr>\n",
       "    <tr>\n",
       "      <th>2</th>\n",
       "      <td>2009</td>\n",
       "      <td>2009-03-04</td>\n",
       "      <td>ACCIDENT - ON TRACK</td>\n",
       "      <td>Aqueduct Racetrack (NYRA)</td>\n",
       "      <td>Aqueduct</td>\n",
       "      <td>Racing</td>\n",
       "      <td>Thoroughbred</td>\n",
       "      <td>NaN</td>\n",
       "      <td>All Bets Off</td>\n",
       "      <td>B E. LEVINE</td>\n",
       "      <td>...</td>\n",
       "      <td>False</td>\n",
       "      <td>False</td>\n",
       "      <td>False</td>\n",
       "      <td>False</td>\n",
       "      <td>False</td>\n",
       "      <td>False</td>\n",
       "      <td>False</td>\n",
       "      <td>NaN</td>\n",
       "      <td>NaN</td>\n",
       "      <td>NaN</td>\n",
       "    </tr>\n",
       "    <tr>\n",
       "      <th>3</th>\n",
       "      <td>2009</td>\n",
       "      <td>2009-03-04</td>\n",
       "      <td>ACCIDENT - ON TRACK</td>\n",
       "      <td>Aqueduct Racetrack (NYRA)</td>\n",
       "      <td>Aqueduct</td>\n",
       "      <td>Racing</td>\n",
       "      <td>Thoroughbred</td>\n",
       "      <td>NaN</td>\n",
       "      <td>Hot Chile Soup</td>\n",
       "      <td>ENRIQUE ARROYO</td>\n",
       "      <td>...</td>\n",
       "      <td>False</td>\n",
       "      <td>False</td>\n",
       "      <td>False</td>\n",
       "      <td>False</td>\n",
       "      <td>False</td>\n",
       "      <td>False</td>\n",
       "      <td>False</td>\n",
       "      <td>NaN</td>\n",
       "      <td>NaN</td>\n",
       "      <td>NaN</td>\n",
       "    </tr>\n",
       "    <tr>\n",
       "      <th>4</th>\n",
       "      <td>2009</td>\n",
       "      <td>2009-03-04</td>\n",
       "      <td>ACCIDENT - ON TRACK</td>\n",
       "      <td>Aqueduct Racetrack (NYRA)</td>\n",
       "      <td>Aqueduct</td>\n",
       "      <td>Racing</td>\n",
       "      <td>Thoroughbred</td>\n",
       "      <td>NaN</td>\n",
       "      <td>One Dream Union</td>\n",
       "      <td>BRUCE R. BROWN</td>\n",
       "      <td>...</td>\n",
       "      <td>False</td>\n",
       "      <td>False</td>\n",
       "      <td>False</td>\n",
       "      <td>False</td>\n",
       "      <td>False</td>\n",
       "      <td>False</td>\n",
       "      <td>False</td>\n",
       "      <td>NaN</td>\n",
       "      <td>NaN</td>\n",
       "      <td>NaN</td>\n",
       "    </tr>\n",
       "  </tbody>\n",
       "</table>\n",
       "<p>5 rows × 27 columns</p>\n",
       "</div>"
      ],
      "text/plain": [
       "   Year Incident Date        Incident Type                      Track  \\\n",
       "0  2009    2009-03-04         EQUINE DEATH  Aqueduct Racetrack (NYRA)   \n",
       "1  2009    2009-03-04  ACCIDENT - ON TRACK  Aqueduct Racetrack (NYRA)   \n",
       "2  2009    2009-03-04  ACCIDENT - ON TRACK  Aqueduct Racetrack (NYRA)   \n",
       "3  2009    2009-03-04  ACCIDENT - ON TRACK  Aqueduct Racetrack (NYRA)   \n",
       "4  2009    2009-03-04  ACCIDENT - ON TRACK  Aqueduct Racetrack (NYRA)   \n",
       "\n",
       "  Inv Location Racing Type Description      Division Weather Conditions  \\\n",
       "0     Aqueduct                  Racing  Thoroughbred                NaN   \n",
       "1          NaN                  Racing  Thoroughbred                NaN   \n",
       "2     Aqueduct                  Racing  Thoroughbred                NaN   \n",
       "3     Aqueduct                  Racing  Thoroughbred                NaN   \n",
       "4     Aqueduct                  Racing  Thoroughbred                NaN   \n",
       "\n",
       "             Horse               Trainer   ...     Rain   Snow   Wind  \\\n",
       "0  Private Details  JOHN P. TERRANOVA II   ...    False  False  False   \n",
       "1  Private Details  JOHN P. TERRANOVA II   ...    False  False  False   \n",
       "2     All Bets Off           B E. LEVINE   ...    False  False  False   \n",
       "3   Hot Chile Soup        ENRIQUE ARROYO   ...    False  False  False   \n",
       "4  One Dream Union        BRUCE R. BROWN   ...    False  False  False   \n",
       "\n",
       "   Thunder Storm    Hot  Humid   Warm  Year of Action  Action Description  \\\n",
       "0          False  False  False  False             NaN                 NaN   \n",
       "1          False  False  False  False             NaN                 NaN   \n",
       "2          False  False  False  False             NaN                 NaN   \n",
       "3          False  False  False  False             NaN                 NaN   \n",
       "4          False  False  False  False             NaN                 NaN   \n",
       "\n",
       "   Source  \n",
       "0     NaN  \n",
       "1     NaN  \n",
       "2     NaN  \n",
       "3     NaN  \n",
       "4     NaN  \n",
       "\n",
       "[5 rows x 27 columns]"
      ]
     },
     "execution_count": 19,
     "metadata": {},
     "output_type": "execute_result"
    }
   ],
   "source": [
    "# import packages\n",
    "import pandas as pd\n",
    "import numpy as np\n",
    "import matplotlib as plt\n",
    "\n",
    "#import dataset as a dataframe\n",
    "df = pd.read_csv('Equine_Breakdown_Death_Doping.csv',index_col = 'Unnamed: 0')\n",
    "df.head()"
   ]
  },
  {
   "cell_type": "code",
   "execution_count": 20,
   "metadata": {},
   "outputs": [
    {
     "name": "stdout",
     "output_type": "stream",
     "text": [
      "<class 'pandas.core.frame.DataFrame'>\n",
      "Int64Index: 3240 entries, 0 to 3239\n",
      "Data columns (total 27 columns):\n",
      "Year                       3240 non-null int64\n",
      "Incident Date              3240 non-null object\n",
      "Incident Type              3240 non-null object\n",
      "Track                      3240 non-null object\n",
      "Inv Location               3137 non-null object\n",
      "Racing Type Description    3240 non-null object\n",
      "Division                   3240 non-null object\n",
      "Weather Conditions         2189 non-null object\n",
      "Horse                      3239 non-null object\n",
      "Trainer                    3185 non-null object\n",
      "Jockey Driver              2090 non-null object\n",
      "Incident Description       3240 non-null object\n",
      "Death or Injury            2751 non-null object\n",
      "Cloudy                     3240 non-null bool\n",
      "Sunny                      3240 non-null bool\n",
      "Clear                      3240 non-null bool\n",
      "Overcast                   3240 non-null bool\n",
      "Rain                       3240 non-null bool\n",
      "Snow                       3240 non-null bool\n",
      "Wind                       3240 non-null bool\n",
      "Thunder Storm              3240 non-null bool\n",
      "Hot                        3240 non-null bool\n",
      "Humid                      3240 non-null bool\n",
      "Warm                       3240 non-null bool\n",
      "Year of Action             189 non-null float64\n",
      "Action Description         189 non-null object\n",
      "Source                     189 non-null object\n",
      "dtypes: bool(11), float64(1), int64(1), object(14)\n",
      "memory usage: 465.1+ KB\n"
     ]
    }
   ],
   "source": [
    "# use info() method for a summary of the dataframe\n",
    "df.info()"
   ]
  },
  {
   "cell_type": "code",
   "execution_count": 21,
   "metadata": {},
   "outputs": [
    {
     "data": {
      "text/plain": [
       "(3240, 27)"
      ]
     },
     "execution_count": 21,
     "metadata": {},
     "output_type": "execute_result"
    }
   ],
   "source": [
    "# display the shape of the dataframe\n",
    "df.shape"
   ]
  },
  {
   "cell_type": "markdown",
   "metadata": {},
   "source": [
    "Our data frame contains 3,218 entries in 27 columns."
   ]
  },
  {
   "cell_type": "markdown",
   "metadata": {},
   "source": [
    "# Trends Over Time\n",
    "\n",
    "The Equine Death and Breakdown dataset was published in February 2013 but the oldest records in the set are from March 2009. Let's start by looking at some trends over the past 8 years."
   ]
  },
  {
   "cell_type": "code",
   "execution_count": 22,
   "metadata": {},
   "outputs": [
    {
     "data": {
      "text/plain": [
       "dtype('<M8[ns]')"
      ]
     },
     "execution_count": 22,
     "metadata": {},
     "output_type": "execute_result"
    }
   ],
   "source": [
    "# convert 'Incident Date' to datetime object\n",
    "df['Incident Date'] = pd.to_datetime(df['Incident Date'],format='%Y/%m/%d')\n",
    "df['Incident Date'].dtype"
   ]
  },
  {
   "cell_type": "markdown",
   "metadata": {},
   "source": [
    "To start, let's look at whether the number of deaths and breakdowns has decreased over the years."
   ]
  },
  {
   "cell_type": "code",
   "execution_count": 23,
   "metadata": {},
   "outputs": [
    {
     "data": {
      "text/plain": [
       "Year\n",
       "2009    339\n",
       "2010    442\n",
       "2011    426\n",
       "2012    483\n",
       "2013    418\n",
       "2014    373\n",
       "2015    295\n",
       "2016    251\n",
       "2017    213\n",
       "Name: Year, dtype: int64"
      ]
     },
     "execution_count": 23,
     "metadata": {},
     "output_type": "execute_result"
    }
   ],
   "source": [
    "year_total = df.groupby('Year')['Year'].count()\n",
    "year_total"
   ]
  },
  {
   "cell_type": "code",
   "execution_count": null,
   "metadata": {
    "collapsed": true
   },
   "outputs": [],
   "source": []
  }
 ],
 "metadata": {
  "kernelspec": {
   "display_name": "Python 3",
   "language": "python",
   "name": "python3"
  },
  "language_info": {
   "codemirror_mode": {
    "name": "ipython",
    "version": 3
   },
   "file_extension": ".py",
   "mimetype": "text/x-python",
   "name": "python",
   "nbconvert_exporter": "python",
   "pygments_lexer": "ipython3",
   "version": "3.6.2"
  }
 },
 "nbformat": 4,
 "nbformat_minor": 2
}
