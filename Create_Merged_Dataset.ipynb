{
 "cells": [
  {
   "cell_type": "markdown",
   "metadata": {},
   "source": [
    "# Data Wrangling\n",
    "\n",
    "For this project, I'll be analyzing data from two datasets. The first is the 'Equine Death and Breakdown' dataset provided by the New York State Gaming Commission. The second is a dataset I compiled myself through my own research on various trainers whether they have a history of drugging their horses. I created this dataset by researching which trainers have been suspended or fined after one or more of their horses had been drug tested and found with traces of drugs over the legal limit (article sources provided in dataset).\n",
    "\n",
    "For a complete dataset that I will use for my project, I will merge the two datasets together on the trainer names. I will also expand upon different variables in the 'Weather Conditions' and 'Incident Description' columns in order to further test whether those factors are significant."
   ]
  },
  {
   "cell_type": "code",
   "execution_count": 666,
   "metadata": {},
   "outputs": [],
   "source": [
    "# import packages\n",
    "import pandas as pd\n",
    "import numpy as np"
   ]
  },
  {
   "cell_type": "markdown",
   "metadata": {},
   "source": [
    "# Equine Death and Breakdown Dataset\n",
    "\n",
    "Before merging our two datasets, I will clean the Equine Death and Breakdown dataset and study its contents."
   ]
  },
  {
   "cell_type": "code",
   "execution_count": 667,
   "metadata": {},
   "outputs": [
    {
     "data": {
      "text/html": [
       "<div>\n",
       "<style>\n",
       "    .dataframe thead tr:only-child th {\n",
       "        text-align: right;\n",
       "    }\n",
       "\n",
       "    .dataframe thead th {\n",
       "        text-align: left;\n",
       "    }\n",
       "\n",
       "    .dataframe tbody tr th {\n",
       "        vertical-align: top;\n",
       "    }\n",
       "</style>\n",
       "<table border=\"1\" class=\"dataframe\">\n",
       "  <thead>\n",
       "    <tr style=\"text-align: right;\">\n",
       "      <th></th>\n",
       "      <th>Year</th>\n",
       "      <th>Incident Date</th>\n",
       "      <th>Incident Type</th>\n",
       "      <th>Track</th>\n",
       "      <th>Inv Location</th>\n",
       "      <th>Racing Type Description</th>\n",
       "      <th>Division</th>\n",
       "      <th>Weather Conditions</th>\n",
       "      <th>Horse</th>\n",
       "      <th>Trainer</th>\n",
       "      <th>Jockey Driver</th>\n",
       "      <th>Incident Description</th>\n",
       "      <th>Death or Injury</th>\n",
       "    </tr>\n",
       "  </thead>\n",
       "  <tbody>\n",
       "    <tr>\n",
       "      <th>0</th>\n",
       "      <td>2009</td>\n",
       "      <td>03/04/2009</td>\n",
       "      <td>EQUINE DEATH</td>\n",
       "      <td>Aqueduct Racetrack (NYRA)</td>\n",
       "      <td>Aqueduct</td>\n",
       "      <td>Racing</td>\n",
       "      <td>Thoroughbred</td>\n",
       "      <td></td>\n",
       "      <td>Private Details</td>\n",
       "      <td>JOHN P. TERRANOVA II</td>\n",
       "      <td></td>\n",
       "      <td>Private Details-Tr. John Terranova-fell on tra...</td>\n",
       "      <td>Euthanasia</td>\n",
       "    </tr>\n",
       "    <tr>\n",
       "      <th>1</th>\n",
       "      <td>2009</td>\n",
       "      <td>03/04/2009</td>\n",
       "      <td>ON-TRACK ACCIDENT</td>\n",
       "      <td>Aqueduct Racetrack (NYRA)</td>\n",
       "      <td></td>\n",
       "      <td>Racing</td>\n",
       "      <td>Thoroughbred</td>\n",
       "      <td></td>\n",
       "      <td>Private Details</td>\n",
       "      <td>JOHN P. TERRANOVA II</td>\n",
       "      <td></td>\n",
       "      <td>Private Details-Tr. John Terranova-fell  fx LF...</td>\n",
       "      <td></td>\n",
       "    </tr>\n",
       "    <tr>\n",
       "      <th>2</th>\n",
       "      <td>2009</td>\n",
       "      <td>03/04/2009</td>\n",
       "      <td>ON-TRACK ACCIDENT</td>\n",
       "      <td>Aqueduct Racetrack (NYRA)</td>\n",
       "      <td>Aqueduct</td>\n",
       "      <td>Racing</td>\n",
       "      <td>Thoroughbred</td>\n",
       "      <td></td>\n",
       "      <td>All Bets Off</td>\n",
       "      <td>B E. LEVINE</td>\n",
       "      <td></td>\n",
       "      <td>All Bets Off-Tr. Bruce Levine-fell over downed...</td>\n",
       "      <td></td>\n",
       "    </tr>\n",
       "    <tr>\n",
       "      <th>3</th>\n",
       "      <td>2009</td>\n",
       "      <td>03/04/2009</td>\n",
       "      <td>ON-TRACK ACCIDENT</td>\n",
       "      <td>Aqueduct Racetrack (NYRA)</td>\n",
       "      <td>Aqueduct</td>\n",
       "      <td>Racing</td>\n",
       "      <td>Thoroughbred</td>\n",
       "      <td></td>\n",
       "      <td>Hot Chile Soup</td>\n",
       "      <td>ENRIQUE ARROYO</td>\n",
       "      <td></td>\n",
       "      <td>Hot Chile Soup-Tr. Enrique Arroyo-fell over do...</td>\n",
       "      <td></td>\n",
       "    </tr>\n",
       "    <tr>\n",
       "      <th>4</th>\n",
       "      <td>2009</td>\n",
       "      <td>03/04/2009</td>\n",
       "      <td>ON-TRACK ACCIDENT</td>\n",
       "      <td>Aqueduct Racetrack (NYRA)</td>\n",
       "      <td>Aqueduct</td>\n",
       "      <td>Racing</td>\n",
       "      <td>Thoroughbred</td>\n",
       "      <td></td>\n",
       "      <td>One Dream Union</td>\n",
       "      <td>BRUCE R. BROWN</td>\n",
       "      <td></td>\n",
       "      <td>One Dream Union-Tr. Bruce Brown-fell over down...</td>\n",
       "      <td></td>\n",
       "    </tr>\n",
       "  </tbody>\n",
       "</table>\n",
       "</div>"
      ],
      "text/plain": [
       "   Year Incident Date      Incident Type                      Track  \\\n",
       "0  2009    03/04/2009       EQUINE DEATH  Aqueduct Racetrack (NYRA)   \n",
       "1  2009    03/04/2009  ON-TRACK ACCIDENT  Aqueduct Racetrack (NYRA)   \n",
       "2  2009    03/04/2009  ON-TRACK ACCIDENT  Aqueduct Racetrack (NYRA)   \n",
       "3  2009    03/04/2009  ON-TRACK ACCIDENT  Aqueduct Racetrack (NYRA)   \n",
       "4  2009    03/04/2009  ON-TRACK ACCIDENT  Aqueduct Racetrack (NYRA)   \n",
       "\n",
       "  Inv Location Racing Type Description      Division Weather Conditions  \\\n",
       "0     Aqueduct                  Racing  Thoroughbred                      \n",
       "1                               Racing  Thoroughbred                      \n",
       "2     Aqueduct                  Racing  Thoroughbred                      \n",
       "3     Aqueduct                  Racing  Thoroughbred                      \n",
       "4     Aqueduct                  Racing  Thoroughbred                      \n",
       "\n",
       "             Horse               Trainer Jockey Driver  \\\n",
       "0  Private Details  JOHN P. TERRANOVA II                 \n",
       "1  Private Details  JOHN P. TERRANOVA II                 \n",
       "2     All Bets Off           B E. LEVINE                 \n",
       "3   Hot Chile Soup        ENRIQUE ARROYO                 \n",
       "4  One Dream Union        BRUCE R. BROWN                 \n",
       "\n",
       "                                Incident Description Death or Injury  \n",
       "0  Private Details-Tr. John Terranova-fell on tra...      Euthanasia  \n",
       "1  Private Details-Tr. John Terranova-fell  fx LF...                  \n",
       "2  All Bets Off-Tr. Bruce Levine-fell over downed...                  \n",
       "3  Hot Chile Soup-Tr. Enrique Arroyo-fell over do...                  \n",
       "4  One Dream Union-Tr. Bruce Brown-fell over down...                  "
      ]
     },
     "execution_count": 667,
     "metadata": {},
     "output_type": "execute_result"
    }
   ],
   "source": [
    "# load the dataset as a dataframe\n",
    "df1 = pd.read_csv('Equine_Death_and_Breakdown.csv')\n",
    "df1.head()"
   ]
  },
  {
   "cell_type": "code",
   "execution_count": 668,
   "metadata": {},
   "outputs": [
    {
     "name": "stdout",
     "output_type": "stream",
     "text": [
      "<class 'pandas.core.frame.DataFrame'>\n",
      "RangeIndex: 3218 entries, 0 to 3217\n",
      "Data columns (total 13 columns):\n",
      "Year                       3218 non-null int64\n",
      "Incident Date              3218 non-null object\n",
      "Incident Type              3218 non-null object\n",
      "Track                      3218 non-null object\n",
      "Inv Location               3216 non-null object\n",
      "Racing Type Description    3218 non-null object\n",
      "Division                   3218 non-null object\n",
      "Weather Conditions         3171 non-null object\n",
      "Horse                      3218 non-null object\n",
      "Trainer                    3218 non-null object\n",
      "Jockey Driver              3218 non-null object\n",
      "Incident Description       3218 non-null object\n",
      "Death or Injury            3217 non-null object\n",
      "dtypes: int64(1), object(12)\n",
      "memory usage: 326.9+ KB\n"
     ]
    }
   ],
   "source": [
    "# use the info() method to identify size and datatypes of the dataframe\n",
    "df1.info()"
   ]
  },
  {
   "cell_type": "code",
   "execution_count": 669,
   "metadata": {},
   "outputs": [
    {
     "data": {
      "text/plain": [
       "Index(['Year', 'Incident Date', 'Incident Type', 'Track', 'Inv Location',\n",
       "       'Racing Type Description', 'Division', 'Weather Conditions', 'Horse',\n",
       "       'Trainer', 'Jockey Driver', 'Incident Description', 'Death or Injury'],\n",
       "      dtype='object')"
      ]
     },
     "execution_count": 669,
     "metadata": {},
     "output_type": "execute_result"
    }
   ],
   "source": [
    "# check the column names\n",
    "df1.columns"
   ]
  },
  {
   "cell_type": "code",
   "execution_count": 670,
   "metadata": {},
   "outputs": [
    {
     "data": {
      "text/plain": [
       "(3218, 13)"
      ]
     },
     "execution_count": 670,
     "metadata": {},
     "output_type": "execute_result"
    }
   ],
   "source": [
    "# check the shape of the dataframe\n",
    "df1.shape"
   ]
  },
  {
   "cell_type": "markdown",
   "metadata": {},
   "source": [
    "Our dataframe has 3,218 rows and 13 columns. Since most of the data is categorical, let's check to see that the categories in various columns aren't mispelled and creating more values than necessary."
   ]
  },
  {
   "cell_type": "code",
   "execution_count": 671,
   "metadata": {},
   "outputs": [
    {
     "data": {
      "text/plain": [
       "Incident Type\n",
       "ACCIDENT - DRIVER/JOCKEY               10\n",
       "ACCIDENT - IN STARTING GATE            22\n",
       "ACCIDENT - ON TRACK                   107\n",
       "ACCIDENT - TAGGED SULKY                56\n",
       "DRIVER/JOCKEY INJURED                   7\n",
       "EQUINE DEATH                         1219\n",
       "EQUINE DEATH - INFECTIOUS DISEASE      10\n",
       "FALL OF HORSE                         113\n",
       "FALL OF RIDER                         211\n",
       "ON-TRACK ACCIDENT                       7\n",
       "RACING INJURY                         302\n",
       "STEWARDS/VETS LIST                   1154\n",
       "Name: Incident Type, dtype: int64"
      ]
     },
     "execution_count": 671,
     "metadata": {},
     "output_type": "execute_result"
    }
   ],
   "source": [
    "# use groupby() to display the different incident types\n",
    "# use count() to display how many records for each incident type\n",
    "df1.groupby(['Incident Type'])['Incident Type'].count()"
   ]
  },
  {
   "cell_type": "markdown",
   "metadata": {},
   "source": [
    "There are 12 incident types, each unique except there are two categories related to on track accidents. They are the 'ACCIDENT - ON TRACK' and 'ON-TRACK ACCIDENT' categories. Let's recategorize the rows with the second description to be categorized as the first."
   ]
  },
  {
   "cell_type": "code",
   "execution_count": 672,
   "metadata": {},
   "outputs": [
    {
     "data": {
      "text/plain": [
       "Incident Type\n",
       "ACCIDENT - DRIVER/JOCKEY               10\n",
       "ACCIDENT - IN STARTING GATE            22\n",
       "ACCIDENT - ON TRACK                   114\n",
       "ACCIDENT - TAGGED SULKY                56\n",
       "DRIVER/JOCKEY INJURED                   7\n",
       "EQUINE DEATH                         1219\n",
       "EQUINE DEATH - INFECTIOUS DISEASE      10\n",
       "FALL OF HORSE                         113\n",
       "FALL OF RIDER                         211\n",
       "RACING INJURY                         302\n",
       "STEWARDS/VETS LIST                   1154\n",
       "Name: Incident Type, dtype: int64"
      ]
     },
     "execution_count": 672,
     "metadata": {},
     "output_type": "execute_result"
    }
   ],
   "source": [
    "# recategorize the on track accidents so they have the same incident type name\n",
    "df1['Incident Type'] = df1['Incident Type'].replace('ON-TRACK ACCIDENT','ACCIDENT - ON TRACK')\n",
    "df1.groupby(['Incident Type'])['Incident Type'].count()"
   ]
  },
  {
   "cell_type": "markdown",
   "metadata": {},
   "source": [
    "We now have 11 incident types and each is different from the other. Now let's change the datatype from an object to categorical."
   ]
  },
  {
   "cell_type": "code",
   "execution_count": 673,
   "metadata": {},
   "outputs": [
    {
     "data": {
      "text/plain": [
       "category"
      ]
     },
     "execution_count": 673,
     "metadata": {},
     "output_type": "execute_result"
    }
   ],
   "source": [
    "# update the datatype of 'Incident Type' to be categorical and check the datatype\n",
    "df1['Incident Type'] = df1['Incident Type'].astype('category')\n",
    "df1['Incident Type'].dtype"
   ]
  },
  {
   "cell_type": "markdown",
   "metadata": {},
   "source": [
    "Let's move on to check some other columns that are also categorical in nature."
   ]
  },
  {
   "cell_type": "code",
   "execution_count": 674,
   "metadata": {},
   "outputs": [
    {
     "data": {
      "text/plain": [
       "Track\n",
       "Aqueduct Racetrack (NYRA)               619\n",
       "Batavia Downs                            63\n",
       "Belmont Park (NYRA)                     719\n",
       "Buffalo Raceway                         101\n",
       "Finger Lakes Gaming & Racetrack         508\n",
       "Monticello Raceway & Mighty M Gaming    203\n",
       "Saratoga Gaming & Raceway               400\n",
       "Saratoga Racecourse (NYRA)              326\n",
       "Tioga Downs                              80\n",
       "Vernon Downs                             62\n",
       "Yonkers Raceway                         137\n",
       "Name: Track, dtype: int64"
      ]
     },
     "execution_count": 674,
     "metadata": {},
     "output_type": "execute_result"
    }
   ],
   "source": [
    "# check the track names\n",
    "df1.groupby(['Track'])['Track'].count()"
   ]
  },
  {
   "cell_type": "code",
   "execution_count": 675,
   "metadata": {},
   "outputs": [
    {
     "data": {
      "text/plain": [
       "Racing Type Description\n",
       "Non-Racing     313\n",
       "Racing        2512\n",
       "Training       373\n",
       "Unknown         20\n",
       "Name: Racing Type Description, dtype: int64"
      ]
     },
     "execution_count": 675,
     "metadata": {},
     "output_type": "execute_result"
    }
   ],
   "source": [
    "# check racing type descriptions\n",
    "df1.groupby(['Racing Type Description'])['Racing Type Description'].count()"
   ]
  },
  {
   "cell_type": "code",
   "execution_count": 676,
   "metadata": {},
   "outputs": [
    {
     "data": {
      "text/plain": [
       "Division\n",
       "Harness         1046\n",
       "Thoroughbred    2172\n",
       "Name: Division, dtype: int64"
      ]
     },
     "execution_count": 676,
     "metadata": {},
     "output_type": "execute_result"
    }
   ],
   "source": [
    "# check division\n",
    "df1.groupby(['Division'])['Division'].count()"
   ]
  },
  {
   "cell_type": "markdown",
   "metadata": {},
   "source": [
    "The 'Track', 'Racing Type Description', and 'Division' columns all have good categorical data. Let's convert their data types to cateogorical and then keep checking other columns with categorical data."
   ]
  },
  {
   "cell_type": "code",
   "execution_count": 677,
   "metadata": {},
   "outputs": [
    {
     "name": "stdout",
     "output_type": "stream",
     "text": [
      "<class 'pandas.core.frame.DataFrame'>\n",
      "RangeIndex: 3218 entries, 0 to 3217\n",
      "Data columns (total 13 columns):\n",
      "Year                       3218 non-null int64\n",
      "Incident Date              3218 non-null object\n",
      "Incident Type              3218 non-null category\n",
      "Track                      3218 non-null category\n",
      "Inv Location               3216 non-null object\n",
      "Racing Type Description    3218 non-null category\n",
      "Division                   3218 non-null category\n",
      "Weather Conditions         3171 non-null object\n",
      "Horse                      3218 non-null object\n",
      "Trainer                    3218 non-null object\n",
      "Jockey Driver              3218 non-null object\n",
      "Incident Description       3218 non-null object\n",
      "Death or Injury            3217 non-null object\n",
      "dtypes: category(4), int64(1), object(8)\n",
      "memory usage: 240.0+ KB\n"
     ]
    }
   ],
   "source": [
    "# update dataype of 'Track', 'Racing Type Description', and 'Division to category\n",
    "df1['Track'] = df1['Track'].astype('category')\n",
    "df1['Racing Type Description'] = df1['Racing Type Description'].astype('category')\n",
    "df1['Division'] = df1['Division'].astype('category')\n",
    "\n",
    "# check datatype of these three columns by calling the info() method\n",
    "df1.info()"
   ]
  },
  {
   "cell_type": "markdown",
   "metadata": {},
   "source": [
    "Four of our columns now have data of type category. Let's check the 'Death or Injury' column."
   ]
  },
  {
   "cell_type": "code",
   "execution_count": 678,
   "metadata": {},
   "outputs": [
    {
     "data": {
      "text/plain": [
       "Death or Injury\n",
       "                                478\n",
       "Accident                        249\n",
       "Death                             3\n",
       "Equine Death                    679\n",
       "Equine Injury                   101\n",
       "Equine Injury / Equine Death     46\n",
       "Euthanasia                      460\n",
       "Injury                          218\n",
       "Lame no death                     1\n",
       "Lameness                        110\n",
       "Steward's List                  871\n",
       "death                             1\n",
       "Name: Death or Injury, dtype: int64"
      ]
     },
     "execution_count": 678,
     "metadata": {},
     "output_type": "execute_result"
    }
   ],
   "source": [
    "# check death or injury\n",
    "df1.groupby(['Death or Injury'])['Death or Injury'].count()"
   ]
  },
  {
   "cell_type": "markdown",
   "metadata": {},
   "source": [
    "There are a few adjustments we can make to the categories in the Death or Injury column. To start, there are three categories for death: 'Death', 'Equine Death', 'death'. The same is true for categories related to lameness ('Lameness' and 'Lame no death') and related to injury ('Equine Injury' and 'Injury'). We can probably assume that horses marked as lame didn't die at the time of the incident and we can probably assume that 'Injury' is in reference to the horse's injury and not the jockey's injury. We can consolidate all of these."
   ]
  },
  {
   "cell_type": "code",
   "execution_count": 679,
   "metadata": {},
   "outputs": [
    {
     "data": {
      "text/plain": [
       "Death or Injury\n",
       "                                478\n",
       "Accident                        249\n",
       "Equine Death                    683\n",
       "Equine Injury                   319\n",
       "Equine Injury / Equine Death     46\n",
       "Euthanasia                      460\n",
       "Lameness                        111\n",
       "Steward's List                  871\n",
       "Name: Death or Injury, dtype: int64"
      ]
     },
     "execution_count": 679,
     "metadata": {},
     "output_type": "execute_result"
    }
   ],
   "source": [
    "# use the replace() method to conslidate categories that are the same\n",
    "df1['Death or Injury'] = df1['Death or Injury'].replace(['Death','death'],'Equine Death')\n",
    "df1['Death or Injury'] = df1['Death or Injury'].replace('Lame no death','Lameness')\n",
    "df1['Death or Injury'] = df1['Death or Injury'].replace('Injury','Equine Injury')\n",
    "df1.groupby(['Death or Injury'])['Death or Injury'].count()"
   ]
  },
  {
   "cell_type": "markdown",
   "metadata": {},
   "source": [
    "We have a lot of rows with no data filled in. We should check to see how these categories match up with the 'Incident Type' column since the descriptions are fairly similar. If there are blank rows in the 'Death or Injury' column that line up with categoreis in the 'Incident Type' column that suggest the horse died, perhaps we can fill in the blank rows with 'Equine Death."
   ]
  },
  {
   "cell_type": "code",
   "execution_count": 680,
   "metadata": {
    "scrolled": true
   },
   "outputs": [
    {
     "data": {
      "text/html": [
       "<div>\n",
       "<style>\n",
       "    .dataframe thead tr:only-child th {\n",
       "        text-align: right;\n",
       "    }\n",
       "\n",
       "    .dataframe thead th {\n",
       "        text-align: left;\n",
       "    }\n",
       "\n",
       "    .dataframe tbody tr th {\n",
       "        vertical-align: top;\n",
       "    }\n",
       "</style>\n",
       "<table border=\"1\" class=\"dataframe\">\n",
       "  <thead>\n",
       "    <tr style=\"text-align: right;\">\n",
       "      <th></th>\n",
       "      <th>Incident Type</th>\n",
       "      <th>Death or Injury</th>\n",
       "    </tr>\n",
       "  </thead>\n",
       "  <tbody>\n",
       "    <tr>\n",
       "      <th>0</th>\n",
       "      <td>ACCIDENT - DRIVER/JOCKEY</td>\n",
       "      <td></td>\n",
       "    </tr>\n",
       "    <tr>\n",
       "      <th>1</th>\n",
       "      <td>ACCIDENT - DRIVER/JOCKEY</td>\n",
       "      <td>Accident</td>\n",
       "    </tr>\n",
       "    <tr>\n",
       "      <th>2</th>\n",
       "      <td>ACCIDENT - IN STARTING GATE</td>\n",
       "      <td></td>\n",
       "    </tr>\n",
       "    <tr>\n",
       "      <th>3</th>\n",
       "      <td>ACCIDENT - IN STARTING GATE</td>\n",
       "      <td>Steward's List</td>\n",
       "    </tr>\n",
       "    <tr>\n",
       "      <th>4</th>\n",
       "      <td>ACCIDENT - IN STARTING GATE</td>\n",
       "      <td>Accident</td>\n",
       "    </tr>\n",
       "    <tr>\n",
       "      <th>5</th>\n",
       "      <td>ACCIDENT - IN STARTING GATE</td>\n",
       "      <td>Equine Injury</td>\n",
       "    </tr>\n",
       "    <tr>\n",
       "      <th>6</th>\n",
       "      <td>ACCIDENT - ON TRACK</td>\n",
       "      <td>Accident</td>\n",
       "    </tr>\n",
       "    <tr>\n",
       "      <th>7</th>\n",
       "      <td>ACCIDENT - ON TRACK</td>\n",
       "      <td>Equine Injury</td>\n",
       "    </tr>\n",
       "    <tr>\n",
       "      <th>8</th>\n",
       "      <td>ACCIDENT - ON TRACK</td>\n",
       "      <td>Steward's List</td>\n",
       "    </tr>\n",
       "    <tr>\n",
       "      <th>9</th>\n",
       "      <td>ACCIDENT - ON TRACK</td>\n",
       "      <td></td>\n",
       "    </tr>\n",
       "    <tr>\n",
       "      <th>10</th>\n",
       "      <td>ACCIDENT - TAGGED SULKY</td>\n",
       "      <td>Accident</td>\n",
       "    </tr>\n",
       "    <tr>\n",
       "      <th>11</th>\n",
       "      <td>ACCIDENT - TAGGED SULKY</td>\n",
       "      <td></td>\n",
       "    </tr>\n",
       "    <tr>\n",
       "      <th>12</th>\n",
       "      <td>ACCIDENT - TAGGED SULKY</td>\n",
       "      <td>Equine Injury</td>\n",
       "    </tr>\n",
       "    <tr>\n",
       "      <th>13</th>\n",
       "      <td>ACCIDENT - TAGGED SULKY</td>\n",
       "      <td>Steward's List</td>\n",
       "    </tr>\n",
       "    <tr>\n",
       "      <th>14</th>\n",
       "      <td>DRIVER/JOCKEY INJURED</td>\n",
       "      <td></td>\n",
       "    </tr>\n",
       "    <tr>\n",
       "      <th>15</th>\n",
       "      <td>DRIVER/JOCKEY INJURED</td>\n",
       "      <td>Accident</td>\n",
       "    </tr>\n",
       "    <tr>\n",
       "      <th>16</th>\n",
       "      <td>EQUINE DEATH</td>\n",
       "      <td>Lameness</td>\n",
       "    </tr>\n",
       "    <tr>\n",
       "      <th>17</th>\n",
       "      <td>EQUINE DEATH</td>\n",
       "      <td>Equine Injury / Equine Death</td>\n",
       "    </tr>\n",
       "    <tr>\n",
       "      <th>18</th>\n",
       "      <td>EQUINE DEATH</td>\n",
       "      <td>Euthanasia</td>\n",
       "    </tr>\n",
       "    <tr>\n",
       "      <th>19</th>\n",
       "      <td>EQUINE DEATH</td>\n",
       "      <td>Accident</td>\n",
       "    </tr>\n",
       "    <tr>\n",
       "      <th>20</th>\n",
       "      <td>EQUINE DEATH</td>\n",
       "      <td></td>\n",
       "    </tr>\n",
       "    <tr>\n",
       "      <th>21</th>\n",
       "      <td>EQUINE DEATH</td>\n",
       "      <td>Equine Death</td>\n",
       "    </tr>\n",
       "    <tr>\n",
       "      <th>22</th>\n",
       "      <td>EQUINE DEATH</td>\n",
       "      <td>Equine Injury</td>\n",
       "    </tr>\n",
       "    <tr>\n",
       "      <th>23</th>\n",
       "      <td>EQUINE DEATH - INFECTIOUS DISEASE</td>\n",
       "      <td>Equine Death</td>\n",
       "    </tr>\n",
       "    <tr>\n",
       "      <th>24</th>\n",
       "      <td>EQUINE DEATH - INFECTIOUS DISEASE</td>\n",
       "      <td>Euthanasia</td>\n",
       "    </tr>\n",
       "    <tr>\n",
       "      <th>25</th>\n",
       "      <td>FALL OF HORSE</td>\n",
       "      <td>Equine Injury</td>\n",
       "    </tr>\n",
       "    <tr>\n",
       "      <th>26</th>\n",
       "      <td>FALL OF HORSE</td>\n",
       "      <td>Steward's List</td>\n",
       "    </tr>\n",
       "    <tr>\n",
       "      <th>27</th>\n",
       "      <td>FALL OF HORSE</td>\n",
       "      <td>Accident</td>\n",
       "    </tr>\n",
       "    <tr>\n",
       "      <th>28</th>\n",
       "      <td>FALL OF HORSE</td>\n",
       "      <td></td>\n",
       "    </tr>\n",
       "    <tr>\n",
       "      <th>29</th>\n",
       "      <td>FALL OF HORSE</td>\n",
       "      <td>NaN</td>\n",
       "    </tr>\n",
       "    <tr>\n",
       "      <th>30</th>\n",
       "      <td>FALL OF RIDER</td>\n",
       "      <td>Equine Injury</td>\n",
       "    </tr>\n",
       "    <tr>\n",
       "      <th>31</th>\n",
       "      <td>FALL OF RIDER</td>\n",
       "      <td></td>\n",
       "    </tr>\n",
       "    <tr>\n",
       "      <th>32</th>\n",
       "      <td>FALL OF RIDER</td>\n",
       "      <td>Steward's List</td>\n",
       "    </tr>\n",
       "    <tr>\n",
       "      <th>33</th>\n",
       "      <td>FALL OF RIDER</td>\n",
       "      <td>Accident</td>\n",
       "    </tr>\n",
       "    <tr>\n",
       "      <th>34</th>\n",
       "      <td>RACING INJURY</td>\n",
       "      <td>Steward's List</td>\n",
       "    </tr>\n",
       "    <tr>\n",
       "      <th>35</th>\n",
       "      <td>RACING INJURY</td>\n",
       "      <td></td>\n",
       "    </tr>\n",
       "    <tr>\n",
       "      <th>36</th>\n",
       "      <td>RACING INJURY</td>\n",
       "      <td>Lameness</td>\n",
       "    </tr>\n",
       "    <tr>\n",
       "      <th>37</th>\n",
       "      <td>RACING INJURY</td>\n",
       "      <td>Accident</td>\n",
       "    </tr>\n",
       "    <tr>\n",
       "      <th>38</th>\n",
       "      <td>RACING INJURY</td>\n",
       "      <td>Equine Injury</td>\n",
       "    </tr>\n",
       "    <tr>\n",
       "      <th>39</th>\n",
       "      <td>STEWARDS/VETS LIST</td>\n",
       "      <td>Lameness</td>\n",
       "    </tr>\n",
       "    <tr>\n",
       "      <th>40</th>\n",
       "      <td>STEWARDS/VETS LIST</td>\n",
       "      <td>Equine Injury</td>\n",
       "    </tr>\n",
       "    <tr>\n",
       "      <th>41</th>\n",
       "      <td>STEWARDS/VETS LIST</td>\n",
       "      <td>Steward's List</td>\n",
       "    </tr>\n",
       "    <tr>\n",
       "      <th>42</th>\n",
       "      <td>STEWARDS/VETS LIST</td>\n",
       "      <td></td>\n",
       "    </tr>\n",
       "    <tr>\n",
       "      <th>43</th>\n",
       "      <td>STEWARDS/VETS LIST</td>\n",
       "      <td>Accident</td>\n",
       "    </tr>\n",
       "  </tbody>\n",
       "</table>\n",
       "</div>"
      ],
      "text/plain": [
       "                        Incident Type               Death or Injury\n",
       "0            ACCIDENT - DRIVER/JOCKEY                              \n",
       "1            ACCIDENT - DRIVER/JOCKEY                      Accident\n",
       "2         ACCIDENT - IN STARTING GATE                              \n",
       "3         ACCIDENT - IN STARTING GATE                Steward's List\n",
       "4         ACCIDENT - IN STARTING GATE                      Accident\n",
       "5         ACCIDENT - IN STARTING GATE                 Equine Injury\n",
       "6                 ACCIDENT - ON TRACK                      Accident\n",
       "7                 ACCIDENT - ON TRACK                 Equine Injury\n",
       "8                 ACCIDENT - ON TRACK                Steward's List\n",
       "9                 ACCIDENT - ON TRACK                              \n",
       "10            ACCIDENT - TAGGED SULKY                      Accident\n",
       "11            ACCIDENT - TAGGED SULKY                              \n",
       "12            ACCIDENT - TAGGED SULKY                 Equine Injury\n",
       "13            ACCIDENT - TAGGED SULKY                Steward's List\n",
       "14              DRIVER/JOCKEY INJURED                              \n",
       "15              DRIVER/JOCKEY INJURED                      Accident\n",
       "16                       EQUINE DEATH                      Lameness\n",
       "17                       EQUINE DEATH  Equine Injury / Equine Death\n",
       "18                       EQUINE DEATH                    Euthanasia\n",
       "19                       EQUINE DEATH                      Accident\n",
       "20                       EQUINE DEATH                              \n",
       "21                       EQUINE DEATH                  Equine Death\n",
       "22                       EQUINE DEATH                 Equine Injury\n",
       "23  EQUINE DEATH - INFECTIOUS DISEASE                  Equine Death\n",
       "24  EQUINE DEATH - INFECTIOUS DISEASE                    Euthanasia\n",
       "25                      FALL OF HORSE                 Equine Injury\n",
       "26                      FALL OF HORSE                Steward's List\n",
       "27                      FALL OF HORSE                      Accident\n",
       "28                      FALL OF HORSE                              \n",
       "29                      FALL OF HORSE                           NaN\n",
       "30                      FALL OF RIDER                 Equine Injury\n",
       "31                      FALL OF RIDER                              \n",
       "32                      FALL OF RIDER                Steward's List\n",
       "33                      FALL OF RIDER                      Accident\n",
       "34                      RACING INJURY                Steward's List\n",
       "35                      RACING INJURY                              \n",
       "36                      RACING INJURY                      Lameness\n",
       "37                      RACING INJURY                      Accident\n",
       "38                      RACING INJURY                 Equine Injury\n",
       "39                 STEWARDS/VETS LIST                      Lameness\n",
       "40                 STEWARDS/VETS LIST                 Equine Injury\n",
       "41                 STEWARDS/VETS LIST                Steward's List\n",
       "42                 STEWARDS/VETS LIST                              \n",
       "43                 STEWARDS/VETS LIST                      Accident"
      ]
     },
     "execution_count": 680,
     "metadata": {},
     "output_type": "execute_result"
    }
   ],
   "source": [
    "# identify matching pairs of 'Incident Type' and 'Death or Injury' in our dataframe\n",
    "df1[['Incident Type','Death or Injury']].drop_duplicates().sort_values('Incident Type').reset_index(drop=True)"
   ]
  },
  {
   "cell_type": "markdown",
   "metadata": {},
   "source": [
    "The above table shows up that the 'Incident Type' and 'Death or Injury' categories don't match up very well. There's a lot of overlap between the two columns with a total of 43 pairs. Since the 'Incident Type' column is fully populated, we can use this column for most of our analysis. For now, we will leave the blank rows in 'Death or Injury' as is. We may revisit this later.\n",
    "\n",
    "Finally, convert this column to datatype category."
   ]
  },
  {
   "cell_type": "code",
   "execution_count": 681,
   "metadata": {},
   "outputs": [
    {
     "data": {
      "text/plain": [
       "category"
      ]
     },
     "execution_count": 681,
     "metadata": {},
     "output_type": "execute_result"
    }
   ],
   "source": [
    "# update the datatype of 'Death or Injury' to be categorical and check the datatype\n",
    "df1['Death or Injury'] = df1['Death or Injury'].astype('category')\n",
    "df1['Death or Injury'].dtype"
   ]
  },
  {
   "cell_type": "markdown",
   "metadata": {},
   "source": [
    "We also have a date listed for when the incident happened. This is in the 'Incident Date' column. Right now, the incident date isn't a datetime object. Let's convert it to make it easier to use and analyze later on."
   ]
  },
  {
   "cell_type": "code",
   "execution_count": 695,
   "metadata": {},
   "outputs": [
    {
     "data": {
      "text/plain": [
       "dtype('<M8[ns]')"
      ]
     },
     "execution_count": 695,
     "metadata": {},
     "output_type": "execute_result"
    }
   ],
   "source": [
    "# update the datatype of 'Incident Date' to be a datetime object and check the datatype\n",
    "df1['Incident Date'] = pd.to_datetime(df1['Incident Date'],format='%m/%d/%Y')\n",
    "df1['Incident Date'].dtype"
   ]
  },
  {
   "cell_type": "code",
   "execution_count": 683,
   "metadata": {},
   "outputs": [
    {
     "name": "stdout",
     "output_type": "stream",
     "text": [
      "<class 'pandas.core.frame.DataFrame'>\n",
      "RangeIndex: 3218 entries, 0 to 3217\n",
      "Data columns (total 13 columns):\n",
      "Year                       3218 non-null int64\n",
      "Incident Date              3218 non-null datetime64[ns]\n",
      "Incident Type              3218 non-null category\n",
      "Track                      3218 non-null category\n",
      "Inv Location               3216 non-null object\n",
      "Racing Type Description    3218 non-null category\n",
      "Division                   3218 non-null category\n",
      "Weather Conditions         3171 non-null object\n",
      "Horse                      3218 non-null object\n",
      "Trainer                    3218 non-null object\n",
      "Jockey Driver              3218 non-null object\n",
      "Incident Description       3218 non-null object\n",
      "Death or Injury            3217 non-null category\n",
      "dtypes: category(5), datetime64[ns](1), int64(1), object(6)\n",
      "memory usage: 218.4+ KB\n"
     ]
    }
   ],
   "source": [
    "# check all datatypes using the info() method\n",
    "df1.info()"
   ]
  },
  {
   "cell_type": "markdown",
   "metadata": {},
   "source": [
    "Another variable that I want to test is whether the weather is a significant factor in whether horses get injured or die. We're provided with a 'Weather Conditions' column, but the descriptions aren't all consistent and some descriptions are more elaborate than others. Let's check to see how many unique descriptions there are in the 'Weather Conditions' column."
   ]
  },
  {
   "cell_type": "code",
   "execution_count": 684,
   "metadata": {},
   "outputs": [
    {
     "data": {
      "text/plain": [
       "799"
      ]
     },
     "execution_count": 684,
     "metadata": {},
     "output_type": "execute_result"
    }
   ],
   "source": [
    "# check number of unique strings\n",
    "df1['Weather Conditions'].nunique()"
   ]
  },
  {
   "cell_type": "markdown",
   "metadata": {},
   "source": [
    "799 different descriptions is a lot, but it makes sense that there are so many since many of them list the temperature and the weather condition (sometimes more than 1 weather condition). Let's see what the top weather condition descriptions are to get a better idea of what the data in this column looks like."
   ]
  },
  {
   "cell_type": "code",
   "execution_count": 685,
   "metadata": {},
   "outputs": [
    {
     "data": {
      "text/plain": [
       "                               999\n",
       "Clear                          306\n",
       "Cloudy                         125\n",
       "Sunny                           39\n",
       "Clear 50 to 55 : degrees F      34\n",
       "Clear 60 to 65 : degrees F      28\n",
       "clear                           27\n",
       "Cloudy 50 to 55 : degrees F     24\n",
       "Overcast                        22\n",
       "Rain                            22\n",
       "80* Clear                       20\n",
       "Clear 30 to 40 : degrees F      18\n",
       "Clear 45 to 50 : degrees F      18\n",
       "60* Clear                       17\n",
       "75* Clear                       16\n",
       "Name: Weather Conditions, dtype: int64"
      ]
     },
     "execution_count": 685,
     "metadata": {},
     "output_type": "execute_result"
    }
   ],
   "source": [
    "# display some of the more common weather condition descriptions\n",
    "df1['Weather Conditions'].value_counts().head(15)"
   ]
  },
  {
   "cell_type": "markdown",
   "metadata": {},
   "source": [
    "A good chunk of our records don't have anything recorded for the weather conditions. We can also see that there is at least one inconsistency with capitalization (clear and Clear). Instead of alterting the data within this column, I'll create a few new columns filled with Boolean data. If a weather condition keyword appears in the weather condition description, the result will be 'True', else it will be 'False'. This will be a useful way to display the data since we have overlap between some weather conditions.\n",
    "\n",
    "I will iterate through all the rows and identify in each of their weather conditions whether it can be categorized in one of my new boolean columns."
   ]
  },
  {
   "cell_type": "code",
   "execution_count": 686,
   "metadata": {},
   "outputs": [
    {
     "name": "stdout",
     "output_type": "stream",
     "text": [
      "<class 'pandas.core.frame.DataFrame'>\n",
      "RangeIndex: 3218 entries, 0 to 3217\n",
      "Data columns (total 24 columns):\n",
      "Year                       3218 non-null int64\n",
      "Incident Date              3218 non-null datetime64[ns]\n",
      "Incident Type              3218 non-null category\n",
      "Track                      3218 non-null category\n",
      "Inv Location               3216 non-null object\n",
      "Racing Type Description    3218 non-null category\n",
      "Division                   3218 non-null category\n",
      "Weather Conditions         3171 non-null object\n",
      "Horse                      3218 non-null object\n",
      "Trainer                    3218 non-null object\n",
      "Jockey Driver              3218 non-null object\n",
      "Incident Description       3218 non-null object\n",
      "Death or Injury            3217 non-null category\n",
      "Cloudy                     0 non-null float64\n",
      "Sunny                      0 non-null float64\n",
      "Clear                      0 non-null float64\n",
      "Overcast                   0 non-null float64\n",
      "Rain                       0 non-null float64\n",
      "Snow                       0 non-null float64\n",
      "Wind                       0 non-null float64\n",
      "Thunder Storm              0 non-null float64\n",
      "Hot                        0 non-null float64\n",
      "Humid                      0 non-null float64\n",
      "Warm                       0 non-null float64\n",
      "dtypes: category(5), datetime64[ns](1), float64(11), int64(1), object(6)\n",
      "memory usage: 494.9+ KB\n"
     ]
    }
   ],
   "source": [
    "# create new boolean columns\n",
    "df1['Cloudy'] = np.nan\n",
    "df1['Sunny'] = np.nan\n",
    "df1['Clear'] = np.nan\n",
    "df1['Overcast'] = np.nan\n",
    "df1['Rain'] = np.nan\n",
    "df1['Snow'] = np.nan\n",
    "df1['Wind'] = np.nan\n",
    "df1['Thunder Storm'] = np.nan\n",
    "df1['Hot'] = np.nan\n",
    "df1['Humid'] = np.nan\n",
    "df1['Warm'] = np.nan\n",
    "\n",
    "df1.info()"
   ]
  },
  {
   "cell_type": "code",
   "execution_count": 687,
   "metadata": {},
   "outputs": [],
   "source": [
    "# iterate through all the rows of the dataframe with a for loop\n",
    "for index,row in df1.iterrows():\n",
    "    condition = df1.loc[index,'Weather Conditions']\n",
    "    # if the weather condition isn't blank, we will populate the boolean columns\n",
    "    #if condition != ' ':\n",
    "        ###print(condition, 1)\n",
    "        # check if the weather condition is cloudy and assign boolean to 'Cloudy'\n",
    "        #if 'cloud' or 'Cloud' in condition:\n",
    "            #row['Cloudy'] = True\n",
    "        #else:\n",
    "            #row['Cloudy'] = False\n",
    "\n",
    "\n",
    "#df1.head(15)"
   ]
  },
  {
   "cell_type": "markdown",
   "metadata": {},
   "source": [
    "# *** NEED TO COME BACK TO THIS"
   ]
  },
  {
   "cell_type": "markdown",
   "metadata": {},
   "source": [
    "The Equine Death and Breakdown is now clean enough for us to use. We've consolidated some categories and added columns relating to weather condition."
   ]
  },
  {
   "cell_type": "markdown",
   "metadata": {},
   "source": [
    "# Doping History Trainers Dataset\n",
    "\n",
    "I compiled this dataset through my own research. Let's review the contents."
   ]
  },
  {
   "cell_type": "code",
   "execution_count": 688,
   "metadata": {},
   "outputs": [
    {
     "data": {
      "text/html": [
       "<div>\n",
       "<style>\n",
       "    .dataframe thead tr:only-child th {\n",
       "        text-align: right;\n",
       "    }\n",
       "\n",
       "    .dataframe thead th {\n",
       "        text-align: left;\n",
       "    }\n",
       "\n",
       "    .dataframe tbody tr th {\n",
       "        vertical-align: top;\n",
       "    }\n",
       "</style>\n",
       "<table border=\"1\" class=\"dataframe\">\n",
       "  <thead>\n",
       "    <tr style=\"text-align: right;\">\n",
       "      <th></th>\n",
       "      <th>Trainer</th>\n",
       "      <th>Year of Action</th>\n",
       "      <th>Action Description</th>\n",
       "      <th>Source</th>\n",
       "    </tr>\n",
       "  </thead>\n",
       "  <tbody>\n",
       "    <tr>\n",
       "      <th>0</th>\n",
       "      <td>STEVEN M. ASMUSSEN</td>\n",
       "      <td>2015</td>\n",
       "      <td>fined for violating New York State Gaming Comm...</td>\n",
       "      <td>https://www.nytimes.com/2015/11/24/sports/stev...</td>\n",
       "    </tr>\n",
       "    <tr>\n",
       "      <th>1</th>\n",
       "      <td>ANTONIO C. AVILA</td>\n",
       "      <td>2015</td>\n",
       "      <td>suspended and fined for doping a horse</td>\n",
       "      <td>http://www.sandiegouniontribune.com/sports/hor...</td>\n",
       "    </tr>\n",
       "    <tr>\n",
       "      <th>2</th>\n",
       "      <td>MICHAEL S. WEINER</td>\n",
       "      <td>2017</td>\n",
       "      <td>fined for racing four horses at Monticello Rac...</td>\n",
       "      <td>http://www.harnesslink.com/News/Trainer-suspen...</td>\n",
       "    </tr>\n",
       "    <tr>\n",
       "      <th>3</th>\n",
       "      <td>BOB BAFFERT</td>\n",
       "      <td>2013</td>\n",
       "      <td>unproven but misconduct seems likely</td>\n",
       "      <td>http://www.nytimes.com/2013/11/23/sports/despi...</td>\n",
       "    </tr>\n",
       "    <tr>\n",
       "      <th>4</th>\n",
       "      <td>LUIS PENA</td>\n",
       "      <td>2015</td>\n",
       "      <td>banned for three years and fined for more than...</td>\n",
       "      <td>https://www.bloodhorse.com/horse-racing/articl...</td>\n",
       "    </tr>\n",
       "  </tbody>\n",
       "</table>\n",
       "</div>"
      ],
      "text/plain": [
       "              Trainer  Year of Action  \\\n",
       "0  STEVEN M. ASMUSSEN            2015   \n",
       "1    ANTONIO C. AVILA            2015   \n",
       "2   MICHAEL S. WEINER            2017   \n",
       "3         BOB BAFFERT            2013   \n",
       "4           LUIS PENA            2015   \n",
       "\n",
       "                                  Action Description  \\\n",
       "0  fined for violating New York State Gaming Comm...   \n",
       "1             suspended and fined for doping a horse   \n",
       "2  fined for racing four horses at Monticello Rac...   \n",
       "3               unproven but misconduct seems likely   \n",
       "4  banned for three years and fined for more than...   \n",
       "\n",
       "                                              Source  \n",
       "0  https://www.nytimes.com/2015/11/24/sports/stev...  \n",
       "1  http://www.sandiegouniontribune.com/sports/hor...  \n",
       "2  http://www.harnesslink.com/News/Trainer-suspen...  \n",
       "3  http://www.nytimes.com/2013/11/23/sports/despi...  \n",
       "4  https://www.bloodhorse.com/horse-racing/articl...  "
      ]
     },
     "execution_count": 688,
     "metadata": {},
     "output_type": "execute_result"
    }
   ],
   "source": [
    "# load the dataset as a dataframe\n",
    "df2 = pd.read_csv('Doping_History_Trainers.csv',sep=';')\n",
    "df2.head()"
   ]
  },
  {
   "cell_type": "code",
   "execution_count": 689,
   "metadata": {},
   "outputs": [
    {
     "name": "stdout",
     "output_type": "stream",
     "text": [
      "<class 'pandas.core.frame.DataFrame'>\n",
      "RangeIndex: 24 entries, 0 to 23\n",
      "Data columns (total 4 columns):\n",
      "Trainer               24 non-null object\n",
      "Year of Action        24 non-null int64\n",
      "Action Description    24 non-null object\n",
      "Source                24 non-null object\n",
      "dtypes: int64(1), object(3)\n",
      "memory usage: 848.0+ bytes\n"
     ]
    }
   ],
   "source": [
    "# use the info() method to identify size and datatypes of the dataframe\n",
    "df2.info()"
   ]
  },
  {
   "cell_type": "code",
   "execution_count": 690,
   "metadata": {},
   "outputs": [
    {
     "data": {
      "text/plain": [
       "Index(['Trainer', 'Year of Action', 'Action Description', 'Source'], dtype='object')"
      ]
     },
     "execution_count": 690,
     "metadata": {},
     "output_type": "execute_result"
    }
   ],
   "source": [
    "# check the column names\n",
    "df2.columns"
   ]
  },
  {
   "cell_type": "code",
   "execution_count": 691,
   "metadata": {},
   "outputs": [
    {
     "data": {
      "text/plain": [
       "(24, 4)"
      ]
     },
     "execution_count": 691,
     "metadata": {},
     "output_type": "execute_result"
    }
   ],
   "source": [
    "# check the shape of the dataframe\n",
    "df2.shape"
   ]
  },
  {
   "cell_type": "markdown",
   "metadata": {},
   "source": [
    "This is a much smaller dataset than the Equine Death and Breakdown dataset. Since I had compiled this csv file myself, it's already looks the way I would want it to. The datatypes for each column are correct and I don't have any other changes to make."
   ]
  },
  {
   "cell_type": "markdown",
   "metadata": {},
   "source": [
    "# Merging the Data\n",
    "\n",
    "For my final dataset, I want to do a left join between the Equine Death and Breakdown dataframe (df1) and the Doping History Trainers dataframe (df2). The data will be merged on the trainer names, in the column 'Trainer' (same column name in both datasets). To check that the data was properly merged, we'll check whether data for the trainer 'STEVEN M. ASMUSSEN' is properly displayed."
   ]
  },
  {
   "cell_type": "code",
   "execution_count": 692,
   "metadata": {},
   "outputs": [
    {
     "data": {
      "text/html": [
       "<div>\n",
       "<style>\n",
       "    .dataframe thead tr:only-child th {\n",
       "        text-align: right;\n",
       "    }\n",
       "\n",
       "    .dataframe thead th {\n",
       "        text-align: left;\n",
       "    }\n",
       "\n",
       "    .dataframe tbody tr th {\n",
       "        vertical-align: top;\n",
       "    }\n",
       "</style>\n",
       "<table border=\"1\" class=\"dataframe\">\n",
       "  <thead>\n",
       "    <tr style=\"text-align: right;\">\n",
       "      <th></th>\n",
       "      <th>Year</th>\n",
       "      <th>Incident Date</th>\n",
       "      <th>Incident Type</th>\n",
       "      <th>Track</th>\n",
       "      <th>Inv Location</th>\n",
       "      <th>Racing Type Description</th>\n",
       "      <th>Division</th>\n",
       "      <th>Weather Conditions</th>\n",
       "      <th>Horse</th>\n",
       "      <th>Trainer</th>\n",
       "      <th>...</th>\n",
       "      <th>Rain</th>\n",
       "      <th>Snow</th>\n",
       "      <th>Wind</th>\n",
       "      <th>Thunder Storm</th>\n",
       "      <th>Hot</th>\n",
       "      <th>Humid</th>\n",
       "      <th>Warm</th>\n",
       "      <th>Year of Action</th>\n",
       "      <th>Action Description</th>\n",
       "      <th>Source</th>\n",
       "    </tr>\n",
       "  </thead>\n",
       "  <tbody>\n",
       "    <tr>\n",
       "      <th>0</th>\n",
       "      <td>2009</td>\n",
       "      <td>2009-03-04</td>\n",
       "      <td>EQUINE DEATH</td>\n",
       "      <td>Aqueduct Racetrack (NYRA)</td>\n",
       "      <td>Aqueduct</td>\n",
       "      <td>Racing</td>\n",
       "      <td>Thoroughbred</td>\n",
       "      <td></td>\n",
       "      <td>Private Details</td>\n",
       "      <td>JOHN P. TERRANOVA II</td>\n",
       "      <td>...</td>\n",
       "      <td>NaN</td>\n",
       "      <td>NaN</td>\n",
       "      <td>NaN</td>\n",
       "      <td>NaN</td>\n",
       "      <td>NaN</td>\n",
       "      <td>NaN</td>\n",
       "      <td>NaN</td>\n",
       "      <td>NaN</td>\n",
       "      <td>NaN</td>\n",
       "      <td>NaN</td>\n",
       "    </tr>\n",
       "    <tr>\n",
       "      <th>1</th>\n",
       "      <td>2009</td>\n",
       "      <td>2009-03-04</td>\n",
       "      <td>ACCIDENT - ON TRACK</td>\n",
       "      <td>Aqueduct Racetrack (NYRA)</td>\n",
       "      <td></td>\n",
       "      <td>Racing</td>\n",
       "      <td>Thoroughbred</td>\n",
       "      <td></td>\n",
       "      <td>Private Details</td>\n",
       "      <td>JOHN P. TERRANOVA II</td>\n",
       "      <td>...</td>\n",
       "      <td>NaN</td>\n",
       "      <td>NaN</td>\n",
       "      <td>NaN</td>\n",
       "      <td>NaN</td>\n",
       "      <td>NaN</td>\n",
       "      <td>NaN</td>\n",
       "      <td>NaN</td>\n",
       "      <td>NaN</td>\n",
       "      <td>NaN</td>\n",
       "      <td>NaN</td>\n",
       "    </tr>\n",
       "    <tr>\n",
       "      <th>2</th>\n",
       "      <td>2009</td>\n",
       "      <td>2009-03-04</td>\n",
       "      <td>ACCIDENT - ON TRACK</td>\n",
       "      <td>Aqueduct Racetrack (NYRA)</td>\n",
       "      <td>Aqueduct</td>\n",
       "      <td>Racing</td>\n",
       "      <td>Thoroughbred</td>\n",
       "      <td></td>\n",
       "      <td>All Bets Off</td>\n",
       "      <td>B E. LEVINE</td>\n",
       "      <td>...</td>\n",
       "      <td>NaN</td>\n",
       "      <td>NaN</td>\n",
       "      <td>NaN</td>\n",
       "      <td>NaN</td>\n",
       "      <td>NaN</td>\n",
       "      <td>NaN</td>\n",
       "      <td>NaN</td>\n",
       "      <td>NaN</td>\n",
       "      <td>NaN</td>\n",
       "      <td>NaN</td>\n",
       "    </tr>\n",
       "    <tr>\n",
       "      <th>3</th>\n",
       "      <td>2009</td>\n",
       "      <td>2009-03-04</td>\n",
       "      <td>ACCIDENT - ON TRACK</td>\n",
       "      <td>Aqueduct Racetrack (NYRA)</td>\n",
       "      <td>Aqueduct</td>\n",
       "      <td>Racing</td>\n",
       "      <td>Thoroughbred</td>\n",
       "      <td></td>\n",
       "      <td>Hot Chile Soup</td>\n",
       "      <td>ENRIQUE ARROYO</td>\n",
       "      <td>...</td>\n",
       "      <td>NaN</td>\n",
       "      <td>NaN</td>\n",
       "      <td>NaN</td>\n",
       "      <td>NaN</td>\n",
       "      <td>NaN</td>\n",
       "      <td>NaN</td>\n",
       "      <td>NaN</td>\n",
       "      <td>NaN</td>\n",
       "      <td>NaN</td>\n",
       "      <td>NaN</td>\n",
       "    </tr>\n",
       "    <tr>\n",
       "      <th>4</th>\n",
       "      <td>2009</td>\n",
       "      <td>2009-03-04</td>\n",
       "      <td>ACCIDENT - ON TRACK</td>\n",
       "      <td>Aqueduct Racetrack (NYRA)</td>\n",
       "      <td>Aqueduct</td>\n",
       "      <td>Racing</td>\n",
       "      <td>Thoroughbred</td>\n",
       "      <td></td>\n",
       "      <td>One Dream Union</td>\n",
       "      <td>BRUCE R. BROWN</td>\n",
       "      <td>...</td>\n",
       "      <td>NaN</td>\n",
       "      <td>NaN</td>\n",
       "      <td>NaN</td>\n",
       "      <td>NaN</td>\n",
       "      <td>NaN</td>\n",
       "      <td>NaN</td>\n",
       "      <td>NaN</td>\n",
       "      <td>NaN</td>\n",
       "      <td>NaN</td>\n",
       "      <td>NaN</td>\n",
       "    </tr>\n",
       "  </tbody>\n",
       "</table>\n",
       "<p>5 rows × 27 columns</p>\n",
       "</div>"
      ],
      "text/plain": [
       "   Year Incident Date        Incident Type                      Track  \\\n",
       "0  2009    2009-03-04         EQUINE DEATH  Aqueduct Racetrack (NYRA)   \n",
       "1  2009    2009-03-04  ACCIDENT - ON TRACK  Aqueduct Racetrack (NYRA)   \n",
       "2  2009    2009-03-04  ACCIDENT - ON TRACK  Aqueduct Racetrack (NYRA)   \n",
       "3  2009    2009-03-04  ACCIDENT - ON TRACK  Aqueduct Racetrack (NYRA)   \n",
       "4  2009    2009-03-04  ACCIDENT - ON TRACK  Aqueduct Racetrack (NYRA)   \n",
       "\n",
       "  Inv Location Racing Type Description      Division Weather Conditions  \\\n",
       "0     Aqueduct                  Racing  Thoroughbred                      \n",
       "1                               Racing  Thoroughbred                      \n",
       "2     Aqueduct                  Racing  Thoroughbred                      \n",
       "3     Aqueduct                  Racing  Thoroughbred                      \n",
       "4     Aqueduct                  Racing  Thoroughbred                      \n",
       "\n",
       "             Horse               Trainer   ...   Rain Snow Wind  \\\n",
       "0  Private Details  JOHN P. TERRANOVA II   ...    NaN  NaN  NaN   \n",
       "1  Private Details  JOHN P. TERRANOVA II   ...    NaN  NaN  NaN   \n",
       "2     All Bets Off           B E. LEVINE   ...    NaN  NaN  NaN   \n",
       "3   Hot Chile Soup        ENRIQUE ARROYO   ...    NaN  NaN  NaN   \n",
       "4  One Dream Union        BRUCE R. BROWN   ...    NaN  NaN  NaN   \n",
       "\n",
       "   Thunder Storm  Hot  Humid  Warm  Year of Action  Action Description  Source  \n",
       "0            NaN  NaN    NaN   NaN             NaN                 NaN     NaN  \n",
       "1            NaN  NaN    NaN   NaN             NaN                 NaN     NaN  \n",
       "2            NaN  NaN    NaN   NaN             NaN                 NaN     NaN  \n",
       "3            NaN  NaN    NaN   NaN             NaN                 NaN     NaN  \n",
       "4            NaN  NaN    NaN   NaN             NaN                 NaN     NaN  \n",
       "\n",
       "[5 rows x 27 columns]"
      ]
     },
     "execution_count": 692,
     "metadata": {},
     "output_type": "execute_result"
    }
   ],
   "source": [
    "# merge the two dataframes on 'Trainer'\n",
    "finaldf = df1.merge(df2,on='Trainer',how='left')\n",
    "finaldf.head()"
   ]
  },
  {
   "cell_type": "code",
   "execution_count": 693,
   "metadata": {},
   "outputs": [
    {
     "data": {
      "text/html": [
       "<div>\n",
       "<style>\n",
       "    .dataframe thead tr:only-child th {\n",
       "        text-align: right;\n",
       "    }\n",
       "\n",
       "    .dataframe thead th {\n",
       "        text-align: left;\n",
       "    }\n",
       "\n",
       "    .dataframe tbody tr th {\n",
       "        vertical-align: top;\n",
       "    }\n",
       "</style>\n",
       "<table border=\"1\" class=\"dataframe\">\n",
       "  <thead>\n",
       "    <tr style=\"text-align: right;\">\n",
       "      <th></th>\n",
       "      <th>Year</th>\n",
       "      <th>Incident Date</th>\n",
       "      <th>Incident Type</th>\n",
       "      <th>Track</th>\n",
       "      <th>Inv Location</th>\n",
       "      <th>Racing Type Description</th>\n",
       "      <th>Division</th>\n",
       "      <th>Weather Conditions</th>\n",
       "      <th>Horse</th>\n",
       "      <th>Trainer</th>\n",
       "      <th>...</th>\n",
       "      <th>Rain</th>\n",
       "      <th>Snow</th>\n",
       "      <th>Wind</th>\n",
       "      <th>Thunder Storm</th>\n",
       "      <th>Hot</th>\n",
       "      <th>Humid</th>\n",
       "      <th>Warm</th>\n",
       "      <th>Year of Action</th>\n",
       "      <th>Action Description</th>\n",
       "      <th>Source</th>\n",
       "    </tr>\n",
       "  </thead>\n",
       "  <tbody>\n",
       "    <tr>\n",
       "      <th>34</th>\n",
       "      <td>2009</td>\n",
       "      <td>2009-04-28</td>\n",
       "      <td>EQUINE DEATH</td>\n",
       "      <td>Belmont Park (NYRA)</td>\n",
       "      <td>1mile 1/4</td>\n",
       "      <td>Training</td>\n",
       "      <td>Thoroughbred</td>\n",
       "      <td>Clear</td>\n",
       "      <td>Timberah</td>\n",
       "      <td>STEVEN M. ASMUSSEN</td>\n",
       "      <td>...</td>\n",
       "      <td>NaN</td>\n",
       "      <td>NaN</td>\n",
       "      <td>NaN</td>\n",
       "      <td>NaN</td>\n",
       "      <td>NaN</td>\n",
       "      <td>NaN</td>\n",
       "      <td>NaN</td>\n",
       "      <td>2015.0</td>\n",
       "      <td>fined for violating New York State Gaming Comm...</td>\n",
       "      <td>https://www.nytimes.com/2015/11/24/sports/stev...</td>\n",
       "    </tr>\n",
       "    <tr>\n",
       "      <th>207</th>\n",
       "      <td>2009</td>\n",
       "      <td>2009-08-29</td>\n",
       "      <td>STEWARDS/VETS LIST</td>\n",
       "      <td>Saratoga Racecourse (NYRA)</td>\n",
       "      <td>5/8 Pole.</td>\n",
       "      <td>Racing</td>\n",
       "      <td>Thoroughbred</td>\n",
       "      <td>Cloudy</td>\n",
       "      <td>Cairiene</td>\n",
       "      <td>STEVEN M. ASMUSSEN</td>\n",
       "      <td>...</td>\n",
       "      <td>NaN</td>\n",
       "      <td>NaN</td>\n",
       "      <td>NaN</td>\n",
       "      <td>NaN</td>\n",
       "      <td>NaN</td>\n",
       "      <td>NaN</td>\n",
       "      <td>NaN</td>\n",
       "      <td>2015.0</td>\n",
       "      <td>fined for violating New York State Gaming Comm...</td>\n",
       "      <td>https://www.nytimes.com/2015/11/24/sports/stev...</td>\n",
       "    </tr>\n",
       "    <tr>\n",
       "      <th>208</th>\n",
       "      <td>2009</td>\n",
       "      <td>2009-08-29</td>\n",
       "      <td>STEWARDS/VETS LIST</td>\n",
       "      <td>Saratoga Racecourse (NYRA)</td>\n",
       "      <td>5/8 Pole.</td>\n",
       "      <td>Unknown</td>\n",
       "      <td>Thoroughbred</td>\n",
       "      <td>Cloudy</td>\n",
       "      <td>Cairiene</td>\n",
       "      <td>STEVEN M. ASMUSSEN</td>\n",
       "      <td>...</td>\n",
       "      <td>NaN</td>\n",
       "      <td>NaN</td>\n",
       "      <td>NaN</td>\n",
       "      <td>NaN</td>\n",
       "      <td>NaN</td>\n",
       "      <td>NaN</td>\n",
       "      <td>NaN</td>\n",
       "      <td>2015.0</td>\n",
       "      <td>fined for violating New York State Gaming Comm...</td>\n",
       "      <td>https://www.nytimes.com/2015/11/24/sports/stev...</td>\n",
       "    </tr>\n",
       "    <tr>\n",
       "      <th>339</th>\n",
       "      <td>2010</td>\n",
       "      <td>2010-01-01</td>\n",
       "      <td>FALL OF RIDER</td>\n",
       "      <td>Aqueduct Racetrack (NYRA)</td>\n",
       "      <td>At start of race.</td>\n",
       "      <td>Racing</td>\n",
       "      <td>Thoroughbred</td>\n",
       "      <td>Cloudy</td>\n",
       "      <td>Raffie's Deer</td>\n",
       "      <td>STEVEN M. ASMUSSEN</td>\n",
       "      <td>...</td>\n",
       "      <td>NaN</td>\n",
       "      <td>NaN</td>\n",
       "      <td>NaN</td>\n",
       "      <td>NaN</td>\n",
       "      <td>NaN</td>\n",
       "      <td>NaN</td>\n",
       "      <td>NaN</td>\n",
       "      <td>2015.0</td>\n",
       "      <td>fined for violating New York State Gaming Comm...</td>\n",
       "      <td>https://www.nytimes.com/2015/11/24/sports/stev...</td>\n",
       "    </tr>\n",
       "    <tr>\n",
       "      <th>590</th>\n",
       "      <td>2010</td>\n",
       "      <td>2010-08-09</td>\n",
       "      <td>EQUINE DEATH</td>\n",
       "      <td>Belmont Park (NYRA)</td>\n",
       "      <td>1/8 pole</td>\n",
       "      <td>Training</td>\n",
       "      <td>Thoroughbred</td>\n",
       "      <td>Clear 83*</td>\n",
       "      <td>Edwards</td>\n",
       "      <td>STEVEN M. ASMUSSEN</td>\n",
       "      <td>...</td>\n",
       "      <td>NaN</td>\n",
       "      <td>NaN</td>\n",
       "      <td>NaN</td>\n",
       "      <td>NaN</td>\n",
       "      <td>NaN</td>\n",
       "      <td>NaN</td>\n",
       "      <td>NaN</td>\n",
       "      <td>2015.0</td>\n",
       "      <td>fined for violating New York State Gaming Comm...</td>\n",
       "      <td>https://www.nytimes.com/2015/11/24/sports/stev...</td>\n",
       "    </tr>\n",
       "  </tbody>\n",
       "</table>\n",
       "<p>5 rows × 27 columns</p>\n",
       "</div>"
      ],
      "text/plain": [
       "     Year Incident Date       Incident Type                       Track  \\\n",
       "34   2009    2009-04-28        EQUINE DEATH         Belmont Park (NYRA)   \n",
       "207  2009    2009-08-29  STEWARDS/VETS LIST  Saratoga Racecourse (NYRA)   \n",
       "208  2009    2009-08-29  STEWARDS/VETS LIST  Saratoga Racecourse (NYRA)   \n",
       "339  2010    2010-01-01       FALL OF RIDER   Aqueduct Racetrack (NYRA)   \n",
       "590  2010    2010-08-09        EQUINE DEATH         Belmont Park (NYRA)   \n",
       "\n",
       "          Inv Location Racing Type Description      Division  \\\n",
       "34           1mile 1/4                Training  Thoroughbred   \n",
       "207          5/8 Pole.                  Racing  Thoroughbred   \n",
       "208          5/8 Pole.                 Unknown  Thoroughbred   \n",
       "339  At start of race.                  Racing  Thoroughbred   \n",
       "590           1/8 pole                Training  Thoroughbred   \n",
       "\n",
       "    Weather Conditions          Horse             Trainer  \\\n",
       "34               Clear       Timberah  STEVEN M. ASMUSSEN   \n",
       "207             Cloudy       Cairiene  STEVEN M. ASMUSSEN   \n",
       "208             Cloudy       Cairiene  STEVEN M. ASMUSSEN   \n",
       "339             Cloudy  Raffie's Deer  STEVEN M. ASMUSSEN   \n",
       "590          Clear 83*        Edwards  STEVEN M. ASMUSSEN   \n",
       "\n",
       "                           ...                         Rain Snow Wind  \\\n",
       "34                         ...                          NaN  NaN  NaN   \n",
       "207                        ...                          NaN  NaN  NaN   \n",
       "208                        ...                          NaN  NaN  NaN   \n",
       "339                        ...                          NaN  NaN  NaN   \n",
       "590                        ...                          NaN  NaN  NaN   \n",
       "\n",
       "     Thunder Storm  Hot  Humid  Warm  Year of Action  \\\n",
       "34             NaN  NaN    NaN   NaN          2015.0   \n",
       "207            NaN  NaN    NaN   NaN          2015.0   \n",
       "208            NaN  NaN    NaN   NaN          2015.0   \n",
       "339            NaN  NaN    NaN   NaN          2015.0   \n",
       "590            NaN  NaN    NaN   NaN          2015.0   \n",
       "\n",
       "                                    Action Description  \\\n",
       "34   fined for violating New York State Gaming Comm...   \n",
       "207  fined for violating New York State Gaming Comm...   \n",
       "208  fined for violating New York State Gaming Comm...   \n",
       "339  fined for violating New York State Gaming Comm...   \n",
       "590  fined for violating New York State Gaming Comm...   \n",
       "\n",
       "                                                Source  \n",
       "34   https://www.nytimes.com/2015/11/24/sports/stev...  \n",
       "207  https://www.nytimes.com/2015/11/24/sports/stev...  \n",
       "208  https://www.nytimes.com/2015/11/24/sports/stev...  \n",
       "339  https://www.nytimes.com/2015/11/24/sports/stev...  \n",
       "590  https://www.nytimes.com/2015/11/24/sports/stev...  \n",
       "\n",
       "[5 rows x 27 columns]"
      ]
     },
     "execution_count": 693,
     "metadata": {},
     "output_type": "execute_result"
    }
   ],
   "source": [
    "# check the first trainer name that appears in the doping data set to check that it's properly merged\n",
    "finaldf.loc[finaldf['Trainer'] == 'STEVEN M. ASMUSSEN'].head()"
   ]
  },
  {
   "cell_type": "code",
   "execution_count": 694,
   "metadata": {},
   "outputs": [
    {
     "name": "stdout",
     "output_type": "stream",
     "text": [
      "<class 'pandas.core.frame.DataFrame'>\n",
      "Int64Index: 3218 entries, 0 to 3217\n",
      "Data columns (total 27 columns):\n",
      "Year                       3218 non-null int64\n",
      "Incident Date              3218 non-null datetime64[ns]\n",
      "Incident Type              3218 non-null category\n",
      "Track                      3218 non-null category\n",
      "Inv Location               3216 non-null object\n",
      "Racing Type Description    3218 non-null category\n",
      "Division                   3218 non-null category\n",
      "Weather Conditions         3171 non-null object\n",
      "Horse                      3218 non-null object\n",
      "Trainer                    3218 non-null object\n",
      "Jockey Driver              3218 non-null object\n",
      "Incident Description       3218 non-null object\n",
      "Death or Injury            3217 non-null category\n",
      "Cloudy                     0 non-null float64\n",
      "Sunny                      0 non-null float64\n",
      "Clear                      0 non-null float64\n",
      "Overcast                   0 non-null float64\n",
      "Rain                       0 non-null float64\n",
      "Snow                       0 non-null float64\n",
      "Wind                       0 non-null float64\n",
      "Thunder Storm              0 non-null float64\n",
      "Hot                        0 non-null float64\n",
      "Humid                      0 non-null float64\n",
      "Warm                       0 non-null float64\n",
      "Year of Action             189 non-null float64\n",
      "Action Description         189 non-null object\n",
      "Source                     189 non-null object\n",
      "dtypes: category(5), datetime64[ns](1), float64(12), int64(1), object(8)\n",
      "memory usage: 595.4+ KB\n"
     ]
    }
   ],
   "source": [
    "# check the datatypes of all the columns\n",
    "finaldf.info()"
   ]
  },
  {
   "cell_type": "markdown",
   "metadata": {},
   "source": [
    "It looks like the 'Year of Action' was converted to a float. This occurred because of the empty rows being filled with null values.\n",
    "\n",
    "Everything seems to be in place. Now we just need to export this to a new csv file."
   ]
  },
  {
   "cell_type": "code",
   "execution_count": 697,
   "metadata": {},
   "outputs": [],
   "source": [
    "# export finaldf to csv file\n",
    "finaldf.to_csv('Equine_Breakdown_Death_Doping.csv')"
   ]
  },
  {
   "cell_type": "code",
   "execution_count": null,
   "metadata": {
    "collapsed": true
   },
   "outputs": [],
   "source": []
  }
 ],
 "metadata": {
  "kernelspec": {
   "display_name": "Python 3",
   "language": "python",
   "name": "python3"
  },
  "language_info": {
   "codemirror_mode": {
    "name": "ipython",
    "version": 3
   },
   "file_extension": ".py",
   "mimetype": "text/x-python",
   "name": "python",
   "nbconvert_exporter": "python",
   "pygments_lexer": "ipython3",
   "version": "3.6.2"
  }
 },
 "nbformat": 4,
 "nbformat_minor": 2
}
