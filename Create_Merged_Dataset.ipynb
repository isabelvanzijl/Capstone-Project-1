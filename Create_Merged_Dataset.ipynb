{
 "cells": [
  {
   "cell_type": "markdown",
   "metadata": {},
   "source": [
    "# Data Wrangling\n",
    "\n",
    "For this project, I'll be analyzing data from two datasets. The first is the 'Equine Death and Breakdown' dataset provided by the New York State Gaming Commission. The second is a dataset I compiled myself through my own research on various trainers whether they have a history of drugging their horses. I created this dataset by researching which trainers have been suspended or fined after one or more of their horses had been drug tested and found with traces of drugs over the legal limit (article sources provided in dataset).\n",
    "\n",
    "For a complete dataset that I will use for my project, I will merge the two datasets together on the trainer names. I will also expand upon different variables in the 'Weather Conditions' and 'Incident Description' columns in order to further test whether those factors are significant."
   ]
  },
  {
   "cell_type": "code",
   "execution_count": 249,
   "metadata": {},
   "outputs": [],
   "source": [
    "# import packages\n",
    "import pandas as pd\n",
    "import numpy as np"
   ]
  },
  {
   "cell_type": "markdown",
   "metadata": {},
   "source": [
    "# Equine Death and Breakdown Dataset\n",
    "\n",
    "Before merging our two datasets, I will clean the Equine Death and Breakdown dataset and study its contents. I will set the index of the data frame to the 'Incident Date' since I'm generally looking to study how horse deaths and injuries have changed over time."
   ]
  },
  {
   "cell_type": "code",
   "execution_count": 250,
   "metadata": {},
   "outputs": [
    {
     "data": {
      "text/html": [
       "<div>\n",
       "<style>\n",
       "    .dataframe thead tr:only-child th {\n",
       "        text-align: right;\n",
       "    }\n",
       "\n",
       "    .dataframe thead th {\n",
       "        text-align: left;\n",
       "    }\n",
       "\n",
       "    .dataframe tbody tr th {\n",
       "        vertical-align: top;\n",
       "    }\n",
       "</style>\n",
       "<table border=\"1\" class=\"dataframe\">\n",
       "  <thead>\n",
       "    <tr style=\"text-align: right;\">\n",
       "      <th></th>\n",
       "      <th>Year</th>\n",
       "      <th>Incident Type</th>\n",
       "      <th>Track</th>\n",
       "      <th>Inv Location</th>\n",
       "      <th>Racing Type Description</th>\n",
       "      <th>Division</th>\n",
       "      <th>Weather Conditions</th>\n",
       "      <th>Horse</th>\n",
       "      <th>Trainer</th>\n",
       "      <th>Jockey Driver</th>\n",
       "      <th>Incident Description</th>\n",
       "      <th>Death or Injury</th>\n",
       "    </tr>\n",
       "    <tr>\n",
       "      <th>Incident Date</th>\n",
       "      <th></th>\n",
       "      <th></th>\n",
       "      <th></th>\n",
       "      <th></th>\n",
       "      <th></th>\n",
       "      <th></th>\n",
       "      <th></th>\n",
       "      <th></th>\n",
       "      <th></th>\n",
       "      <th></th>\n",
       "      <th></th>\n",
       "      <th></th>\n",
       "    </tr>\n",
       "  </thead>\n",
       "  <tbody>\n",
       "    <tr>\n",
       "      <th>2009-03-04</th>\n",
       "      <td>2009</td>\n",
       "      <td>EQUINE DEATH</td>\n",
       "      <td>Aqueduct Racetrack (NYRA)</td>\n",
       "      <td>Aqueduct</td>\n",
       "      <td>Racing</td>\n",
       "      <td>Thoroughbred</td>\n",
       "      <td></td>\n",
       "      <td>Private Details</td>\n",
       "      <td>JOHN P. TERRANOVA II</td>\n",
       "      <td></td>\n",
       "      <td>Private Details-Tr. John Terranova-fell on tra...</td>\n",
       "      <td>Euthanasia</td>\n",
       "    </tr>\n",
       "    <tr>\n",
       "      <th>2009-03-04</th>\n",
       "      <td>2009</td>\n",
       "      <td>ON-TRACK ACCIDENT</td>\n",
       "      <td>Aqueduct Racetrack (NYRA)</td>\n",
       "      <td></td>\n",
       "      <td>Racing</td>\n",
       "      <td>Thoroughbred</td>\n",
       "      <td></td>\n",
       "      <td>Private Details</td>\n",
       "      <td>JOHN P. TERRANOVA II</td>\n",
       "      <td></td>\n",
       "      <td>Private Details-Tr. John Terranova-fell  fx LF...</td>\n",
       "      <td></td>\n",
       "    </tr>\n",
       "    <tr>\n",
       "      <th>2009-03-04</th>\n",
       "      <td>2009</td>\n",
       "      <td>ON-TRACK ACCIDENT</td>\n",
       "      <td>Aqueduct Racetrack (NYRA)</td>\n",
       "      <td>Aqueduct</td>\n",
       "      <td>Racing</td>\n",
       "      <td>Thoroughbred</td>\n",
       "      <td></td>\n",
       "      <td>All Bets Off</td>\n",
       "      <td>B E. LEVINE</td>\n",
       "      <td></td>\n",
       "      <td>All Bets Off-Tr. Bruce Levine-fell over downed...</td>\n",
       "      <td></td>\n",
       "    </tr>\n",
       "    <tr>\n",
       "      <th>2009-03-04</th>\n",
       "      <td>2009</td>\n",
       "      <td>ON-TRACK ACCIDENT</td>\n",
       "      <td>Aqueduct Racetrack (NYRA)</td>\n",
       "      <td>Aqueduct</td>\n",
       "      <td>Racing</td>\n",
       "      <td>Thoroughbred</td>\n",
       "      <td></td>\n",
       "      <td>Hot Chile Soup</td>\n",
       "      <td>ENRIQUE ARROYO</td>\n",
       "      <td></td>\n",
       "      <td>Hot Chile Soup-Tr. Enrique Arroyo-fell over do...</td>\n",
       "      <td></td>\n",
       "    </tr>\n",
       "    <tr>\n",
       "      <th>2009-03-04</th>\n",
       "      <td>2009</td>\n",
       "      <td>ON-TRACK ACCIDENT</td>\n",
       "      <td>Aqueduct Racetrack (NYRA)</td>\n",
       "      <td>Aqueduct</td>\n",
       "      <td>Racing</td>\n",
       "      <td>Thoroughbred</td>\n",
       "      <td></td>\n",
       "      <td>One Dream Union</td>\n",
       "      <td>BRUCE R. BROWN</td>\n",
       "      <td></td>\n",
       "      <td>One Dream Union-Tr. Bruce Brown-fell over down...</td>\n",
       "      <td></td>\n",
       "    </tr>\n",
       "  </tbody>\n",
       "</table>\n",
       "</div>"
      ],
      "text/plain": [
       "               Year      Incident Type                      Track  \\\n",
       "Incident Date                                                       \n",
       "2009-03-04     2009       EQUINE DEATH  Aqueduct Racetrack (NYRA)   \n",
       "2009-03-04     2009  ON-TRACK ACCIDENT  Aqueduct Racetrack (NYRA)   \n",
       "2009-03-04     2009  ON-TRACK ACCIDENT  Aqueduct Racetrack (NYRA)   \n",
       "2009-03-04     2009  ON-TRACK ACCIDENT  Aqueduct Racetrack (NYRA)   \n",
       "2009-03-04     2009  ON-TRACK ACCIDENT  Aqueduct Racetrack (NYRA)   \n",
       "\n",
       "              Inv Location Racing Type Description      Division  \\\n",
       "Incident Date                                                      \n",
       "2009-03-04        Aqueduct                  Racing  Thoroughbred   \n",
       "2009-03-04                                  Racing  Thoroughbred   \n",
       "2009-03-04        Aqueduct                  Racing  Thoroughbred   \n",
       "2009-03-04        Aqueduct                  Racing  Thoroughbred   \n",
       "2009-03-04        Aqueduct                  Racing  Thoroughbred   \n",
       "\n",
       "              Weather Conditions            Horse               Trainer  \\\n",
       "Incident Date                                                             \n",
       "2009-03-04                        Private Details  JOHN P. TERRANOVA II   \n",
       "2009-03-04                        Private Details  JOHN P. TERRANOVA II   \n",
       "2009-03-04                           All Bets Off           B E. LEVINE   \n",
       "2009-03-04                         Hot Chile Soup        ENRIQUE ARROYO   \n",
       "2009-03-04                        One Dream Union        BRUCE R. BROWN   \n",
       "\n",
       "              Jockey Driver  \\\n",
       "Incident Date                 \n",
       "2009-03-04                    \n",
       "2009-03-04                    \n",
       "2009-03-04                    \n",
       "2009-03-04                    \n",
       "2009-03-04                    \n",
       "\n",
       "                                            Incident Description  \\\n",
       "Incident Date                                                      \n",
       "2009-03-04     Private Details-Tr. John Terranova-fell on tra...   \n",
       "2009-03-04     Private Details-Tr. John Terranova-fell  fx LF...   \n",
       "2009-03-04     All Bets Off-Tr. Bruce Levine-fell over downed...   \n",
       "2009-03-04     Hot Chile Soup-Tr. Enrique Arroyo-fell over do...   \n",
       "2009-03-04     One Dream Union-Tr. Bruce Brown-fell over down...   \n",
       "\n",
       "              Death or Injury  \n",
       "Incident Date                  \n",
       "2009-03-04         Euthanasia  \n",
       "2009-03-04                     \n",
       "2009-03-04                     \n",
       "2009-03-04                     \n",
       "2009-03-04                     "
      ]
     },
     "execution_count": 250,
     "metadata": {},
     "output_type": "execute_result"
    }
   ],
   "source": [
    "# load the dataset as a dataframe, , index_col='Incident Date', parse_dates=True\n",
    "df1 = pd.read_csv('Equine_Death_and_Breakdown.csv', index_col='Incident Date', parse_dates=True)\n",
    "df1.head()"
   ]
  },
  {
   "cell_type": "code",
   "execution_count": 251,
   "metadata": {},
   "outputs": [
    {
     "name": "stdout",
     "output_type": "stream",
     "text": [
      "<class 'pandas.core.frame.DataFrame'>\n",
      "DatetimeIndex: 3218 entries, 2009-03-04 to 2017-10-01\n",
      "Data columns (total 12 columns):\n",
      "Year                       3218 non-null int64\n",
      "Incident Type              3218 non-null object\n",
      "Track                      3218 non-null object\n",
      "Inv Location               3216 non-null object\n",
      "Racing Type Description    3218 non-null object\n",
      "Division                   3218 non-null object\n",
      "Weather Conditions         3171 non-null object\n",
      "Horse                      3218 non-null object\n",
      "Trainer                    3218 non-null object\n",
      "Jockey Driver              3218 non-null object\n",
      "Incident Description       3218 non-null object\n",
      "Death or Injury            3217 non-null object\n",
      "dtypes: int64(1), object(11)\n",
      "memory usage: 326.8+ KB\n"
     ]
    }
   ],
   "source": [
    "# use the info() method to identify size and datatypes of the dataframe\n",
    "df1.info()"
   ]
  },
  {
   "cell_type": "code",
   "execution_count": 252,
   "metadata": {},
   "outputs": [
    {
     "data": {
      "text/plain": [
       "Index(['Year', 'Incident Type', 'Track', 'Inv Location',\n",
       "       'Racing Type Description', 'Division', 'Weather Conditions', 'Horse',\n",
       "       'Trainer', 'Jockey Driver', 'Incident Description', 'Death or Injury'],\n",
       "      dtype='object')"
      ]
     },
     "execution_count": 252,
     "metadata": {},
     "output_type": "execute_result"
    }
   ],
   "source": [
    "# check the column names\n",
    "df1.columns"
   ]
  },
  {
   "cell_type": "code",
   "execution_count": 253,
   "metadata": {},
   "outputs": [
    {
     "data": {
      "text/plain": [
       "(3218, 12)"
      ]
     },
     "execution_count": 253,
     "metadata": {},
     "output_type": "execute_result"
    }
   ],
   "source": [
    "# check the shape of the dataframe\n",
    "df1.shape"
   ]
  },
  {
   "cell_type": "markdown",
   "metadata": {},
   "source": [
    "Our dataframe has 3,218 rows and 12 columns (13 if you include the index column). Since most of the data is categorical, let's check to see that the categories in various columns aren't mispelled and creating more values than necessary."
   ]
  },
  {
   "cell_type": "code",
   "execution_count": 254,
   "metadata": {},
   "outputs": [
    {
     "data": {
      "text/plain": [
       "Incident Type\n",
       "ACCIDENT - DRIVER/JOCKEY               10\n",
       "ACCIDENT - IN STARTING GATE            22\n",
       "ACCIDENT - ON TRACK                   107\n",
       "ACCIDENT - TAGGED SULKY                56\n",
       "DRIVER/JOCKEY INJURED                   7\n",
       "EQUINE DEATH                         1219\n",
       "EQUINE DEATH - INFECTIOUS DISEASE      10\n",
       "FALL OF HORSE                         113\n",
       "FALL OF RIDER                         211\n",
       "ON-TRACK ACCIDENT                       7\n",
       "RACING INJURY                         302\n",
       "STEWARDS/VETS LIST                   1154\n",
       "Name: Incident Type, dtype: int64"
      ]
     },
     "execution_count": 254,
     "metadata": {},
     "output_type": "execute_result"
    }
   ],
   "source": [
    "# use groupby() to display the different incident types\n",
    "# use count() to display how many records for each incident type\n",
    "df1.groupby(['Incident Type'])['Incident Type'].count()"
   ]
  },
  {
   "cell_type": "markdown",
   "metadata": {},
   "source": [
    "There are 12 incident types, each unique except there are two categories related to on track accidents. They are the 'ACCIDENT - ON TRACK' and 'ON-TRACK ACCIDENT' categories. Let's recategorize the rows with the second description to be categorized as the first."
   ]
  },
  {
   "cell_type": "code",
   "execution_count": 255,
   "metadata": {},
   "outputs": [
    {
     "data": {
      "text/plain": [
       "Incident Type\n",
       "ACCIDENT - DRIVER/JOCKEY               10\n",
       "ACCIDENT - IN STARTING GATE            22\n",
       "ACCIDENT - ON TRACK                   114\n",
       "ACCIDENT - TAGGED SULKY                56\n",
       "DRIVER/JOCKEY INJURED                   7\n",
       "EQUINE DEATH                         1219\n",
       "EQUINE DEATH - INFECTIOUS DISEASE      10\n",
       "FALL OF HORSE                         113\n",
       "FALL OF RIDER                         211\n",
       "RACING INJURY                         302\n",
       "STEWARDS/VETS LIST                   1154\n",
       "Name: Incident Type, dtype: int64"
      ]
     },
     "execution_count": 255,
     "metadata": {},
     "output_type": "execute_result"
    }
   ],
   "source": [
    "# recategorize the on track accidents so they have the same incident type name\n",
    "df1['Incident Type'] = df1['Incident Type'].replace('ON-TRACK ACCIDENT','ACCIDENT - ON TRACK')\n",
    "df1.groupby(['Incident Type'])['Incident Type'].count()"
   ]
  },
  {
   "cell_type": "markdown",
   "metadata": {},
   "source": [
    "We now have 11 incident types and each is different from the other. Now let's change the datatype from an object to categorical."
   ]
  },
  {
   "cell_type": "code",
   "execution_count": 256,
   "metadata": {},
   "outputs": [
    {
     "data": {
      "text/plain": [
       "category"
      ]
     },
     "execution_count": 256,
     "metadata": {},
     "output_type": "execute_result"
    }
   ],
   "source": [
    "# update the datatype of 'Incident Type' to be categorical and check the datatype\n",
    "df1['Incident Type'] = df1['Incident Type'].astype('category')\n",
    "df1['Incident Type'].dtype"
   ]
  },
  {
   "cell_type": "markdown",
   "metadata": {},
   "source": [
    "Let's move on to check some other columns that are also categorical in nature."
   ]
  },
  {
   "cell_type": "code",
   "execution_count": 257,
   "metadata": {},
   "outputs": [
    {
     "data": {
      "text/plain": [
       "Track\n",
       "Aqueduct Racetrack (NYRA)               619\n",
       "Batavia Downs                            63\n",
       "Belmont Park (NYRA)                     719\n",
       "Buffalo Raceway                         101\n",
       "Finger Lakes Gaming & Racetrack         508\n",
       "Monticello Raceway & Mighty M Gaming    203\n",
       "Saratoga Gaming & Raceway               400\n",
       "Saratoga Racecourse (NYRA)              326\n",
       "Tioga Downs                              80\n",
       "Vernon Downs                             62\n",
       "Yonkers Raceway                         137\n",
       "Name: Track, dtype: int64"
      ]
     },
     "execution_count": 257,
     "metadata": {},
     "output_type": "execute_result"
    }
   ],
   "source": [
    "# check the track names\n",
    "df1.groupby(['Track'])['Track'].count()"
   ]
  },
  {
   "cell_type": "code",
   "execution_count": 258,
   "metadata": {},
   "outputs": [
    {
     "data": {
      "text/plain": [
       "Racing Type Description\n",
       "Non-Racing     313\n",
       "Racing        2512\n",
       "Training       373\n",
       "Unknown         20\n",
       "Name: Racing Type Description, dtype: int64"
      ]
     },
     "execution_count": 258,
     "metadata": {},
     "output_type": "execute_result"
    }
   ],
   "source": [
    "# check racing type descriptions\n",
    "df1.groupby(['Racing Type Description'])['Racing Type Description'].count()"
   ]
  },
  {
   "cell_type": "code",
   "execution_count": 259,
   "metadata": {},
   "outputs": [
    {
     "data": {
      "text/plain": [
       "Division\n",
       "Harness         1046\n",
       "Thoroughbred    2172\n",
       "Name: Division, dtype: int64"
      ]
     },
     "execution_count": 259,
     "metadata": {},
     "output_type": "execute_result"
    }
   ],
   "source": [
    "# check division\n",
    "df1.groupby(['Division'])['Division'].count()"
   ]
  },
  {
   "cell_type": "markdown",
   "metadata": {},
   "source": [
    "The 'Track', 'Racing Type Description', and 'Division' columns all have good categorical data. Let's convert their data types to cateogorical and then keep checking other columns with categorical data."
   ]
  },
  {
   "cell_type": "code",
   "execution_count": 260,
   "metadata": {},
   "outputs": [
    {
     "name": "stdout",
     "output_type": "stream",
     "text": [
      "<class 'pandas.core.frame.DataFrame'>\n",
      "DatetimeIndex: 3218 entries, 2009-03-04 to 2017-10-01\n",
      "Data columns (total 12 columns):\n",
      "Year                       3218 non-null int64\n",
      "Incident Type              3218 non-null category\n",
      "Track                      3218 non-null category\n",
      "Inv Location               3216 non-null object\n",
      "Racing Type Description    3218 non-null category\n",
      "Division                   3218 non-null category\n",
      "Weather Conditions         3171 non-null object\n",
      "Horse                      3218 non-null object\n",
      "Trainer                    3218 non-null object\n",
      "Jockey Driver              3218 non-null object\n",
      "Incident Description       3218 non-null object\n",
      "Death or Injury            3217 non-null object\n",
      "dtypes: category(4), int64(1), object(7)\n",
      "memory usage: 239.9+ KB\n"
     ]
    }
   ],
   "source": [
    "# update dataype of 'Track', 'Racing Type Description', and 'Division to category\n",
    "df1['Track'] = df1['Track'].astype('category')\n",
    "df1['Racing Type Description'] = df1['Racing Type Description'].astype('category')\n",
    "df1['Division'] = df1['Division'].astype('category')\n",
    "\n",
    "# check datatype of these three columns by calling the info() method\n",
    "df1.info()"
   ]
  },
  {
   "cell_type": "markdown",
   "metadata": {},
   "source": [
    "Four of our columns now have data of type category. Let's check the 'Death or Injury' column."
   ]
  },
  {
   "cell_type": "code",
   "execution_count": 261,
   "metadata": {},
   "outputs": [
    {
     "data": {
      "text/plain": [
       "Death or Injury\n",
       "                                478\n",
       "Accident                        249\n",
       "Death                             3\n",
       "Equine Death                    679\n",
       "Equine Injury                   101\n",
       "Equine Injury / Equine Death     46\n",
       "Euthanasia                      460\n",
       "Injury                          218\n",
       "Lame no death                     1\n",
       "Lameness                        110\n",
       "Steward's List                  871\n",
       "death                             1\n",
       "Name: Death or Injury, dtype: int64"
      ]
     },
     "execution_count": 261,
     "metadata": {},
     "output_type": "execute_result"
    }
   ],
   "source": [
    "# check death or injury\n",
    "df1.groupby(['Death or Injury'])['Death or Injury'].count()"
   ]
  },
  {
   "cell_type": "markdown",
   "metadata": {},
   "source": [
    "There are a few adjustments we can make to the categories in the Death or Injury column. To start, there are three categories for death: 'Death', 'Equine Death', 'death'. The same is true for categories related to lameness ('Lameness' and 'Lame no death') and related to injury ('Equine Injury' and 'Injury'). We can probably assume that horses marked as lame didn't die at the time of the incident and we can probably assume that 'Injury' is in reference to the horse's injury and not the jockey's injury. We can consolidate all of these."
   ]
  },
  {
   "cell_type": "code",
   "execution_count": 262,
   "metadata": {},
   "outputs": [
    {
     "data": {
      "text/plain": [
       "Death or Injury\n",
       "                                478\n",
       "Accident                        249\n",
       "Equine Death                    683\n",
       "Equine Injury                   319\n",
       "Equine Injury / Equine Death     46\n",
       "Euthanasia                      460\n",
       "Lameness                        111\n",
       "Steward's List                  871\n",
       "Name: Death or Injury, dtype: int64"
      ]
     },
     "execution_count": 262,
     "metadata": {},
     "output_type": "execute_result"
    }
   ],
   "source": [
    "# use the replace() method to conslidate categories that are the same\n",
    "df1['Death or Injury'] = df1['Death or Injury'].replace(['Death','death'],'Equine Death')\n",
    "df1['Death or Injury'] = df1['Death or Injury'].replace('Lame no death','Lameness')\n",
    "df1['Death or Injury'] = df1['Death or Injury'].replace('Injury','Equine Injury')\n",
    "df1.groupby(['Death or Injury'])['Death or Injury'].count()"
   ]
  },
  {
   "cell_type": "markdown",
   "metadata": {},
   "source": [
    "We have a lot of rows with no data filled in. We should check to see how these categories match up with the 'Incident Type' column since the descriptions are fairly similar. If there are blank rows in the 'Death or Injury' column that line up with categoreis in the 'Incident Type' column that suggest the horse died, perhaps we can fill in the blank rows with 'Equine Death."
   ]
  },
  {
   "cell_type": "code",
   "execution_count": 263,
   "metadata": {
    "scrolled": true
   },
   "outputs": [
    {
     "data": {
      "text/html": [
       "<div>\n",
       "<style>\n",
       "    .dataframe thead tr:only-child th {\n",
       "        text-align: right;\n",
       "    }\n",
       "\n",
       "    .dataframe thead th {\n",
       "        text-align: left;\n",
       "    }\n",
       "\n",
       "    .dataframe tbody tr th {\n",
       "        vertical-align: top;\n",
       "    }\n",
       "</style>\n",
       "<table border=\"1\" class=\"dataframe\">\n",
       "  <thead>\n",
       "    <tr style=\"text-align: right;\">\n",
       "      <th></th>\n",
       "      <th>Incident Type</th>\n",
       "      <th>Death or Injury</th>\n",
       "    </tr>\n",
       "  </thead>\n",
       "  <tbody>\n",
       "    <tr>\n",
       "      <th>0</th>\n",
       "      <td>ACCIDENT - DRIVER/JOCKEY</td>\n",
       "      <td></td>\n",
       "    </tr>\n",
       "    <tr>\n",
       "      <th>1</th>\n",
       "      <td>ACCIDENT - DRIVER/JOCKEY</td>\n",
       "      <td>Accident</td>\n",
       "    </tr>\n",
       "    <tr>\n",
       "      <th>2</th>\n",
       "      <td>ACCIDENT - IN STARTING GATE</td>\n",
       "      <td></td>\n",
       "    </tr>\n",
       "    <tr>\n",
       "      <th>3</th>\n",
       "      <td>ACCIDENT - IN STARTING GATE</td>\n",
       "      <td>Steward's List</td>\n",
       "    </tr>\n",
       "    <tr>\n",
       "      <th>4</th>\n",
       "      <td>ACCIDENT - IN STARTING GATE</td>\n",
       "      <td>Accident</td>\n",
       "    </tr>\n",
       "    <tr>\n",
       "      <th>5</th>\n",
       "      <td>ACCIDENT - IN STARTING GATE</td>\n",
       "      <td>Equine Injury</td>\n",
       "    </tr>\n",
       "    <tr>\n",
       "      <th>6</th>\n",
       "      <td>ACCIDENT - ON TRACK</td>\n",
       "      <td>Accident</td>\n",
       "    </tr>\n",
       "    <tr>\n",
       "      <th>7</th>\n",
       "      <td>ACCIDENT - ON TRACK</td>\n",
       "      <td>Equine Injury</td>\n",
       "    </tr>\n",
       "    <tr>\n",
       "      <th>8</th>\n",
       "      <td>ACCIDENT - ON TRACK</td>\n",
       "      <td>Steward's List</td>\n",
       "    </tr>\n",
       "    <tr>\n",
       "      <th>9</th>\n",
       "      <td>ACCIDENT - ON TRACK</td>\n",
       "      <td></td>\n",
       "    </tr>\n",
       "    <tr>\n",
       "      <th>10</th>\n",
       "      <td>ACCIDENT - TAGGED SULKY</td>\n",
       "      <td>Accident</td>\n",
       "    </tr>\n",
       "    <tr>\n",
       "      <th>11</th>\n",
       "      <td>ACCIDENT - TAGGED SULKY</td>\n",
       "      <td></td>\n",
       "    </tr>\n",
       "    <tr>\n",
       "      <th>12</th>\n",
       "      <td>ACCIDENT - TAGGED SULKY</td>\n",
       "      <td>Equine Injury</td>\n",
       "    </tr>\n",
       "    <tr>\n",
       "      <th>13</th>\n",
       "      <td>ACCIDENT - TAGGED SULKY</td>\n",
       "      <td>Steward's List</td>\n",
       "    </tr>\n",
       "    <tr>\n",
       "      <th>14</th>\n",
       "      <td>DRIVER/JOCKEY INJURED</td>\n",
       "      <td></td>\n",
       "    </tr>\n",
       "    <tr>\n",
       "      <th>15</th>\n",
       "      <td>DRIVER/JOCKEY INJURED</td>\n",
       "      <td>Accident</td>\n",
       "    </tr>\n",
       "    <tr>\n",
       "      <th>16</th>\n",
       "      <td>EQUINE DEATH</td>\n",
       "      <td>Lameness</td>\n",
       "    </tr>\n",
       "    <tr>\n",
       "      <th>17</th>\n",
       "      <td>EQUINE DEATH</td>\n",
       "      <td>Equine Injury / Equine Death</td>\n",
       "    </tr>\n",
       "    <tr>\n",
       "      <th>18</th>\n",
       "      <td>EQUINE DEATH</td>\n",
       "      <td>Euthanasia</td>\n",
       "    </tr>\n",
       "    <tr>\n",
       "      <th>19</th>\n",
       "      <td>EQUINE DEATH</td>\n",
       "      <td>Accident</td>\n",
       "    </tr>\n",
       "    <tr>\n",
       "      <th>20</th>\n",
       "      <td>EQUINE DEATH</td>\n",
       "      <td></td>\n",
       "    </tr>\n",
       "    <tr>\n",
       "      <th>21</th>\n",
       "      <td>EQUINE DEATH</td>\n",
       "      <td>Equine Death</td>\n",
       "    </tr>\n",
       "    <tr>\n",
       "      <th>22</th>\n",
       "      <td>EQUINE DEATH</td>\n",
       "      <td>Equine Injury</td>\n",
       "    </tr>\n",
       "    <tr>\n",
       "      <th>23</th>\n",
       "      <td>EQUINE DEATH - INFECTIOUS DISEASE</td>\n",
       "      <td>Equine Death</td>\n",
       "    </tr>\n",
       "    <tr>\n",
       "      <th>24</th>\n",
       "      <td>EQUINE DEATH - INFECTIOUS DISEASE</td>\n",
       "      <td>Euthanasia</td>\n",
       "    </tr>\n",
       "    <tr>\n",
       "      <th>25</th>\n",
       "      <td>FALL OF HORSE</td>\n",
       "      <td>Equine Injury</td>\n",
       "    </tr>\n",
       "    <tr>\n",
       "      <th>26</th>\n",
       "      <td>FALL OF HORSE</td>\n",
       "      <td>Steward's List</td>\n",
       "    </tr>\n",
       "    <tr>\n",
       "      <th>27</th>\n",
       "      <td>FALL OF HORSE</td>\n",
       "      <td>Accident</td>\n",
       "    </tr>\n",
       "    <tr>\n",
       "      <th>28</th>\n",
       "      <td>FALL OF HORSE</td>\n",
       "      <td></td>\n",
       "    </tr>\n",
       "    <tr>\n",
       "      <th>29</th>\n",
       "      <td>FALL OF HORSE</td>\n",
       "      <td>NaN</td>\n",
       "    </tr>\n",
       "    <tr>\n",
       "      <th>30</th>\n",
       "      <td>FALL OF RIDER</td>\n",
       "      <td>Equine Injury</td>\n",
       "    </tr>\n",
       "    <tr>\n",
       "      <th>31</th>\n",
       "      <td>FALL OF RIDER</td>\n",
       "      <td></td>\n",
       "    </tr>\n",
       "    <tr>\n",
       "      <th>32</th>\n",
       "      <td>FALL OF RIDER</td>\n",
       "      <td>Steward's List</td>\n",
       "    </tr>\n",
       "    <tr>\n",
       "      <th>33</th>\n",
       "      <td>FALL OF RIDER</td>\n",
       "      <td>Accident</td>\n",
       "    </tr>\n",
       "    <tr>\n",
       "      <th>34</th>\n",
       "      <td>RACING INJURY</td>\n",
       "      <td>Steward's List</td>\n",
       "    </tr>\n",
       "    <tr>\n",
       "      <th>35</th>\n",
       "      <td>RACING INJURY</td>\n",
       "      <td></td>\n",
       "    </tr>\n",
       "    <tr>\n",
       "      <th>36</th>\n",
       "      <td>RACING INJURY</td>\n",
       "      <td>Lameness</td>\n",
       "    </tr>\n",
       "    <tr>\n",
       "      <th>37</th>\n",
       "      <td>RACING INJURY</td>\n",
       "      <td>Accident</td>\n",
       "    </tr>\n",
       "    <tr>\n",
       "      <th>38</th>\n",
       "      <td>RACING INJURY</td>\n",
       "      <td>Equine Injury</td>\n",
       "    </tr>\n",
       "    <tr>\n",
       "      <th>39</th>\n",
       "      <td>STEWARDS/VETS LIST</td>\n",
       "      <td>Lameness</td>\n",
       "    </tr>\n",
       "    <tr>\n",
       "      <th>40</th>\n",
       "      <td>STEWARDS/VETS LIST</td>\n",
       "      <td>Equine Injury</td>\n",
       "    </tr>\n",
       "    <tr>\n",
       "      <th>41</th>\n",
       "      <td>STEWARDS/VETS LIST</td>\n",
       "      <td>Steward's List</td>\n",
       "    </tr>\n",
       "    <tr>\n",
       "      <th>42</th>\n",
       "      <td>STEWARDS/VETS LIST</td>\n",
       "      <td></td>\n",
       "    </tr>\n",
       "    <tr>\n",
       "      <th>43</th>\n",
       "      <td>STEWARDS/VETS LIST</td>\n",
       "      <td>Accident</td>\n",
       "    </tr>\n",
       "  </tbody>\n",
       "</table>\n",
       "</div>"
      ],
      "text/plain": [
       "                        Incident Type               Death or Injury\n",
       "0            ACCIDENT - DRIVER/JOCKEY                              \n",
       "1            ACCIDENT - DRIVER/JOCKEY                      Accident\n",
       "2         ACCIDENT - IN STARTING GATE                              \n",
       "3         ACCIDENT - IN STARTING GATE                Steward's List\n",
       "4         ACCIDENT - IN STARTING GATE                      Accident\n",
       "5         ACCIDENT - IN STARTING GATE                 Equine Injury\n",
       "6                 ACCIDENT - ON TRACK                      Accident\n",
       "7                 ACCIDENT - ON TRACK                 Equine Injury\n",
       "8                 ACCIDENT - ON TRACK                Steward's List\n",
       "9                 ACCIDENT - ON TRACK                              \n",
       "10            ACCIDENT - TAGGED SULKY                      Accident\n",
       "11            ACCIDENT - TAGGED SULKY                              \n",
       "12            ACCIDENT - TAGGED SULKY                 Equine Injury\n",
       "13            ACCIDENT - TAGGED SULKY                Steward's List\n",
       "14              DRIVER/JOCKEY INJURED                              \n",
       "15              DRIVER/JOCKEY INJURED                      Accident\n",
       "16                       EQUINE DEATH                      Lameness\n",
       "17                       EQUINE DEATH  Equine Injury / Equine Death\n",
       "18                       EQUINE DEATH                    Euthanasia\n",
       "19                       EQUINE DEATH                      Accident\n",
       "20                       EQUINE DEATH                              \n",
       "21                       EQUINE DEATH                  Equine Death\n",
       "22                       EQUINE DEATH                 Equine Injury\n",
       "23  EQUINE DEATH - INFECTIOUS DISEASE                  Equine Death\n",
       "24  EQUINE DEATH - INFECTIOUS DISEASE                    Euthanasia\n",
       "25                      FALL OF HORSE                 Equine Injury\n",
       "26                      FALL OF HORSE                Steward's List\n",
       "27                      FALL OF HORSE                      Accident\n",
       "28                      FALL OF HORSE                              \n",
       "29                      FALL OF HORSE                           NaN\n",
       "30                      FALL OF RIDER                 Equine Injury\n",
       "31                      FALL OF RIDER                              \n",
       "32                      FALL OF RIDER                Steward's List\n",
       "33                      FALL OF RIDER                      Accident\n",
       "34                      RACING INJURY                Steward's List\n",
       "35                      RACING INJURY                              \n",
       "36                      RACING INJURY                      Lameness\n",
       "37                      RACING INJURY                      Accident\n",
       "38                      RACING INJURY                 Equine Injury\n",
       "39                 STEWARDS/VETS LIST                      Lameness\n",
       "40                 STEWARDS/VETS LIST                 Equine Injury\n",
       "41                 STEWARDS/VETS LIST                Steward's List\n",
       "42                 STEWARDS/VETS LIST                              \n",
       "43                 STEWARDS/VETS LIST                      Accident"
      ]
     },
     "execution_count": 263,
     "metadata": {},
     "output_type": "execute_result"
    }
   ],
   "source": [
    "# identify matching pairs of 'Incident Type' and 'Death or Injury' in our dataframe\n",
    "df1[['Incident Type','Death or Injury']].drop_duplicates().sort_values('Incident Type').reset_index(drop=True)"
   ]
  },
  {
   "cell_type": "markdown",
   "metadata": {},
   "source": [
    "The above table shows up that the 'Incident Type' and 'Death or Injury' categories don't match up very well. There's a lot of overlap between the two columns. Since the 'Incident Type' column is fully populated, we can use this column for most of our analysis. For now, we will leave the blank rows in 'Death or Injury' as is. We may revisit this later.\n",
    "\n",
    "Finally, convert this column to datatype category."
   ]
  },
  {
   "cell_type": "code",
   "execution_count": 264,
   "metadata": {},
   "outputs": [
    {
     "data": {
      "text/plain": [
       "category"
      ]
     },
     "execution_count": 264,
     "metadata": {},
     "output_type": "execute_result"
    }
   ],
   "source": [
    "# update the datatype of 'Death or Injury' to be categorical and check the datatype\n",
    "df1['Death or Injury'] = df1['Death or Injury'].astype('category')\n",
    "df1['Death or Injury'].dtype"
   ]
  },
  {
   "cell_type": "code",
   "execution_count": 265,
   "metadata": {},
   "outputs": [
    {
     "name": "stdout",
     "output_type": "stream",
     "text": [
      "<class 'pandas.core.frame.DataFrame'>\n",
      "DatetimeIndex: 3218 entries, 2009-03-04 to 2017-10-01\n",
      "Data columns (total 12 columns):\n",
      "Year                       3218 non-null int64\n",
      "Incident Type              3218 non-null category\n",
      "Track                      3218 non-null category\n",
      "Inv Location               3216 non-null object\n",
      "Racing Type Description    3218 non-null category\n",
      "Division                   3218 non-null category\n",
      "Weather Conditions         3171 non-null object\n",
      "Horse                      3218 non-null object\n",
      "Trainer                    3218 non-null object\n",
      "Jockey Driver              3218 non-null object\n",
      "Incident Description       3218 non-null object\n",
      "Death or Injury            3217 non-null category\n",
      "dtypes: category(5), int64(1), object(6)\n",
      "memory usage: 218.3+ KB\n"
     ]
    }
   ],
   "source": [
    "# check all datatypes using the info() method\n",
    "df1.info()"
   ]
  },
  {
   "cell_type": "markdown",
   "metadata": {},
   "source": [
    "Another variable that I want to test is whether the weather is a significant factor in whether horses get injured or die. We're provided with a 'Weather Conditions' column, but the descriptions aren't all consistent and some descriptions are more elaborate than others. Let's check to see how many unique descriptions there are in the 'Weather Conditions' column."
   ]
  },
  {
   "cell_type": "code",
   "execution_count": 266,
   "metadata": {},
   "outputs": [
    {
     "data": {
      "text/plain": [
       "799"
      ]
     },
     "execution_count": 266,
     "metadata": {},
     "output_type": "execute_result"
    }
   ],
   "source": [
    "df1['Weather Conditions'].nunique()"
   ]
  },
  {
   "cell_type": "markdown",
   "metadata": {},
   "source": [
    "799 different descriptions is a lot, but it makes sense that there are so many since many of them list the temperature and the weather condition (sometimes more than 1 weather condition). Let's see what the top weather condition descriptions are to get a better idea of what the data in this column looks like."
   ]
  },
  {
   "cell_type": "code",
   "execution_count": 267,
   "metadata": {},
   "outputs": [
    {
     "data": {
      "text/plain": [
       "                               999\n",
       "Clear                          306\n",
       "Cloudy                         125\n",
       "Sunny                           39\n",
       "Clear 50 to 55 : degrees F      34\n",
       "Clear 60 to 65 : degrees F      28\n",
       "clear                           27\n",
       "Cloudy 50 to 55 : degrees F     24\n",
       "Overcast                        22\n",
       "Rain                            22\n",
       "80* Clear                       20\n",
       "Clear 30 to 40 : degrees F      18\n",
       "Clear 45 to 50 : degrees F      18\n",
       "60* Clear                       17\n",
       "75* Clear                       16\n",
       "Name: Weather Conditions, dtype: int64"
      ]
     },
     "execution_count": 267,
     "metadata": {},
     "output_type": "execute_result"
    }
   ],
   "source": [
    "df1['Weather Conditions'].value_counts().head(15)"
   ]
  },
  {
   "cell_type": "markdown",
   "metadata": {},
   "source": [
    "A good chunk of our records don't have anything recorded for the weather conditions. We can also see that there is at least one inconsistency with capitalization (clear and Clear). Instead of alterting the data within this column, I'll create a few new columns filled with Boolean data. This will be a useful way to display the data since we have overlap between some weather conditions."
   ]
  },
  {
   "cell_type": "code",
   "execution_count": null,
   "metadata": {
    "collapsed": true
   },
   "outputs": [],
   "source": []
  }
 ],
 "metadata": {
  "kernelspec": {
   "display_name": "Python 3",
   "language": "python",
   "name": "python3"
  },
  "language_info": {
   "codemirror_mode": {
    "name": "ipython",
    "version": 3
   },
   "file_extension": ".py",
   "mimetype": "text/x-python",
   "name": "python",
   "nbconvert_exporter": "python",
   "pygments_lexer": "ipython3",
   "version": "3.6.2"
  }
 },
 "nbformat": 4,
 "nbformat_minor": 2
}
