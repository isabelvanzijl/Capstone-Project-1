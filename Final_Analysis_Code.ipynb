{
 "cells": [
  {
   "cell_type": "code",
   "execution_count": 184,
   "metadata": {
    "collapsed": true
   },
   "outputs": [],
   "source": [
    "# import packages\n",
    "import pandas as pd\n",
    "import numpy as np\n",
    "from scipy import stats \n",
    "\n",
    "import matplotlib.pyplot as plt"
   ]
  },
  {
   "cell_type": "markdown",
   "metadata": {},
   "source": [
    "# Data Wrangling\n",
    "\n",
    "## Equine Death and Breakdown Dataset "
   ]
  },
  {
   "cell_type": "code",
   "execution_count": 127,
   "metadata": {},
   "outputs": [
    {
     "name": "stdout",
     "output_type": "stream",
     "text": [
      "<class 'pandas.core.frame.DataFrame'>\n",
      "RangeIndex: 3240 entries, 0 to 3239\n",
      "Data columns (total 13 columns):\n",
      "Year                       3240 non-null int64\n",
      "Incident Date              3240 non-null object\n",
      "Incident Type              3240 non-null object\n",
      "Track                      3240 non-null object\n",
      "Inv Location               3238 non-null object\n",
      "Racing Type Description    3240 non-null object\n",
      "Division                   3240 non-null object\n",
      "Weather Conditions         3193 non-null object\n",
      "Horse                      3240 non-null object\n",
      "Trainer                    3240 non-null object\n",
      "Jockey Driver              3240 non-null object\n",
      "Incident Description       3240 non-null object\n",
      "Death or Injury            3239 non-null object\n",
      "dtypes: int64(1), object(12)\n",
      "memory usage: 329.1+ KB\n",
      "None\n",
      "Shape: (3240, 13)\n"
     ]
    }
   ],
   "source": [
    "# load the dataset as a dataframe\n",
    "df1 = pd.read_csv('Equine_Death_and_Breakdown.csv')\n",
    "print(df1.info())\n",
    "#print(df1.head())\n",
    "#print(df1.columns)\n",
    "print('Shape:', df1.shape)"
   ]
  },
  {
   "cell_type": "code",
   "execution_count": 128,
   "metadata": {},
   "outputs": [
    {
     "name": "stdout",
     "output_type": "stream",
     "text": [
      "Number of blank cells in each column after replacement:\n",
      "Incident Type 0\n",
      "Track 0\n",
      "Inv Location 0\n",
      "Racing Type Description 0\n",
      "Division 0\n",
      "Weather Conditions 0\n",
      "Horse 0\n",
      "Trainer 0\n",
      "Jockey Driver 0\n",
      "Incident Description 0\n",
      "Death or Injury 0\n",
      "\n",
      "<class 'pandas.core.frame.DataFrame'>\n",
      "RangeIndex: 3240 entries, 0 to 3239\n",
      "Data columns (total 13 columns):\n",
      "Year                       3240 non-null int64\n",
      "Incident Date              3240 non-null object\n",
      "Incident Type              3240 non-null object\n",
      "Track                      3240 non-null object\n",
      "Inv Location               3137 non-null object\n",
      "Racing Type Description    3240 non-null object\n",
      "Division                   3240 non-null object\n",
      "Weather Conditions         2189 non-null object\n",
      "Horse                      3239 non-null object\n",
      "Trainer                    3185 non-null object\n",
      "Jockey Driver              2090 non-null object\n",
      "Incident Description       3240 non-null object\n",
      "Death or Injury            2751 non-null object\n",
      "dtypes: int64(1), object(12)\n",
      "memory usage: 329.1+ KB\n"
     ]
    }
   ],
   "source": [
    "# use replace() to convert all ' ' cells to null\n",
    "df1 = df1.replace(' ', np.NaN)\n",
    "\n",
    "# count how many blank cells there are in each column of type object\n",
    "print('Number of blank cells in each column after replacement:')\n",
    "print('Incident Type', df1.loc[df1['Incident Type'] == ' ']['Incident Type'].count())\n",
    "print('Track', df1.loc[df1['Track'] == ' ']['Track'].count())\n",
    "print('Inv Location', df1.loc[df1['Inv Location'] == ' ']['Inv Location'].count())\n",
    "print('Racing Type Description', df1.loc[df1['Racing Type Description'] == ' ']['Racing Type Description'].count())\n",
    "print('Division', df1.loc[df1['Division'] == ' ']['Division'].count())\n",
    "print('Weather Conditions', df1.loc[df1['Weather Conditions'] == ' ']['Weather Conditions'].count())\n",
    "print('Horse', df1.loc[df1['Horse'] == ' ']['Horse'].count())\n",
    "print('Trainer', df1.loc[df1['Trainer'] == ' ']['Trainer'].count())\n",
    "print('Jockey Driver', df1.loc[df1['Jockey Driver'] == ' ']['Jockey Driver'].count())\n",
    "print('Incident Description', df1.loc[df1['Incident Description'] == ' ']['Incident Description'].count())\n",
    "print('Death or Injury', df1.loc[df1['Death or Injury'] == ' ']['Death or Injury'].count())\n",
    "print()\n",
    "\n",
    "# check how non-null records exist for each column\n",
    "df1.info()"
   ]
  },
  {
   "cell_type": "code",
   "execution_count": 129,
   "metadata": {
    "collapsed": true
   },
   "outputs": [],
   "source": [
    "# change categorical data to datatype 'category'"
   ]
  },
  {
   "cell_type": "code",
   "execution_count": 130,
   "metadata": {},
   "outputs": [
    {
     "name": "stdout",
     "output_type": "stream",
     "text": [
      "Incident Type\n",
      "ACCIDENT - DRIVER/JOCKEY               10\n",
      "ACCIDENT - IN STARTING GATE            22\n",
      "ACCIDENT - ON TRACK                   107\n",
      "ACCIDENT - TAGGED SULKY                56\n",
      "DRIVER/JOCKEY INJURED                   7\n",
      "EQUINE DEATH                         1234\n",
      "EQUINE DEATH - INFECTIOUS DISEASE      10\n",
      "FALL OF HORSE                         114\n",
      "FALL OF RIDER                         211\n",
      "ON-TRACK ACCIDENT                       7\n",
      "RACING INJURY                         305\n",
      "STEWARDS/VETS LIST                   1157\n",
      "Name: Incident Type, dtype: int64\n",
      "\n",
      "Incident Type\n",
      "ACCIDENT - DRIVER/JOCKEY               10\n",
      "ACCIDENT - IN STARTING GATE            22\n",
      "ACCIDENT - ON TRACK                   114\n",
      "ACCIDENT - TAGGED SULKY                56\n",
      "DRIVER/JOCKEY INJURED                   7\n",
      "EQUINE DEATH                         1234\n",
      "EQUINE DEATH - INFECTIOUS DISEASE      10\n",
      "FALL OF HORSE                         114\n",
      "FALL OF RIDER                         211\n",
      "RACING INJURY                         305\n",
      "STEWARDS/VETS LIST                   1157\n",
      "Name: Incident Type, dtype: int64\n",
      "\n",
      "Datatype of Incident Type column: category\n"
     ]
    }
   ],
   "source": [
    "# INCIDENT TYPE\n",
    "\n",
    "# use groupby() to display the different incident types\n",
    "# use count() to display how many records for each incident type\n",
    "print(df1.groupby(['Incident Type'])['Incident Type'].count())\n",
    "print()\n",
    "\n",
    "# recategorize the on track accidents so they have the same incident type name\n",
    "df1['Incident Type'] = df1['Incident Type'].replace('ON-TRACK ACCIDENT','ACCIDENT - ON TRACK')\n",
    "print(df1.groupby(['Incident Type'])['Incident Type'].count())\n",
    "print()\n",
    "\n",
    "# update the datatype of 'Incident Type' to be categorical and check the datatype\n",
    "df1['Incident Type'] = df1['Incident Type'].astype('category')\n",
    "print('Datatype of Incident Type column:', df1['Incident Type'].dtype)"
   ]
  },
  {
   "cell_type": "code",
   "execution_count": 131,
   "metadata": {},
   "outputs": [
    {
     "name": "stdout",
     "output_type": "stream",
     "text": [
      "Track\n",
      "Aqueduct Racetrack (NYRA)               625\n",
      "Batavia Downs                            64\n",
      "Belmont Park (NYRA)                     724\n",
      "Buffalo Raceway                         101\n",
      "Finger Lakes Gaming & Racetrack         513\n",
      "Monticello Raceway & Mighty M Gaming    205\n",
      "Saratoga Gaming & Raceway               402\n",
      "Saratoga Racecourse (NYRA)              327\n",
      "Tioga Downs                              80\n",
      "Vernon Downs                             62\n",
      "Yonkers Raceway                         137\n",
      "Name: Track, dtype: int64\n",
      "\n",
      "Racing Type Description\n",
      "Non-Racing     317\n",
      "Racing        2526\n",
      "Training       377\n",
      "Unknown         20\n",
      "Name: Racing Type Description, dtype: int64\n",
      "\n",
      "Division\n",
      "Harness         1051\n",
      "Thoroughbred    2189\n",
      "Name: Division, dtype: int64\n",
      "\n",
      "<class 'pandas.core.frame.DataFrame'>\n",
      "RangeIndex: 3240 entries, 0 to 3239\n",
      "Data columns (total 13 columns):\n",
      "Year                       3240 non-null int64\n",
      "Incident Date              3240 non-null object\n",
      "Incident Type              3240 non-null category\n",
      "Track                      3240 non-null category\n",
      "Inv Location               3137 non-null object\n",
      "Racing Type Description    3240 non-null category\n",
      "Division                   3240 non-null category\n",
      "Weather Conditions         2189 non-null object\n",
      "Horse                      3239 non-null object\n",
      "Trainer                    3185 non-null object\n",
      "Jockey Driver              2090 non-null object\n",
      "Incident Description       3240 non-null object\n",
      "Death or Injury            2751 non-null object\n",
      "dtypes: category(4), int64(1), object(8)\n",
      "memory usage: 241.6+ KB\n",
      "None\n"
     ]
    }
   ],
   "source": [
    "# TRACK NAMES, RACING TYPE DESCRIPTION, DIVISION\n",
    "\n",
    "# check the track names\n",
    "print(df1.groupby(['Track'])['Track'].count())\n",
    "print()\n",
    "\n",
    "# check racing type descriptions\n",
    "print(df1.groupby(['Racing Type Description'])['Racing Type Description'].count())\n",
    "print()\n",
    "\n",
    "# check division\n",
    "print(df1.groupby(['Division'])['Division'].count())\n",
    "print()\n",
    "\n",
    "# all three columns have good categorical data\n",
    "# update dataype of 'Track', 'Racing Type Description', and 'Division to category\n",
    "df1['Track'] = df1['Track'].astype('category')\n",
    "df1['Racing Type Description'] = df1['Racing Type Description'].astype('category')\n",
    "df1['Division'] = df1['Division'].astype('category')\n",
    "\n",
    "# check datatypes of all the columns by calling the info() method\n",
    "print(df1.info())"
   ]
  },
  {
   "cell_type": "code",
   "execution_count": 132,
   "metadata": {},
   "outputs": [
    {
     "name": "stdout",
     "output_type": "stream",
     "text": [
      "Death or Injury\n",
      "Accident                        249\n",
      "Death                             3\n",
      "Equine Death                    683\n",
      "Equine Injury                   101\n",
      "Equine Injury / Equine Death     46\n",
      "Euthanasia                      465\n",
      "Injury                          220\n",
      "Lame no death                     1\n",
      "Lameness                        110\n",
      "Steward's List                  872\n",
      "death                             1\n",
      "Name: Death or Injury, dtype: int64\n",
      "\n",
      "Death or Injury\n",
      "Accident                        249\n",
      "Equine Death                    687\n",
      "Equine Injury                   321\n",
      "Equine Injury / Equine Death     46\n",
      "Euthanasia                      465\n",
      "Lameness                        111\n",
      "Steward's List                  872\n",
      "Name: Death or Injury, dtype: int64\n",
      "\n",
      "Datatype of Death or Injury column: category\n"
     ]
    }
   ],
   "source": [
    "# DEATH OR INJURY\n",
    "\n",
    "# check death or injury\n",
    "print(df1.groupby(['Death or Injury'])['Death or Injury'].count())\n",
    "print()\n",
    "\n",
    "# use the replace() method to conslidate categories that are the same\n",
    "df1['Death or Injury'] = df1['Death or Injury'].replace(['Death','death'],'Equine Death')\n",
    "df1['Death or Injury'] = df1['Death or Injury'].replace('Lame no death','Lameness')\n",
    "df1['Death or Injury'] = df1['Death or Injury'].replace('Injury','Equine Injury')\n",
    "print(df1.groupby(['Death or Injury'])['Death or Injury'].count())\n",
    "print()\n",
    "\n",
    "# update the datatype of 'Death or Injury' to be categorical and check the datatype\n",
    "df1['Death or Injury'] = df1['Death or Injury'].astype('category')\n",
    "print('Datatype of Death or Injury column:', df1['Death or Injury'].dtype)"
   ]
  },
  {
   "cell_type": "code",
   "execution_count": 133,
   "metadata": {},
   "outputs": [
    {
     "name": "stdout",
     "output_type": "stream",
     "text": [
      "Datatype of Incident Date column: datetime64[ns]\n"
     ]
    }
   ],
   "source": [
    "# INCIDENT DATE\n",
    "\n",
    "# update the datatype of 'Incident Date' to be a datetime object and check the datatype\n",
    "df1['Incident Date'] = pd.to_datetime(df1['Incident Date'],format='%m/%d/%Y')\n",
    "print('Datatype of Incident Date column:', df1['Incident Date'].dtype)"
   ]
  },
  {
   "cell_type": "code",
   "execution_count": 134,
   "metadata": {},
   "outputs": [
    {
     "name": "stdout",
     "output_type": "stream",
     "text": [
      "<class 'pandas.core.frame.DataFrame'>\n",
      "RangeIndex: 3240 entries, 0 to 3239\n",
      "Data columns (total 13 columns):\n",
      "Year                       3240 non-null int64\n",
      "Incident Date              3240 non-null datetime64[ns]\n",
      "Incident Type              3240 non-null category\n",
      "Track                      3240 non-null category\n",
      "Inv Location               3137 non-null object\n",
      "Racing Type Description    3240 non-null category\n",
      "Division                   3240 non-null category\n",
      "Weather Conditions         2189 non-null object\n",
      "Horse                      3239 non-null object\n",
      "Trainer                    3185 non-null object\n",
      "Jockey Driver              2090 non-null object\n",
      "Incident Description       3240 non-null object\n",
      "Death or Injury            2751 non-null category\n",
      "dtypes: category(5), datetime64[ns](1), int64(1), object(6)\n",
      "memory usage: 219.8+ KB\n"
     ]
    }
   ],
   "source": [
    "# CHECK all datatypes using the info() method\n",
    "df1.info()"
   ]
  },
  {
   "cell_type": "code",
   "execution_count": 135,
   "metadata": {
    "collapsed": true
   },
   "outputs": [],
   "source": [
    "# WEATHER CONDITIONS\n",
    "# create new columns with binomial (previously boolean) data"
   ]
  },
  {
   "cell_type": "code",
   "execution_count": 136,
   "metadata": {},
   "outputs": [
    {
     "name": "stdout",
     "output_type": "stream",
     "text": [
      "Number of unique weather conditions: 808\n",
      "\n",
      "Most common weather conditions:\n",
      "Clear                          307\n",
      "Cloudy                         125\n",
      "Sunny                           39\n",
      "Clear 50 to 55 : degrees F      34\n",
      "Clear 60 to 65 : degrees F      28\n",
      "clear                           27\n",
      "Cloudy 50 to 55 : degrees F     24\n",
      "Overcast                        22\n",
      "Rain                            22\n",
      "80* Clear                       20\n",
      "Clear 30 to 40 : degrees F      18\n",
      "Clear 45 to 50 : degrees F      18\n",
      "60* Clear                       17\n",
      "Clear 75 to 80 : degrees F      16\n",
      "75* Clear                       16\n",
      "Name: Weather Conditions, dtype: int64\n"
     ]
    }
   ],
   "source": [
    "# check number of unique strings\n",
    "print('Number of unique weather conditions:', df1['Weather Conditions'].nunique())\n",
    "print()\n",
    "\n",
    "# display some of the more common weather condition descriptions\n",
    "print('Most common weather conditions:')\n",
    "print(df1['Weather Conditions'].value_counts().head(15))"
   ]
  },
  {
   "cell_type": "code",
   "execution_count": 137,
   "metadata": {},
   "outputs": [],
   "source": [
    "# create new binomial variable columns\n",
    "df1['Cloudy'] = np.nan\n",
    "df1['Sunny'] = np.nan\n",
    "df1['Clear'] = np.nan\n",
    "df1['Overcast'] = np.nan\n",
    "df1['Rain'] = np.nan\n",
    "df1['Snow'] = np.nan\n",
    "df1['Wind'] = np.nan\n",
    "df1['Thunder Storm'] = np.nan\n",
    "df1['Hot'] = np.nan\n",
    "df1['Humid'] = np.nan\n",
    "df1['Warm'] = np.nan\n",
    "\n",
    "# use info() to display all columns\n",
    "#print(df1.info())"
   ]
  },
  {
   "cell_type": "code",
   "execution_count": 138,
   "metadata": {
    "collapsed": true
   },
   "outputs": [],
   "source": [
    "# populate binomial weather condition columns"
   ]
  },
  {
   "cell_type": "code",
   "execution_count": 139,
   "metadata": {
    "collapsed": true
   },
   "outputs": [],
   "source": [
    "# populate 'Cloudy' column\n",
    "\n",
    "# create make_cloudy function\n",
    "def make_cloudy(condition):\n",
    "    if 'cloud' in str(condition).lower():\n",
    "        return 1\n",
    "    else:\n",
    "        return 0\n",
    "\n",
    "# apply make_cloudy function\n",
    "df1['Cloudy'] = df1['Weather Conditions'].apply(make_cloudy)"
   ]
  },
  {
   "cell_type": "code",
   "execution_count": 140,
   "metadata": {
    "collapsed": true
   },
   "outputs": [],
   "source": [
    "# populate 'Sunny' column\n",
    "\n",
    "# create make_sunny function\n",
    "def make_sunny(condition):\n",
    "    if 'sun' in str(condition).lower():\n",
    "        return 1\n",
    "    else:\n",
    "        return 0\n",
    "\n",
    "# apply make_sunny function\n",
    "df1['Sunny'] = df1['Weather Conditions'].apply(make_sunny)"
   ]
  },
  {
   "cell_type": "code",
   "execution_count": 141,
   "metadata": {
    "collapsed": true
   },
   "outputs": [],
   "source": [
    "# populate 'Clear' column\n",
    "\n",
    "# create make_clear function\n",
    "def make_clear(condition):\n",
    "    if 'clear' in str(condition).lower():\n",
    "        return 1\n",
    "    else:\n",
    "        return 0\n",
    "\n",
    "# apply make_clear function\n",
    "df1['Clear'] = df1['Weather Conditions'].apply(make_clear)"
   ]
  },
  {
   "cell_type": "code",
   "execution_count": 142,
   "metadata": {
    "collapsed": true
   },
   "outputs": [],
   "source": [
    "# populate 'Overcast' column\n",
    "\n",
    "# create make_overcast function\n",
    "def make_overcast(condition):\n",
    "    if 'overcast' in str(condition).lower():\n",
    "        return 1\n",
    "    else:\n",
    "        return 0\n",
    "\n",
    "# apply make_overcast function\n",
    "df1['Overcast'] = df1['Weather Conditions'].apply(make_overcast)"
   ]
  },
  {
   "cell_type": "code",
   "execution_count": 143,
   "metadata": {
    "collapsed": true
   },
   "outputs": [],
   "source": [
    "# populate 'Rain' column\n",
    "\n",
    "# create make_rain function\n",
    "def make_rain(condition):\n",
    "    if 'rain' in str(condition).lower():\n",
    "        return 1\n",
    "    else:\n",
    "        return 0\n",
    "    \n",
    "# apply make_rain function\n",
    "df1['Rain'] = df1['Weather Conditions'].apply(make_rain)"
   ]
  },
  {
   "cell_type": "code",
   "execution_count": 144,
   "metadata": {
    "collapsed": true
   },
   "outputs": [],
   "source": [
    "# populate 'Snow' column\n",
    "\n",
    "# create make_snow function\n",
    "def make_snow(condition):\n",
    "    if 'snow' in str(condition).lower():\n",
    "        return 1\n",
    "    else:\n",
    "        return 0\n",
    "    \n",
    "# apply make_snow function\n",
    "df1['Snow'] = df1['Weather Conditions'].apply(make_snow)"
   ]
  },
  {
   "cell_type": "code",
   "execution_count": 145,
   "metadata": {
    "collapsed": true
   },
   "outputs": [],
   "source": [
    "# populate 'Wind' column\n",
    "\n",
    "# create make_wind function\n",
    "def make_wind(condition):\n",
    "    if 'wind' in str(condition).lower():\n",
    "        return 1\n",
    "    else:\n",
    "        return 0\n",
    "    \n",
    "# apply make_wind function\n",
    "df1['Wind'] = df1['Weather Conditions'].apply(make_wind)"
   ]
  },
  {
   "cell_type": "code",
   "execution_count": 146,
   "metadata": {
    "collapsed": true
   },
   "outputs": [],
   "source": [
    "# populate 'Thunder Storm' column\n",
    "\n",
    "# create make_thunder function\n",
    "def make_thunder(condition):\n",
    "    if 'thunder' in str(condition).lower():\n",
    "        return 1\n",
    "    else:\n",
    "        return 0\n",
    "    \n",
    "# apply make_thunder function\n",
    "df1['Thunder Storm'] = df1['Weather Conditions'].apply(make_thunder)"
   ]
  },
  {
   "cell_type": "code",
   "execution_count": 147,
   "metadata": {
    "collapsed": true
   },
   "outputs": [],
   "source": [
    "# populate 'Hot' column\n",
    "\n",
    "# create make_hot function\n",
    "def make_hot(condition):\n",
    "    if 'hot' in str(condition).lower():\n",
    "        return 1\n",
    "    else:\n",
    "        return 0\n",
    "    \n",
    "# apply make_hot function\n",
    "df1['Hot'] = df1['Weather Conditions'].apply(make_hot)"
   ]
  },
  {
   "cell_type": "code",
   "execution_count": 148,
   "metadata": {
    "collapsed": true
   },
   "outputs": [],
   "source": [
    "# populate 'Humid' column\n",
    "\n",
    "# create make_humid function\n",
    "def make_humid(condition):\n",
    "    if 'humid' in str(condition).lower():\n",
    "        return 1\n",
    "    else:\n",
    "        return 0\n",
    "    \n",
    "# apply make_humid function\n",
    "df1['Humid'] = df1['Weather Conditions'].apply(make_humid)"
   ]
  },
  {
   "cell_type": "code",
   "execution_count": 149,
   "metadata": {
    "collapsed": true
   },
   "outputs": [],
   "source": [
    "# populate 'Warm' column\n",
    "\n",
    "#create make_warm function\n",
    "def make_warm(condition):\n",
    "    if 'warm' in str(condition).lower():\n",
    "        return 1\n",
    "    else:\n",
    "        return 0\n",
    "    \n",
    "# apply make_warm function\n",
    "df1['Warm'] = df1['Weather Conditions'].apply(make_warm)"
   ]
  },
  {
   "cell_type": "code",
   "execution_count": 150,
   "metadata": {},
   "outputs": [
    {
     "name": "stdout",
     "output_type": "stream",
     "text": [
      "Shape: (3240, 24)\n"
     ]
    }
   ],
   "source": [
    "# display the head of the dataframe\n",
    "#df1.head(15)\n",
    "\n",
    "# use info() to display columns\n",
    "#print(df1.info())\n",
    "\n",
    "# display new shape of dataframe\n",
    "print('Shape:', df1.shape)"
   ]
  },
  {
   "cell_type": "markdown",
   "metadata": {},
   "source": [
    "## Doping History Trainers Dataset"
   ]
  },
  {
   "cell_type": "code",
   "execution_count": 151,
   "metadata": {},
   "outputs": [
    {
     "name": "stdout",
     "output_type": "stream",
     "text": [
      "<class 'pandas.core.frame.DataFrame'>\n",
      "RangeIndex: 24 entries, 0 to 23\n",
      "Data columns (total 4 columns):\n",
      "Trainer               24 non-null object\n",
      "Year of Action        24 non-null int64\n",
      "Action Description    24 non-null object\n",
      "Source                24 non-null object\n",
      "dtypes: int64(1), object(3)\n",
      "memory usage: 848.0+ bytes\n",
      "None\n",
      "Shape: (24, 4)\n"
     ]
    }
   ],
   "source": [
    "# load the dataset as a dataframe\n",
    "df2 = pd.read_csv('Doping_History_Trainers.csv',sep=';')\n",
    "print(df2.info())\n",
    "#print(df2.head())\n",
    "#print(df2.columns)\n",
    "print('Shape:', df2.shape)"
   ]
  },
  {
   "cell_type": "markdown",
   "metadata": {},
   "source": [
    "## Merging the Datasets"
   ]
  },
  {
   "cell_type": "code",
   "execution_count": 152,
   "metadata": {},
   "outputs": [
    {
     "data": {
      "text/html": [
       "<div>\n",
       "<style>\n",
       "    .dataframe thead tr:only-child th {\n",
       "        text-align: right;\n",
       "    }\n",
       "\n",
       "    .dataframe thead th {\n",
       "        text-align: left;\n",
       "    }\n",
       "\n",
       "    .dataframe tbody tr th {\n",
       "        vertical-align: top;\n",
       "    }\n",
       "</style>\n",
       "<table border=\"1\" class=\"dataframe\">\n",
       "  <thead>\n",
       "    <tr style=\"text-align: right;\">\n",
       "      <th></th>\n",
       "      <th>Year</th>\n",
       "      <th>Incident Date</th>\n",
       "      <th>Incident Type</th>\n",
       "      <th>Track</th>\n",
       "      <th>Inv Location</th>\n",
       "      <th>Racing Type Description</th>\n",
       "      <th>Division</th>\n",
       "      <th>Weather Conditions</th>\n",
       "      <th>Horse</th>\n",
       "      <th>Trainer</th>\n",
       "      <th>...</th>\n",
       "      <th>Rain</th>\n",
       "      <th>Snow</th>\n",
       "      <th>Wind</th>\n",
       "      <th>Thunder Storm</th>\n",
       "      <th>Hot</th>\n",
       "      <th>Humid</th>\n",
       "      <th>Warm</th>\n",
       "      <th>Year of Action</th>\n",
       "      <th>Action Description</th>\n",
       "      <th>Source</th>\n",
       "    </tr>\n",
       "  </thead>\n",
       "  <tbody>\n",
       "    <tr>\n",
       "      <th>0</th>\n",
       "      <td>2009</td>\n",
       "      <td>2009-03-04</td>\n",
       "      <td>EQUINE DEATH</td>\n",
       "      <td>Aqueduct Racetrack (NYRA)</td>\n",
       "      <td>Aqueduct</td>\n",
       "      <td>Racing</td>\n",
       "      <td>Thoroughbred</td>\n",
       "      <td>NaN</td>\n",
       "      <td>Private Details</td>\n",
       "      <td>JOHN P. TERRANOVA II</td>\n",
       "      <td>...</td>\n",
       "      <td>0</td>\n",
       "      <td>0</td>\n",
       "      <td>0</td>\n",
       "      <td>0</td>\n",
       "      <td>0</td>\n",
       "      <td>0</td>\n",
       "      <td>0</td>\n",
       "      <td>NaN</td>\n",
       "      <td>NaN</td>\n",
       "      <td>NaN</td>\n",
       "    </tr>\n",
       "    <tr>\n",
       "      <th>1</th>\n",
       "      <td>2009</td>\n",
       "      <td>2009-03-04</td>\n",
       "      <td>ACCIDENT - ON TRACK</td>\n",
       "      <td>Aqueduct Racetrack (NYRA)</td>\n",
       "      <td>NaN</td>\n",
       "      <td>Racing</td>\n",
       "      <td>Thoroughbred</td>\n",
       "      <td>NaN</td>\n",
       "      <td>Private Details</td>\n",
       "      <td>JOHN P. TERRANOVA II</td>\n",
       "      <td>...</td>\n",
       "      <td>0</td>\n",
       "      <td>0</td>\n",
       "      <td>0</td>\n",
       "      <td>0</td>\n",
       "      <td>0</td>\n",
       "      <td>0</td>\n",
       "      <td>0</td>\n",
       "      <td>NaN</td>\n",
       "      <td>NaN</td>\n",
       "      <td>NaN</td>\n",
       "    </tr>\n",
       "    <tr>\n",
       "      <th>2</th>\n",
       "      <td>2009</td>\n",
       "      <td>2009-03-04</td>\n",
       "      <td>ACCIDENT - ON TRACK</td>\n",
       "      <td>Aqueduct Racetrack (NYRA)</td>\n",
       "      <td>Aqueduct</td>\n",
       "      <td>Racing</td>\n",
       "      <td>Thoroughbred</td>\n",
       "      <td>NaN</td>\n",
       "      <td>All Bets Off</td>\n",
       "      <td>B E. LEVINE</td>\n",
       "      <td>...</td>\n",
       "      <td>0</td>\n",
       "      <td>0</td>\n",
       "      <td>0</td>\n",
       "      <td>0</td>\n",
       "      <td>0</td>\n",
       "      <td>0</td>\n",
       "      <td>0</td>\n",
       "      <td>NaN</td>\n",
       "      <td>NaN</td>\n",
       "      <td>NaN</td>\n",
       "    </tr>\n",
       "    <tr>\n",
       "      <th>3</th>\n",
       "      <td>2009</td>\n",
       "      <td>2009-03-04</td>\n",
       "      <td>ACCIDENT - ON TRACK</td>\n",
       "      <td>Aqueduct Racetrack (NYRA)</td>\n",
       "      <td>Aqueduct</td>\n",
       "      <td>Racing</td>\n",
       "      <td>Thoroughbred</td>\n",
       "      <td>NaN</td>\n",
       "      <td>Hot Chile Soup</td>\n",
       "      <td>ENRIQUE ARROYO</td>\n",
       "      <td>...</td>\n",
       "      <td>0</td>\n",
       "      <td>0</td>\n",
       "      <td>0</td>\n",
       "      <td>0</td>\n",
       "      <td>0</td>\n",
       "      <td>0</td>\n",
       "      <td>0</td>\n",
       "      <td>NaN</td>\n",
       "      <td>NaN</td>\n",
       "      <td>NaN</td>\n",
       "    </tr>\n",
       "    <tr>\n",
       "      <th>4</th>\n",
       "      <td>2009</td>\n",
       "      <td>2009-03-04</td>\n",
       "      <td>ACCIDENT - ON TRACK</td>\n",
       "      <td>Aqueduct Racetrack (NYRA)</td>\n",
       "      <td>Aqueduct</td>\n",
       "      <td>Racing</td>\n",
       "      <td>Thoroughbred</td>\n",
       "      <td>NaN</td>\n",
       "      <td>One Dream Union</td>\n",
       "      <td>BRUCE R. BROWN</td>\n",
       "      <td>...</td>\n",
       "      <td>0</td>\n",
       "      <td>0</td>\n",
       "      <td>0</td>\n",
       "      <td>0</td>\n",
       "      <td>0</td>\n",
       "      <td>0</td>\n",
       "      <td>0</td>\n",
       "      <td>NaN</td>\n",
       "      <td>NaN</td>\n",
       "      <td>NaN</td>\n",
       "    </tr>\n",
       "  </tbody>\n",
       "</table>\n",
       "<p>5 rows × 27 columns</p>\n",
       "</div>"
      ],
      "text/plain": [
       "   Year Incident Date        Incident Type                      Track  \\\n",
       "0  2009    2009-03-04         EQUINE DEATH  Aqueduct Racetrack (NYRA)   \n",
       "1  2009    2009-03-04  ACCIDENT - ON TRACK  Aqueduct Racetrack (NYRA)   \n",
       "2  2009    2009-03-04  ACCIDENT - ON TRACK  Aqueduct Racetrack (NYRA)   \n",
       "3  2009    2009-03-04  ACCIDENT - ON TRACK  Aqueduct Racetrack (NYRA)   \n",
       "4  2009    2009-03-04  ACCIDENT - ON TRACK  Aqueduct Racetrack (NYRA)   \n",
       "\n",
       "  Inv Location Racing Type Description      Division Weather Conditions  \\\n",
       "0     Aqueduct                  Racing  Thoroughbred                NaN   \n",
       "1          NaN                  Racing  Thoroughbred                NaN   \n",
       "2     Aqueduct                  Racing  Thoroughbred                NaN   \n",
       "3     Aqueduct                  Racing  Thoroughbred                NaN   \n",
       "4     Aqueduct                  Racing  Thoroughbred                NaN   \n",
       "\n",
       "             Horse               Trainer   ...   Rain Snow Wind  \\\n",
       "0  Private Details  JOHN P. TERRANOVA II   ...      0    0    0   \n",
       "1  Private Details  JOHN P. TERRANOVA II   ...      0    0    0   \n",
       "2     All Bets Off           B E. LEVINE   ...      0    0    0   \n",
       "3   Hot Chile Soup        ENRIQUE ARROYO   ...      0    0    0   \n",
       "4  One Dream Union        BRUCE R. BROWN   ...      0    0    0   \n",
       "\n",
       "   Thunder Storm  Hot  Humid  Warm  Year of Action  Action Description  Source  \n",
       "0              0    0      0     0             NaN                 NaN     NaN  \n",
       "1              0    0      0     0             NaN                 NaN     NaN  \n",
       "2              0    0      0     0             NaN                 NaN     NaN  \n",
       "3              0    0      0     0             NaN                 NaN     NaN  \n",
       "4              0    0      0     0             NaN                 NaN     NaN  \n",
       "\n",
       "[5 rows x 27 columns]"
      ]
     },
     "execution_count": 152,
     "metadata": {},
     "output_type": "execute_result"
    }
   ],
   "source": [
    "# merge the two dataframes on 'Trainer'\n",
    "df = df1.merge(df2,on='Trainer',how='left')\n",
    "df.head()"
   ]
  },
  {
   "cell_type": "code",
   "execution_count": 153,
   "metadata": {},
   "outputs": [
    {
     "data": {
      "text/html": [
       "<div>\n",
       "<style>\n",
       "    .dataframe thead tr:only-child th {\n",
       "        text-align: right;\n",
       "    }\n",
       "\n",
       "    .dataframe thead th {\n",
       "        text-align: left;\n",
       "    }\n",
       "\n",
       "    .dataframe tbody tr th {\n",
       "        vertical-align: top;\n",
       "    }\n",
       "</style>\n",
       "<table border=\"1\" class=\"dataframe\">\n",
       "  <thead>\n",
       "    <tr style=\"text-align: right;\">\n",
       "      <th></th>\n",
       "      <th>Year</th>\n",
       "      <th>Incident Date</th>\n",
       "      <th>Incident Type</th>\n",
       "      <th>Track</th>\n",
       "      <th>Inv Location</th>\n",
       "      <th>Racing Type Description</th>\n",
       "      <th>Division</th>\n",
       "      <th>Weather Conditions</th>\n",
       "      <th>Horse</th>\n",
       "      <th>Trainer</th>\n",
       "      <th>...</th>\n",
       "      <th>Rain</th>\n",
       "      <th>Snow</th>\n",
       "      <th>Wind</th>\n",
       "      <th>Thunder Storm</th>\n",
       "      <th>Hot</th>\n",
       "      <th>Humid</th>\n",
       "      <th>Warm</th>\n",
       "      <th>Year of Action</th>\n",
       "      <th>Action Description</th>\n",
       "      <th>Source</th>\n",
       "    </tr>\n",
       "  </thead>\n",
       "  <tbody>\n",
       "    <tr>\n",
       "      <th>34</th>\n",
       "      <td>2009</td>\n",
       "      <td>2009-04-28</td>\n",
       "      <td>EQUINE DEATH</td>\n",
       "      <td>Belmont Park (NYRA)</td>\n",
       "      <td>1mile 1/4</td>\n",
       "      <td>Training</td>\n",
       "      <td>Thoroughbred</td>\n",
       "      <td>Clear</td>\n",
       "      <td>Timberah</td>\n",
       "      <td>STEVEN M. ASMUSSEN</td>\n",
       "      <td>...</td>\n",
       "      <td>0</td>\n",
       "      <td>0</td>\n",
       "      <td>0</td>\n",
       "      <td>0</td>\n",
       "      <td>0</td>\n",
       "      <td>0</td>\n",
       "      <td>0</td>\n",
       "      <td>2015.0</td>\n",
       "      <td>fined for violating New York State Gaming Comm...</td>\n",
       "      <td>https://www.nytimes.com/2015/11/24/sports/stev...</td>\n",
       "    </tr>\n",
       "    <tr>\n",
       "      <th>207</th>\n",
       "      <td>2009</td>\n",
       "      <td>2009-08-29</td>\n",
       "      <td>STEWARDS/VETS LIST</td>\n",
       "      <td>Saratoga Racecourse (NYRA)</td>\n",
       "      <td>5/8 Pole.</td>\n",
       "      <td>Racing</td>\n",
       "      <td>Thoroughbred</td>\n",
       "      <td>Cloudy</td>\n",
       "      <td>Cairiene</td>\n",
       "      <td>STEVEN M. ASMUSSEN</td>\n",
       "      <td>...</td>\n",
       "      <td>0</td>\n",
       "      <td>0</td>\n",
       "      <td>0</td>\n",
       "      <td>0</td>\n",
       "      <td>0</td>\n",
       "      <td>0</td>\n",
       "      <td>0</td>\n",
       "      <td>2015.0</td>\n",
       "      <td>fined for violating New York State Gaming Comm...</td>\n",
       "      <td>https://www.nytimes.com/2015/11/24/sports/stev...</td>\n",
       "    </tr>\n",
       "    <tr>\n",
       "      <th>208</th>\n",
       "      <td>2009</td>\n",
       "      <td>2009-08-29</td>\n",
       "      <td>STEWARDS/VETS LIST</td>\n",
       "      <td>Saratoga Racecourse (NYRA)</td>\n",
       "      <td>5/8 Pole.</td>\n",
       "      <td>Unknown</td>\n",
       "      <td>Thoroughbred</td>\n",
       "      <td>Cloudy</td>\n",
       "      <td>Cairiene</td>\n",
       "      <td>STEVEN M. ASMUSSEN</td>\n",
       "      <td>...</td>\n",
       "      <td>0</td>\n",
       "      <td>0</td>\n",
       "      <td>0</td>\n",
       "      <td>0</td>\n",
       "      <td>0</td>\n",
       "      <td>0</td>\n",
       "      <td>0</td>\n",
       "      <td>2015.0</td>\n",
       "      <td>fined for violating New York State Gaming Comm...</td>\n",
       "      <td>https://www.nytimes.com/2015/11/24/sports/stev...</td>\n",
       "    </tr>\n",
       "    <tr>\n",
       "      <th>339</th>\n",
       "      <td>2010</td>\n",
       "      <td>2010-01-01</td>\n",
       "      <td>FALL OF RIDER</td>\n",
       "      <td>Aqueduct Racetrack (NYRA)</td>\n",
       "      <td>At start of race.</td>\n",
       "      <td>Racing</td>\n",
       "      <td>Thoroughbred</td>\n",
       "      <td>Cloudy</td>\n",
       "      <td>Raffie's Deer</td>\n",
       "      <td>STEVEN M. ASMUSSEN</td>\n",
       "      <td>...</td>\n",
       "      <td>0</td>\n",
       "      <td>0</td>\n",
       "      <td>0</td>\n",
       "      <td>0</td>\n",
       "      <td>0</td>\n",
       "      <td>0</td>\n",
       "      <td>0</td>\n",
       "      <td>2015.0</td>\n",
       "      <td>fined for violating New York State Gaming Comm...</td>\n",
       "      <td>https://www.nytimes.com/2015/11/24/sports/stev...</td>\n",
       "    </tr>\n",
       "    <tr>\n",
       "      <th>590</th>\n",
       "      <td>2010</td>\n",
       "      <td>2010-08-09</td>\n",
       "      <td>EQUINE DEATH</td>\n",
       "      <td>Belmont Park (NYRA)</td>\n",
       "      <td>1/8 pole</td>\n",
       "      <td>Training</td>\n",
       "      <td>Thoroughbred</td>\n",
       "      <td>Clear 83*</td>\n",
       "      <td>Edwards</td>\n",
       "      <td>STEVEN M. ASMUSSEN</td>\n",
       "      <td>...</td>\n",
       "      <td>0</td>\n",
       "      <td>0</td>\n",
       "      <td>0</td>\n",
       "      <td>0</td>\n",
       "      <td>0</td>\n",
       "      <td>0</td>\n",
       "      <td>0</td>\n",
       "      <td>2015.0</td>\n",
       "      <td>fined for violating New York State Gaming Comm...</td>\n",
       "      <td>https://www.nytimes.com/2015/11/24/sports/stev...</td>\n",
       "    </tr>\n",
       "  </tbody>\n",
       "</table>\n",
       "<p>5 rows × 27 columns</p>\n",
       "</div>"
      ],
      "text/plain": [
       "     Year Incident Date       Incident Type                       Track  \\\n",
       "34   2009    2009-04-28        EQUINE DEATH         Belmont Park (NYRA)   \n",
       "207  2009    2009-08-29  STEWARDS/VETS LIST  Saratoga Racecourse (NYRA)   \n",
       "208  2009    2009-08-29  STEWARDS/VETS LIST  Saratoga Racecourse (NYRA)   \n",
       "339  2010    2010-01-01       FALL OF RIDER   Aqueduct Racetrack (NYRA)   \n",
       "590  2010    2010-08-09        EQUINE DEATH         Belmont Park (NYRA)   \n",
       "\n",
       "          Inv Location Racing Type Description      Division  \\\n",
       "34           1mile 1/4                Training  Thoroughbred   \n",
       "207          5/8 Pole.                  Racing  Thoroughbred   \n",
       "208          5/8 Pole.                 Unknown  Thoroughbred   \n",
       "339  At start of race.                  Racing  Thoroughbred   \n",
       "590           1/8 pole                Training  Thoroughbred   \n",
       "\n",
       "    Weather Conditions          Horse             Trainer  \\\n",
       "34               Clear       Timberah  STEVEN M. ASMUSSEN   \n",
       "207             Cloudy       Cairiene  STEVEN M. ASMUSSEN   \n",
       "208             Cloudy       Cairiene  STEVEN M. ASMUSSEN   \n",
       "339             Cloudy  Raffie's Deer  STEVEN M. ASMUSSEN   \n",
       "590          Clear 83*        Edwards  STEVEN M. ASMUSSEN   \n",
       "\n",
       "                           ...                         Rain Snow Wind  \\\n",
       "34                         ...                            0    0    0   \n",
       "207                        ...                            0    0    0   \n",
       "208                        ...                            0    0    0   \n",
       "339                        ...                            0    0    0   \n",
       "590                        ...                            0    0    0   \n",
       "\n",
       "     Thunder Storm  Hot  Humid  Warm  Year of Action  \\\n",
       "34               0    0      0     0          2015.0   \n",
       "207              0    0      0     0          2015.0   \n",
       "208              0    0      0     0          2015.0   \n",
       "339              0    0      0     0          2015.0   \n",
       "590              0    0      0     0          2015.0   \n",
       "\n",
       "                                    Action Description  \\\n",
       "34   fined for violating New York State Gaming Comm...   \n",
       "207  fined for violating New York State Gaming Comm...   \n",
       "208  fined for violating New York State Gaming Comm...   \n",
       "339  fined for violating New York State Gaming Comm...   \n",
       "590  fined for violating New York State Gaming Comm...   \n",
       "\n",
       "                                                Source  \n",
       "34   https://www.nytimes.com/2015/11/24/sports/stev...  \n",
       "207  https://www.nytimes.com/2015/11/24/sports/stev...  \n",
       "208  https://www.nytimes.com/2015/11/24/sports/stev...  \n",
       "339  https://www.nytimes.com/2015/11/24/sports/stev...  \n",
       "590  https://www.nytimes.com/2015/11/24/sports/stev...  \n",
       "\n",
       "[5 rows x 27 columns]"
      ]
     },
     "execution_count": 153,
     "metadata": {},
     "output_type": "execute_result"
    }
   ],
   "source": [
    "# check the first trainer name that appears in the doping data set to check that it's properly merged\n",
    "df.loc[df['Trainer'] == 'STEVEN M. ASMUSSEN'].head()"
   ]
  },
  {
   "cell_type": "code",
   "execution_count": 156,
   "metadata": {},
   "outputs": [],
   "source": [
    "# check the datatypes of all the columns\n",
    "#df.info()"
   ]
  },
  {
   "cell_type": "code",
   "execution_count": 164,
   "metadata": {},
   "outputs": [],
   "source": [
    "# add a column of binomial variables for whether trainer has a history of doping\n",
    "df['Doping Trainer'] = np.nan\n",
    "\n",
    "# create make_doper function\n",
    "def make_doper(yr_of_action):\n",
    "    if ~np.isnan(yr_of_action):\n",
    "        return 1\n",
    "    else:\n",
    "        return 0\n",
    "\n",
    "# apply make_cloudy function\n",
    "df['Doping Trainer'] = df['Year of Action'].apply(make_doper)\n",
    "\n",
    "# print head of dataframe\n",
    "#df.head(20)"
   ]
  },
  {
   "cell_type": "code",
   "execution_count": 165,
   "metadata": {
    "collapsed": true
   },
   "outputs": [],
   "source": [
    "# export final dataframe to csv file\n",
    "df.to_csv('Equine_Breakdown_Death_Doping.csv')"
   ]
  },
  {
   "cell_type": "markdown",
   "metadata": {},
   "source": [
    "# Data Storytelling\n",
    "\n",
    "## Trends Over Time"
   ]
  },
  {
   "cell_type": "code",
   "execution_count": 167,
   "metadata": {},
   "outputs": [
    {
     "name": "stdout",
     "output_type": "stream",
     "text": [
      "   Year  Total\n",
      "0  2009    339\n",
      "1  2010    442\n",
      "2  2011    426\n",
      "3  2012    483\n",
      "4  2013    418\n",
      "5  2014    373\n",
      "6  2015    295\n",
      "7  2016    251\n",
      "8  2017    213\n",
      "Average:  360.0\n"
     ]
    }
   ],
   "source": [
    "# build dataframe of each year and total count of breakdowns and deaths for that year\n",
    "year_total = df.groupby('Year')['Year'].count().reset_index(name='Total')\n",
    "print(year_total)\n",
    "\n",
    "# print mean of yearly totals for reference (rate: deaths and breakdowns per year)\n",
    "print('Average: ', year_total['Total'].mean())"
   ]
  },
  {
   "cell_type": "code",
   "execution_count": 174,
   "metadata": {},
   "outputs": [
    {
     "data": {
      "image/png": "[encoded data removed]",
      "text/plain": [
       "<matplotlib.figure.Figure at 0x119a9d710>"
      ]
     },
     "metadata": {},
     "output_type": "display_data"
    }
   ],
   "source": [
    "# build line plot displaying total number of deaths and breakdowns by year\n",
    "_ = plt.figure(figsize=(10,6))\n",
    "_ = plt.plot(year_total['Year'], year_total['Total'], color='blue')\n",
    "_ = plt.xlabel('Year')\n",
    "_ = plt.ylabel('Total Recorded Deaths and Breakdowns')\n",
    "_ = plt.title('Total Recorded Deaths and Breakdowns By Year')\n",
    "_ = plt.yticks([0,100,200,300,400,500,600])\n",
    "_ = plt.grid(alpha=.5)\n",
    "plt.show()"
   ]
  },
  {
   "cell_type": "code",
   "execution_count": 196,
   "metadata": {},
   "outputs": [
    {
     "data": {
      "image/png": "[encoded data removed]",
      "text/plain": [
       "<matplotlib.figure.Figure at 0x10dfd9240>"
      ]
     },
     "metadata": {},
     "output_type": "display_data"
    }
   ],
   "source": [
    "# RACING TYPE\n",
    "\n",
    "# create pivot table of how many of each racing type occurred each year\n",
    "racingtype_pivot = df.pivot_table(values='Incident Date', index='Year', columns='Racing Type Description', aggfunc='count')\n",
    "# drop the 'Unknown' column since it contains little data\n",
    "del racingtype_pivot['Unknown']\n",
    "\n",
    "# plot the above pivot table\n",
    "_ = plt.figure(figsize=(10,6))\n",
    "_ = plt.plot(racingtype_pivot)\n",
    "_ = plt.xlabel('Year')\n",
    "_ = plt.ylabel('Total by Racing Type')\n",
    "_ = plt.title('Total Recorded Deaths and Breakdowns By Year and Racing Type')\n",
    "_ = plt.legend(('Non-Racing', 'Racing', 'Training'))\n",
    "_ = plt.yticks([0,100,200,300,400])\n",
    "_ = plt.grid(alpha=.5)\n",
    "plt.show()"
   ]
  },
  {
   "cell_type": "code",
   "execution_count": 195,
   "metadata": {},
   "outputs": [
    {
     "data": {
      "image/png": "[encoded data removed]",
      "text/plain": [
       "<matplotlib.figure.Figure at 0x1a1bbbfef0>"
      ]
     },
     "metadata": {},
     "output_type": "display_data"
    }
   ],
   "source": [
    "# INCIDENT TYPE\n",
    "\n",
    "# create pivot table of how many of each incident type occurred each year\n",
    "incidenttype_pivot = df.pivot_table(values='Incident Date', index='Year', columns='Incident Type', aggfunc='count')\n",
    "\n",
    "# remove some less populated columns for more clarity in our graph and discussion\n",
    "del incidenttype_pivot['ACCIDENT - DRIVER/JOCKEY']\n",
    "del incidenttype_pivot['ACCIDENT - IN STARTING GATE']\n",
    "del incidenttype_pivot['ACCIDENT - TAGGED SULKY']\n",
    "del incidenttype_pivot['DRIVER/JOCKEY INJURED']\n",
    "del incidenttype_pivot['EQUINE DEATH - INFECTIOUS DISEASE']\n",
    "del incidenttype_pivot['FALL OF HORSE']\n",
    "del incidenttype_pivot['FALL OF RIDER']\n",
    "\n",
    "# plot the above pivot table\n",
    "_ = plt.figure(figsize=(10,6))\n",
    "_ = plt.plot(incidenttype_pivot)\n",
    "_ = plt.xlabel('Year')\n",
    "_ = plt.ylabel('Total by Incident Type')\n",
    "_ = plt.title('Total Recorded Deaths and Breakdowns By Year and Incident Type')\n",
    "_ = plt.legend(('Accident - On Track', 'Equine Death', 'Racing Injury', 'Stewards/Vets List'))\n",
    "_ = plt.ylim([0,230])\n",
    "_ = plt.grid(alpha=.5)\n",
    "plt.show()"
   ]
  },
  {
   "cell_type": "markdown",
   "metadata": {},
   "source": [
    "## Weather Conditions - Frequency"
   ]
  },
  {
   "cell_type": "code",
   "execution_count": 194,
   "metadata": {},
   "outputs": [
    {
     "name": "stdout",
     "output_type": "stream",
     "text": [
      "            index  Count\n",
      "0          Cloudy    703\n",
      "1           Sunny    148\n",
      "2           Clear   1025\n",
      "3        Overcast     43\n",
      "4            Rain    120\n",
      "5            Snow     23\n",
      "6            Wind     23\n",
      "7   Thunder Storm      2\n",
      "8             Hot     38\n",
      "9           Humid     23\n",
      "10           Warm     52\n"
     ]
    },
    {
     "data": {
      "image/png": "[encoded data removed]",
      "text/plain": [
       "<matplotlib.figure.Figure at 0x119f4e470>"
      ]
     },
     "metadata": {},
     "output_type": "display_data"
    }
   ],
   "source": [
    "# create a dataframe of boolean weather columns\n",
    "weather_bool = df[['Cloudy', 'Sunny', 'Clear', 'Overcast', 'Rain', 'Snow', 'Wind', 'Thunder Storm', 'Hot', 'Humid', 'Warm']]\n",
    "\n",
    "# calculate how many of each weather condition appears in our dataset\n",
    "weather_count = weather_bool.sum().reset_index(name='Count')\n",
    "print(weather_count)\n",
    "\n",
    "# plot weather_count\n",
    "_ = plt.figure(figsize=(10,6))\n",
    "_ = weather_count['Count'].plot(kind='bar')\n",
    "_.set_xlabel('Weather Condition')\n",
    "_.set_ylabel('Total')\n",
    "_.set_title('Total Recorded Deaths and Breakdowns by Weather Condition')\n",
    "_.set_xticklabels(weather_count['index'].tolist())\n",
    "_.yaxis.grid(True,alpha=.5)\n",
    "plt.show()"
   ]
  },
  {
   "cell_type": "markdown",
   "metadata": {},
   "source": [
    "## Trainers and Doping"
   ]
  },
  {
   "cell_type": "code",
   "execution_count": 180,
   "metadata": {},
   "outputs": [
    {
     "name": "stdout",
     "output_type": "stream",
     "text": [
      "Number of trainers with a history of doping:  22\n",
      "Number of horses trained per trainer: \n",
      "RODOLFO (RUDY) RODRIGUEZ    50\n",
      "GARY C. CONTESSA            46\n",
      "WILLIAM I. MOTT             17\n",
      "MIKE J. MAKER               16\n",
      "STEVEN M. ASMUSSEN          15\n",
      "RICHARD E. DUTROW JR        12\n",
      "JAMIE J. NESS                5\n",
      "SEAN M. CAMPBELL             5\n",
      "ROY SEDLACEK                 4\n",
      "ALAN E. GOLDBERG             3\n",
      "DAWN M. DEVAUX               3\n",
      "JOSEPH R. CARRUBBA           2\n",
      "MARC (JOE) J. SHARP          2\n",
      "MEGAN M. GILMOUR             1\n",
      "LUIS PENA                    1\n",
      "JULIE E. MILLER              1\n",
      "STEPHEN MURCHISON            1\n",
      "ANTONIO C. AVILA             1\n",
      "ROBERTINO DIODORO            1\n",
      "BOB BAFFERT                  1\n",
      "RONALD J. BURKE              1\n",
      "PATRICIA FARRO               1\n",
      "Name: Trainer, dtype: int64\n"
     ]
    }
   ],
   "source": [
    "# pull records of trainers with a history of doping\n",
    "doping_trainers = df.loc[df['Doping Trainer'] == 1]\n",
    "\n",
    "# display the number of unique trainer names in the dataset\n",
    "print('Number of trainers with a history of doping: ', doping_trainers['Trainer'].nunique())\n",
    "\n",
    "# display how many horses with incidents each trainer trained\n",
    "print('Number of horses trained per trainer: ')\n",
    "print(doping_trainers['Trainer'].value_counts())"
   ]
  },
  {
   "cell_type": "code",
   "execution_count": 193,
   "metadata": {},
   "outputs": [
    {
     "data": {
      "image/png": "[encoded data removed]",
      "text/plain": [
       "<matplotlib.figure.Figure at 0x1a1bcea630>"
      ]
     },
     "metadata": {},
     "output_type": "display_data"
    }
   ],
   "source": [
    "# calculate how many horses had incidents each year under doping trainers\n",
    "doped_horses_year = doping_trainers.groupby('Year')['Year'].count().reset_index(name='Count')\n",
    "\n",
    "# plot the yearly totals of horses that broke down or died for trainers with a history of doping\n",
    "_ = plt.figure(figsize=(10,6))\n",
    "_ = plt.plot(doped_horses_year['Year'],doped_horses_year['Count'], color='red')\n",
    "_ = plt.xlabel('Year')\n",
    "_ = plt.ylabel('Total Deaths and Breakdowns')\n",
    "_ = plt.title('Total Recorded Deaths and Breakdowns Under Doping Trainers By Year')\n",
    "_ = plt.yticks([0,5,10,15,20,25,30,35])\n",
    "_ = plt.grid(alpha=.5)\n",
    "plt.show()"
   ]
  },
  {
   "cell_type": "markdown",
   "metadata": {},
   "source": [
    "# Inferential Statistics"
   ]
  },
  {
   "cell_type": "markdown",
   "metadata": {},
   "source": [
    "## Yearly Rates - Total (Doping Trainers and Non-Doping Trainers)\n",
    "\n",
    "### Hypothesis Test\n",
    "\n",
    "$H_0$: There is no significant difference in the 2017 death and breakdown rate and the average death and breakdown rate of other years (2009 - 2016)\n",
    "\n",
    "$H_A$: There is a significant difference in the 2017 death and breakdown rate and the average death and breakdown rate of other years (2009 - 2016)"
   ]
  },
  {
   "cell_type": "code",
   "execution_count": 187,
   "metadata": {},
   "outputs": [
    {
     "name": "stdout",
     "output_type": "stream",
     "text": [
      "count      9.000000\n",
      "mean     360.000000\n",
      "std       92.126272\n",
      "min      213.000000\n",
      "25%      295.000000\n",
      "50%      373.000000\n",
      "75%      426.000000\n",
      "max      483.000000\n",
      "Name: Total, dtype: float64\n",
      "\n",
      "Total in 2017: 213\n",
      "Average total in years 2009-2016: 378.375\n",
      "\n",
      "t = 6.337\n",
      "p = p( t <=  -6.337 ) + p( t >=  6.337 ) =  0.0\n",
      "p (unrounded) is  0.000390091360871\n"
     ]
    }
   ],
   "source": [
    "# perform t test\n",
    "\n",
    "# extract yearly totals\n",
    "year_total = df.groupby('Year')['Year'].count().reset_index(name='Total')\n",
    "total_rate_2017 = year_total['Total'].values[8]\n",
    "total_rate_otheryrs = year_total['Total'][:8]\n",
    "n1 = len(total_rate_otheryrs)\n",
    "\n",
    "# print some sample statistics\n",
    "print(year_total['Total'].describe())\n",
    "print()\n",
    "print('Total in 2017:', total_rate_2017)\n",
    "print('Average total in years 2009-2016:', np.mean(total_rate_otheryrs))\n",
    "print()\n",
    "\n",
    "# calculate t statistic\n",
    "t1 = ( np.mean(total_rate_otheryrs) - total_rate_2017 ) / ( np.std(total_rate_otheryrs) / np.sqrt(n1) )\n",
    "print('t =', round(t1,3))\n",
    "\n",
    "# perform two sided t test\n",
    "p_t1 = stats.t.sf(abs(t1), n1-1) * 2\n",
    "print('p = p( t <= ', -round(t1,3), ') + p( t >= ', abs(round(t1,3)), ') = ', round(p_t1,3))\n",
    "print('p (unrounded) is ', p_t1)"
   ]
  },
  {
   "cell_type": "markdown",
   "metadata": {},
   "source": [
    "## Yearly Rates - Total (Doping Trainers)\n",
    "\n",
    "### Hypothesis Test\n",
    "\n",
    "$H_0$: There is no significant difference in the 2017 death and breakdown rate and the average death and breakdown rate of other years (2009 - 2016) for horses trained by trainers with a history of doping\n",
    "\n",
    "$H_A$: There is a significant difference in the 2017 death and breakdown rate and the average death and breakdown rate of other years (2009 - 2016) for horses trained by trainers with a history of doping"
   ]
  },
  {
   "cell_type": "code",
   "execution_count": 189,
   "metadata": {},
   "outputs": [
    {
     "name": "stdout",
     "output_type": "stream",
     "text": [
      "count     9.00000\n",
      "mean     21.00000\n",
      "std       8.20061\n",
      "min       9.00000\n",
      "25%      15.00000\n",
      "50%      23.00000\n",
      "75%      28.00000\n",
      "max      31.00000\n",
      "Name: Total, dtype: float64\n",
      "\n",
      "Total under doping trainers in 2017: 9\n",
      "Average total under doping trainers in years 2009-2016: 22.5\n",
      "\n",
      "t = 5.57\n",
      "p = p( t <=  -5.57 ) + p( t >=  5.57 ) =  0.113\n",
      "p (unrounded) is  0.113096089343\n"
     ]
    }
   ],
   "source": [
    "# perform t test\n",
    "\n",
    "# extract yearly totals\n",
    "doping_trainers = df.loc[pd.notnull(df['Year of Action'])]\n",
    "doped_year_total = doping_trainers.groupby('Year')['Year'].count().reset_index(name='Total')\n",
    "doped_total_rate_2017 = doped_year_total['Total'].values[8]\n",
    "doped_total_rate_otheryrs = doped_year_total['Total'][:8]\n",
    "n2 = len(doped_total_rate_otheryrs)\n",
    "\n",
    "# print some sample statistics\n",
    "print(doped_year_total['Total'].describe())\n",
    "print()\n",
    "print('Total under doping trainers in 2017:', doped_total_rate_2017)\n",
    "print('Average total under doping trainers in years 2009-2016:', np.mean(doped_total_rate_otheryrs))\n",
    "print()\n",
    "\n",
    "# calculate t statistic\n",
    "t2 = ( np.mean(doped_total_rate_otheryrs) - doped_total_rate_2017 ) / ( np.std(doped_total_rate_otheryrs) / np.sqrt(n2) )\n",
    "print('t =', round(t2,3))\n",
    "\n",
    "# perform two sided t test\n",
    "p_t2 = stats.t.sf(abs(t2), 2-1) * 2\n",
    "print('p = p( t <= ', -round(t2,3), ') + p( t >= ', abs(round(t2,3)), ') = ', round(p_t2,3))\n",
    "print('p (unrounded) is ', p_t2)"
   ]
  },
  {
   "cell_type": "markdown",
   "metadata": {},
   "source": [
    "# Proportion of Incidents Under Doping Trainers to Total Incidents"
   ]
  },
  {
   "cell_type": "code",
   "execution_count": 192,
   "metadata": {},
   "outputs": [
    {
     "data": {
      "image/png": "[encoded data removed]",
      "text/plain": [
       "<matplotlib.figure.Figure at 0x1a1bb90f60>"
      ]
     },
     "metadata": {},
     "output_type": "display_data"
    }
   ],
   "source": [
    "# plot yearly totals and yearly totals under doping trainers\n",
    "_ = plt.figure(figsize=(10,6))\n",
    "_ = plt.plot(year_total['Year'], year_total['Total'], color='blue')\n",
    "_ = plt.plot(doped_year_total['Year'], doped_year_total['Total'], color='red')\n",
    "_ = plt.xlabel('Year')\n",
    "_ = plt.ylabel('Total Deaths and Breakdowns')\n",
    "_ = plt.title('Total Recorded Deaths and Breakdowns By Year')\n",
    "_ = plt.legend(('Total', 'Total Under Doping Trainers'))\n",
    "_ = plt.ylim([0,500])\n",
    "_ = plt.grid(alpha=.5)\n",
    "plt.show()"
   ]
  },
  {
   "cell_type": "markdown",
   "metadata": {},
   "source": [
    "### Hypothesis Test\n",
    "\n",
    "$H_0$: There is no significant difference in the 2017 proportion of incidents under doping trainers to total incidents and the average proportion of incidents under doping trainers to total incidents of other years (2009 - 2016)\n",
    "\n",
    "$H_A$: There is a significant difference in the 2017 proportion of incidents under doping trainers to total incidents and the average proportion of incidents under doping trainers to total incidents of other years (2009 - 2016)"
   ]
  },
  {
   "cell_type": "code",
   "execution_count": 198,
   "metadata": {},
   "outputs": [
    {
     "name": "stdout",
     "output_type": "stream",
     "text": [
      "count    9.000000\n",
      "mean     5.718656\n",
      "std      1.376203\n",
      "min      2.949853\n",
      "25%      5.399061\n",
      "50%      5.976096\n",
      "75%      6.561086\n",
      "max      7.416268\n",
      "Name: Total, dtype: float64\n",
      "\n",
      "Proportion in 2017: 4.22535211268\n",
      "Average proportion in years 2009-2016: 5.905319419651566\n",
      "\n",
      "t = 3.78\n",
      "p = p( t <=  -3.78 ) + p( t >=  3.78 ) =  0.007\n",
      "p (unrounded) is  0.00689400099676\n"
     ]
    }
   ],
   "source": [
    "# perform t test\n",
    "\n",
    "# calculate and extract yearly proportion totals\n",
    "doping_proportion = doped_year_total / year_total * 100\n",
    "doping_proportion['Year'] = [2009, 2010, 2011, 2012, 2013, 2014, 2015, 2016, 2017]\n",
    "doping_proportion_2017 = doping_proportion['Total'].values[8]\n",
    "doping_proportion_otheryrs = doping_proportion['Total'][:8]\n",
    "n3 = len(total_rate_otheryrs)\n",
    "\n",
    "# print some sample statistics\n",
    "print(doping_proportion['Total'].describe())\n",
    "print()\n",
    "print('Proportion in 2017:', doping_proportion_2017)\n",
    "print('Average proportion in years 2009-2016:', np.mean(doping_proportion_otheryrs))\n",
    "print()\n",
    "\n",
    "# calculate t statistic\n",
    "t3 = ( np.mean(doping_proportion_otheryrs) - doping_proportion_2017 ) / ( np.std(doping_proportion_otheryrs) / np.sqrt(n3) )\n",
    "print('t =', round(t3,3))\n",
    "\n",
    "# perform two sided t test\n",
    "p_t3 = stats.t.sf(abs(t3), n3-1) * 2\n",
    "print('p = p( t <= ', -round(t3,3), ') + p( t >= ', abs(round(t3,3)), ') = ', round(p_t3,3))\n",
    "print('p (unrounded) is ', p_t3)"
   ]
  },
  {
   "cell_type": "code",
   "execution_count": null,
   "metadata": {
    "collapsed": true
   },
   "outputs": [],
   "source": []
  }
 ],
 "metadata": {
  "kernelspec": {
   "display_name": "Python 3",
   "language": "python",
   "name": "python3"
  },
  "language_info": {
   "codemirror_mode": {
    "name": "ipython",
    "version": 3
   },
   "file_extension": ".py",
   "mimetype": "text/x-python",
   "name": "python",
   "nbconvert_exporter": "python",
   "pygments_lexer": "ipython3",
   "version": "3.6.2"
  }
 },
 "nbformat": 4,
 "nbformat_minor": 2
}
