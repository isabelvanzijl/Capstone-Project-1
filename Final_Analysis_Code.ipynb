{
 "cells": [
  {
   "cell_type": "code",
   "execution_count": 1673,
   "metadata": {
    "collapsed": true
   },
   "outputs": [],
   "source": [
    "# import packages\n",
    "import pandas as pd\n",
    "import numpy as np\n",
    "import scipy as sp\n",
    "from scipy import stats\n",
    "import seaborn as sns\n",
    "import matplotlib.pyplot as plt\n",
    "\n",
    "import sklearn.model_selection\n",
    "from sklearn import preprocessing\n",
    "from sklearn.linear_model import LogisticRegression\n",
    "from sklearn.cross_validation import train_test_split\n",
    "from sklearn import model_selection\n",
    "from sklearn.model_selection import cross_val_score\n",
    "from sklearn.metrics import confusion_matrix\n",
    "from sklearn.metrics import classification_report\n",
    "from sklearn.metrics import roc_auc_score\n",
    "from sklearn.metrics import roc_curve\n",
    "from sklearn.ensemble import RandomForestClassifier\n",
    "from sklearn.metrics import accuracy_score\n",
    "from sklearn.ensemble import ExtraTreesClassifier\n",
    "import statsmodels.api as sm\n",
    "import statsmodels.formula.api as smf\n",
    "import operator\n",
    "\n",
    "\n",
    "%matplotlib  inline\n",
    "pal = sns.set_palette(sns.cubehelix_palette(8, start=.2, rot=-.75, reverse=True))"
   ]
  },
  {
   "cell_type": "markdown",
   "metadata": {},
   "source": [
    "# Data Wrangling\n",
    "\n",
    "## Equine Death and Breakdown Dataset "
   ]
  },
  {
   "cell_type": "code",
   "execution_count": 1588,
   "metadata": {},
   "outputs": [
    {
     "name": "stdout",
     "output_type": "stream",
     "text": [
      "<class 'pandas.core.frame.DataFrame'>\n",
      "RangeIndex: 3240 entries, 0 to 3239\n",
      "Data columns (total 13 columns):\n",
      "Year                       3240 non-null int64\n",
      "Incident Date              3240 non-null object\n",
      "Incident Type              3240 non-null object\n",
      "Track                      3240 non-null object\n",
      "Inv Location               3238 non-null object\n",
      "Racing Type Description    3240 non-null object\n",
      "Division                   3240 non-null object\n",
      "Weather Conditions         3193 non-null object\n",
      "Horse                      3240 non-null object\n",
      "Trainer                    3240 non-null object\n",
      "Jockey Driver              3240 non-null object\n",
      "Incident Description       3240 non-null object\n",
      "Death or Injury            3239 non-null object\n",
      "dtypes: int64(1), object(12)\n",
      "memory usage: 329.1+ KB\n",
      "None\n",
      "Shape: (3240, 13)\n"
     ]
    }
   ],
   "source": [
    "# load the dataset as a dataframe\n",
    "df1 = pd.read_csv('Equine_Death_and_Breakdown.csv')\n",
    "print(df1.info())\n",
    "#print(df1.head())\n",
    "#print(df1.columns)\n",
    "print('Shape:', df1.shape)"
   ]
  },
  {
   "cell_type": "code",
   "execution_count": 1589,
   "metadata": {},
   "outputs": [
    {
     "name": "stdout",
     "output_type": "stream",
     "text": [
      "Number of blank cells in each column after replacement:\n",
      "Incident Type 0\n",
      "Track 0\n",
      "Inv Location 0\n",
      "Racing Type Description 0\n",
      "Division 0\n",
      "Weather Conditions 0\n",
      "Horse 0\n",
      "Trainer 0\n",
      "Jockey Driver 0\n",
      "Incident Description 0\n",
      "Death or Injury 0\n",
      "\n",
      "<class 'pandas.core.frame.DataFrame'>\n",
      "RangeIndex: 3240 entries, 0 to 3239\n",
      "Data columns (total 13 columns):\n",
      "Year                       3240 non-null int64\n",
      "Incident Date              3240 non-null object\n",
      "Incident Type              3240 non-null object\n",
      "Track                      3240 non-null object\n",
      "Inv Location               3137 non-null object\n",
      "Racing Type Description    3240 non-null object\n",
      "Division                   3240 non-null object\n",
      "Weather Conditions         2189 non-null object\n",
      "Horse                      3239 non-null object\n",
      "Trainer                    3185 non-null object\n",
      "Jockey Driver              2090 non-null object\n",
      "Incident Description       3240 non-null object\n",
      "Death or Injury            2751 non-null object\n",
      "dtypes: int64(1), object(12)\n",
      "memory usage: 329.1+ KB\n"
     ]
    }
   ],
   "source": [
    "# use replace() to convert all ' ' cells to null\n",
    "df1 = df1.replace(' ', np.NaN)\n",
    "\n",
    "# count how many blank cells there are in each column of type object\n",
    "print('Number of blank cells in each column after replacement:')\n",
    "print('Incident Type', df1.loc[df1['Incident Type'] == ' ']['Incident Type'].count())\n",
    "print('Track', df1.loc[df1['Track'] == ' ']['Track'].count())\n",
    "print('Inv Location', df1.loc[df1['Inv Location'] == ' ']['Inv Location'].count())\n",
    "print('Racing Type Description', df1.loc[df1['Racing Type Description'] == ' ']['Racing Type Description'].count())\n",
    "print('Division', df1.loc[df1['Division'] == ' ']['Division'].count())\n",
    "print('Weather Conditions', df1.loc[df1['Weather Conditions'] == ' ']['Weather Conditions'].count())\n",
    "print('Horse', df1.loc[df1['Horse'] == ' ']['Horse'].count())\n",
    "print('Trainer', df1.loc[df1['Trainer'] == ' ']['Trainer'].count())\n",
    "print('Jockey Driver', df1.loc[df1['Jockey Driver'] == ' ']['Jockey Driver'].count())\n",
    "print('Incident Description', df1.loc[df1['Incident Description'] == ' ']['Incident Description'].count())\n",
    "print('Death or Injury', df1.loc[df1['Death or Injury'] == ' ']['Death or Injury'].count())\n",
    "print()\n",
    "\n",
    "# check how non-null records exist for each column\n",
    "df1.info()"
   ]
  },
  {
   "cell_type": "code",
   "execution_count": 1590,
   "metadata": {
    "collapsed": true
   },
   "outputs": [],
   "source": [
    "# change categorical data to datatype 'category'"
   ]
  },
  {
   "cell_type": "code",
   "execution_count": 1591,
   "metadata": {},
   "outputs": [
    {
     "name": "stdout",
     "output_type": "stream",
     "text": [
      "Incident Type\n",
      "ACCIDENT - DRIVER/JOCKEY               10\n",
      "ACCIDENT - IN STARTING GATE            22\n",
      "ACCIDENT - ON TRACK                   107\n",
      "ACCIDENT - TAGGED SULKY                56\n",
      "DRIVER/JOCKEY INJURED                   7\n",
      "EQUINE DEATH                         1234\n",
      "EQUINE DEATH - INFECTIOUS DISEASE      10\n",
      "FALL OF HORSE                         114\n",
      "FALL OF RIDER                         211\n",
      "ON-TRACK ACCIDENT                       7\n",
      "RACING INJURY                         305\n",
      "STEWARDS/VETS LIST                   1157\n",
      "Name: Incident Type, dtype: int64\n",
      "\n",
      "Incident Type\n",
      "ACCIDENT - DRIVER/JOCKEY               10\n",
      "ACCIDENT - IN STARTING GATE            22\n",
      "ACCIDENT - ON TRACK                   114\n",
      "ACCIDENT - TAGGED SULKY                56\n",
      "DRIVER/JOCKEY INJURED                   7\n",
      "EQUINE DEATH                         1234\n",
      "EQUINE DEATH - INFECTIOUS DISEASE      10\n",
      "FALL OF HORSE                         114\n",
      "FALL OF RIDER                         211\n",
      "RACING INJURY                         305\n",
      "STEWARDS/VETS LIST                   1157\n",
      "Name: Incident Type, dtype: int64\n",
      "\n",
      "Datatype of Incident Type column: category\n"
     ]
    }
   ],
   "source": [
    "# INCIDENT TYPE\n",
    "\n",
    "# use groupby() to display the different incident types\n",
    "# use count() to display how many records for each incident type\n",
    "print(df1.groupby(['Incident Type'])['Incident Type'].count())\n",
    "print()\n",
    "\n",
    "# recategorize the on track accidents so they have the same incident type name\n",
    "df1['Incident Type'] = df1['Incident Type'].replace('ON-TRACK ACCIDENT','ACCIDENT - ON TRACK')\n",
    "print(df1.groupby(['Incident Type'])['Incident Type'].count())\n",
    "print()\n",
    "\n",
    "# update the datatype of 'Incident Type' to be categorical and check the datatype\n",
    "df1['Incident Type'] = df1['Incident Type'].astype('category')\n",
    "print('Datatype of Incident Type column:', df1['Incident Type'].dtype)"
   ]
  },
  {
   "cell_type": "code",
   "execution_count": 1592,
   "metadata": {},
   "outputs": [
    {
     "name": "stdout",
     "output_type": "stream",
     "text": [
      "Track\n",
      "Aqueduct Racetrack (NYRA)               625\n",
      "Batavia Downs                            64\n",
      "Belmont Park (NYRA)                     724\n",
      "Buffalo Raceway                         101\n",
      "Finger Lakes Gaming & Racetrack         513\n",
      "Monticello Raceway & Mighty M Gaming    205\n",
      "Saratoga Gaming & Raceway               402\n",
      "Saratoga Racecourse (NYRA)              327\n",
      "Tioga Downs                              80\n",
      "Vernon Downs                             62\n",
      "Yonkers Raceway                         137\n",
      "Name: Track, dtype: int64\n",
      "\n",
      "Racing Type Description\n",
      "Non-Racing     317\n",
      "Racing        2526\n",
      "Training       377\n",
      "Unknown         20\n",
      "Name: Racing Type Description, dtype: int64\n",
      "\n",
      "Division\n",
      "Harness         1051\n",
      "Thoroughbred    2189\n",
      "Name: Division, dtype: int64\n",
      "\n",
      "<class 'pandas.core.frame.DataFrame'>\n",
      "RangeIndex: 3240 entries, 0 to 3239\n",
      "Data columns (total 13 columns):\n",
      "Year                       3240 non-null int64\n",
      "Incident Date              3240 non-null object\n",
      "Incident Type              3240 non-null category\n",
      "Track                      3240 non-null category\n",
      "Inv Location               3137 non-null object\n",
      "Racing Type Description    3240 non-null category\n",
      "Division                   3240 non-null category\n",
      "Weather Conditions         2189 non-null object\n",
      "Horse                      3239 non-null object\n",
      "Trainer                    3185 non-null object\n",
      "Jockey Driver              2090 non-null object\n",
      "Incident Description       3240 non-null object\n",
      "Death or Injury            2751 non-null object\n",
      "dtypes: category(4), int64(1), object(8)\n",
      "memory usage: 241.6+ KB\n",
      "None\n"
     ]
    }
   ],
   "source": [
    "# TRACK NAMES, RACING TYPE DESCRIPTION, DIVISION\n",
    "\n",
    "# check the track names\n",
    "print(df1.groupby(['Track'])['Track'].count())\n",
    "print()\n",
    "\n",
    "# check racing type descriptions\n",
    "print(df1.groupby(['Racing Type Description'])['Racing Type Description'].count())\n",
    "print()\n",
    "\n",
    "# check division\n",
    "print(df1.groupby(['Division'])['Division'].count())\n",
    "print()\n",
    "\n",
    "# all three columns have good categorical data\n",
    "# update dataype of 'Track', 'Racing Type Description', and 'Division to category\n",
    "df1['Track'] = df1['Track'].astype('category')\n",
    "df1['Racing Type Description'] = df1['Racing Type Description'].astype('category')\n",
    "df1['Division'] = df1['Division'].astype('category')\n",
    "\n",
    "# check datatypes of all the columns by calling the info() method\n",
    "print(df1.info())"
   ]
  },
  {
   "cell_type": "code",
   "execution_count": 1593,
   "metadata": {},
   "outputs": [
    {
     "name": "stdout",
     "output_type": "stream",
     "text": [
      "Death or Injury\n",
      "Accident                        249\n",
      "Death                             3\n",
      "Equine Death                    683\n",
      "Equine Injury                   101\n",
      "Equine Injury / Equine Death     46\n",
      "Euthanasia                      465\n",
      "Injury                          220\n",
      "Lame no death                     1\n",
      "Lameness                        110\n",
      "Steward's List                  872\n",
      "death                             1\n",
      "Name: Death or Injury, dtype: int64\n",
      "\n",
      "Death or Injury\n",
      "Accident                        249\n",
      "Equine Death                    687\n",
      "Equine Injury                   321\n",
      "Equine Injury / Equine Death     46\n",
      "Euthanasia                      465\n",
      "Lameness                        111\n",
      "Steward's List                  872\n",
      "Name: Death or Injury, dtype: int64\n",
      "\n",
      "Datatype of Death or Injury column: category\n"
     ]
    }
   ],
   "source": [
    "# DEATH OR INJURY\n",
    "\n",
    "# check death or injury\n",
    "print(df1.groupby(['Death or Injury'])['Death or Injury'].count())\n",
    "print()\n",
    "\n",
    "# use the replace() method to conslidate categories that are the same\n",
    "df1['Death or Injury'] = df1['Death or Injury'].replace(['Death','death'],'Equine Death')\n",
    "df1['Death or Injury'] = df1['Death or Injury'].replace('Lame no death','Lameness')\n",
    "df1['Death or Injury'] = df1['Death or Injury'].replace('Injury','Equine Injury')\n",
    "print(df1.groupby(['Death or Injury'])['Death or Injury'].count())\n",
    "print()\n",
    "\n",
    "# update the datatype of 'Death or Injury' to be categorical and check the datatype\n",
    "df1['Death or Injury'] = df1['Death or Injury'].astype('category')\n",
    "print('Datatype of Death or Injury column:', df1['Death or Injury'].dtype)"
   ]
  },
  {
   "cell_type": "code",
   "execution_count": 1594,
   "metadata": {},
   "outputs": [
    {
     "name": "stdout",
     "output_type": "stream",
     "text": [
      "Datatype of Incident Date column: datetime64[ns]\n"
     ]
    }
   ],
   "source": [
    "# INCIDENT DATE\n",
    "\n",
    "# update the datatype of 'Incident Date' to be a datetime object and check the datatype\n",
    "df1['Incident Date'] = pd.to_datetime(df1['Incident Date'],format='%m/%d/%Y')\n",
    "print('Datatype of Incident Date column:', df1['Incident Date'].dtype)"
   ]
  },
  {
   "cell_type": "code",
   "execution_count": 1595,
   "metadata": {},
   "outputs": [
    {
     "name": "stdout",
     "output_type": "stream",
     "text": [
      "<class 'pandas.core.frame.DataFrame'>\n",
      "RangeIndex: 3240 entries, 0 to 3239\n",
      "Data columns (total 13 columns):\n",
      "Year                       3240 non-null int64\n",
      "Incident Date              3240 non-null datetime64[ns]\n",
      "Incident Type              3240 non-null category\n",
      "Track                      3240 non-null category\n",
      "Inv Location               3137 non-null object\n",
      "Racing Type Description    3240 non-null category\n",
      "Division                   3240 non-null category\n",
      "Weather Conditions         2189 non-null object\n",
      "Horse                      3239 non-null object\n",
      "Trainer                    3185 non-null object\n",
      "Jockey Driver              2090 non-null object\n",
      "Incident Description       3240 non-null object\n",
      "Death or Injury            2751 non-null category\n",
      "dtypes: category(5), datetime64[ns](1), int64(1), object(6)\n",
      "memory usage: 219.8+ KB\n"
     ]
    }
   ],
   "source": [
    "# CHECK all datatypes using the info() method\n",
    "df1.info()"
   ]
  },
  {
   "cell_type": "code",
   "execution_count": 1596,
   "metadata": {
    "collapsed": true
   },
   "outputs": [],
   "source": [
    "# WEATHER CONDITIONS\n",
    "# create new columns with binomial (previously boolean) data"
   ]
  },
  {
   "cell_type": "code",
   "execution_count": 1597,
   "metadata": {},
   "outputs": [
    {
     "name": "stdout",
     "output_type": "stream",
     "text": [
      "Number of unique weather conditions: 808\n",
      "\n",
      "Most common weather conditions:\n",
      "Clear                          307\n",
      "Cloudy                         125\n",
      "Sunny                           39\n",
      "Clear 50 to 55 : degrees F      34\n",
      "Clear 60 to 65 : degrees F      28\n",
      "clear                           27\n",
      "Cloudy 50 to 55 : degrees F     24\n",
      "Overcast                        22\n",
      "Rain                            22\n",
      "80* Clear                       20\n",
      "Clear 30 to 40 : degrees F      18\n",
      "Clear 45 to 50 : degrees F      18\n",
      "60* Clear                       17\n",
      "Clear 75 to 80 : degrees F      16\n",
      "75* Clear                       16\n",
      "Name: Weather Conditions, dtype: int64\n"
     ]
    }
   ],
   "source": [
    "# check number of unique strings\n",
    "print('Number of unique weather conditions:', df1['Weather Conditions'].nunique())\n",
    "print()\n",
    "\n",
    "# display some of the more common weather condition descriptions\n",
    "print('Most common weather conditions:')\n",
    "print(df1['Weather Conditions'].value_counts().head(15))"
   ]
  },
  {
   "cell_type": "code",
   "execution_count": 1598,
   "metadata": {
    "collapsed": true
   },
   "outputs": [],
   "source": [
    "# create new binomial variable columns\n",
    "df1['Cloudy'] = np.nan\n",
    "df1['Sunny'] = np.nan\n",
    "df1['Clear'] = np.nan\n",
    "df1['Overcast'] = np.nan\n",
    "df1['Rain'] = np.nan\n",
    "df1['Snow'] = np.nan\n",
    "df1['Wind'] = np.nan\n",
    "df1['Thunder Storm'] = np.nan\n",
    "df1['Hot'] = np.nan\n",
    "df1['Humid'] = np.nan\n",
    "df1['Warm'] = np.nan\n",
    "\n",
    "# use info() to display all columns\n",
    "#print(df1.info())"
   ]
  },
  {
   "cell_type": "code",
   "execution_count": 1599,
   "metadata": {
    "collapsed": true
   },
   "outputs": [],
   "source": [
    "# populate binomial weather condition columns"
   ]
  },
  {
   "cell_type": "code",
   "execution_count": 1600,
   "metadata": {
    "collapsed": true
   },
   "outputs": [],
   "source": [
    "# populate 'Cloudy' column\n",
    "\n",
    "# create make_cloudy function\n",
    "def make_cloudy(condition):\n",
    "    if 'cloud' in str(condition).lower():\n",
    "        return 1\n",
    "    else:\n",
    "        return 0\n",
    "\n",
    "# apply make_cloudy function\n",
    "df1['Cloudy'] = df1['Weather Conditions'].apply(make_cloudy)"
   ]
  },
  {
   "cell_type": "code",
   "execution_count": 1601,
   "metadata": {
    "collapsed": true
   },
   "outputs": [],
   "source": [
    "# populate 'Sunny' column\n",
    "\n",
    "# create make_sunny function\n",
    "def make_sunny(condition):\n",
    "    if 'sun' in str(condition).lower():\n",
    "        return 1\n",
    "    else:\n",
    "        return 0\n",
    "\n",
    "# apply make_sunny function\n",
    "df1['Sunny'] = df1['Weather Conditions'].apply(make_sunny)"
   ]
  },
  {
   "cell_type": "code",
   "execution_count": 1602,
   "metadata": {
    "collapsed": true
   },
   "outputs": [],
   "source": [
    "# populate 'Clear' column\n",
    "\n",
    "# create make_clear function\n",
    "def make_clear(condition):\n",
    "    if 'clear' in str(condition).lower():\n",
    "        return 1\n",
    "    else:\n",
    "        return 0\n",
    "\n",
    "# apply make_clear function\n",
    "df1['Clear'] = df1['Weather Conditions'].apply(make_clear)"
   ]
  },
  {
   "cell_type": "code",
   "execution_count": 1603,
   "metadata": {
    "collapsed": true
   },
   "outputs": [],
   "source": [
    "# populate 'Overcast' column\n",
    "\n",
    "# create make_overcast function\n",
    "def make_overcast(condition):\n",
    "    if 'overcast' in str(condition).lower():\n",
    "        return 1\n",
    "    else:\n",
    "        return 0\n",
    "\n",
    "# apply make_overcast function\n",
    "df1['Overcast'] = df1['Weather Conditions'].apply(make_overcast)"
   ]
  },
  {
   "cell_type": "code",
   "execution_count": 1604,
   "metadata": {
    "collapsed": true
   },
   "outputs": [],
   "source": [
    "# populate 'Rain' column\n",
    "\n",
    "# create make_rain function\n",
    "def make_rain(condition):\n",
    "    if 'rain' in str(condition).lower():\n",
    "        return 1\n",
    "    else:\n",
    "        return 0\n",
    "    \n",
    "# apply make_rain function\n",
    "df1['Rain'] = df1['Weather Conditions'].apply(make_rain)"
   ]
  },
  {
   "cell_type": "code",
   "execution_count": 1605,
   "metadata": {
    "collapsed": true
   },
   "outputs": [],
   "source": [
    "# populate 'Snow' column\n",
    "\n",
    "# create make_snow function\n",
    "def make_snow(condition):\n",
    "    if 'snow' in str(condition).lower():\n",
    "        return 1\n",
    "    else:\n",
    "        return 0\n",
    "    \n",
    "# apply make_snow function\n",
    "df1['Snow'] = df1['Weather Conditions'].apply(make_snow)"
   ]
  },
  {
   "cell_type": "code",
   "execution_count": 1606,
   "metadata": {
    "collapsed": true
   },
   "outputs": [],
   "source": [
    "# populate 'Wind' column\n",
    "\n",
    "# create make_wind function\n",
    "def make_wind(condition):\n",
    "    if 'wind' in str(condition).lower():\n",
    "        return 1\n",
    "    else:\n",
    "        return 0\n",
    "    \n",
    "# apply make_wind function\n",
    "df1['Wind'] = df1['Weather Conditions'].apply(make_wind)"
   ]
  },
  {
   "cell_type": "code",
   "execution_count": 1607,
   "metadata": {
    "collapsed": true
   },
   "outputs": [],
   "source": [
    "# populate 'Thunder Storm' column\n",
    "\n",
    "# create make_thunder function\n",
    "def make_thunder(condition):\n",
    "    if 'thunder' in str(condition).lower():\n",
    "        return 1\n",
    "    else:\n",
    "        return 0\n",
    "    \n",
    "# apply make_thunder function\n",
    "df1['Thunder Storm'] = df1['Weather Conditions'].apply(make_thunder)"
   ]
  },
  {
   "cell_type": "code",
   "execution_count": 1608,
   "metadata": {
    "collapsed": true
   },
   "outputs": [],
   "source": [
    "# populate 'Hot' column\n",
    "\n",
    "# create make_hot function\n",
    "def make_hot(condition):\n",
    "    if 'hot' in str(condition).lower():\n",
    "        return 1\n",
    "    else:\n",
    "        return 0\n",
    "    \n",
    "# apply make_hot function\n",
    "df1['Hot'] = df1['Weather Conditions'].apply(make_hot)"
   ]
  },
  {
   "cell_type": "code",
   "execution_count": 1609,
   "metadata": {
    "collapsed": true
   },
   "outputs": [],
   "source": [
    "# populate 'Humid' column\n",
    "\n",
    "# create make_humid function\n",
    "def make_humid(condition):\n",
    "    if 'humid' in str(condition).lower():\n",
    "        return 1\n",
    "    else:\n",
    "        return 0\n",
    "    \n",
    "# apply make_humid function\n",
    "df1['Humid'] = df1['Weather Conditions'].apply(make_humid)"
   ]
  },
  {
   "cell_type": "code",
   "execution_count": 1610,
   "metadata": {
    "collapsed": true
   },
   "outputs": [],
   "source": [
    "# populate 'Warm' column\n",
    "\n",
    "#create make_warm function\n",
    "def make_warm(condition):\n",
    "    if 'warm' in str(condition).lower():\n",
    "        return 1\n",
    "    else:\n",
    "        return 0\n",
    "    \n",
    "# apply make_warm function\n",
    "df1['Warm'] = df1['Weather Conditions'].apply(make_warm)"
   ]
  },
  {
   "cell_type": "code",
   "execution_count": 1611,
   "metadata": {},
   "outputs": [
    {
     "name": "stdout",
     "output_type": "stream",
     "text": [
      "Shape: (3240, 24)\n"
     ]
    }
   ],
   "source": [
    "# display the head of the dataframe\n",
    "#df1.head(15)\n",
    "\n",
    "# use info() to display columns\n",
    "#print(df1.info())\n",
    "\n",
    "# display new shape of dataframe\n",
    "print('Shape:', df1.shape)"
   ]
  },
  {
   "cell_type": "markdown",
   "metadata": {},
   "source": [
    "## Doping History Trainers Dataset"
   ]
  },
  {
   "cell_type": "code",
   "execution_count": 1612,
   "metadata": {},
   "outputs": [
    {
     "name": "stdout",
     "output_type": "stream",
     "text": [
      "<class 'pandas.core.frame.DataFrame'>\n",
      "RangeIndex: 24 entries, 0 to 23\n",
      "Data columns (total 4 columns):\n",
      "Trainer               24 non-null object\n",
      "Year of Action        24 non-null int64\n",
      "Action Description    24 non-null object\n",
      "Source                24 non-null object\n",
      "dtypes: int64(1), object(3)\n",
      "memory usage: 848.0+ bytes\n",
      "None\n",
      "Shape: (24, 4)\n"
     ]
    }
   ],
   "source": [
    "# load the dataset as a dataframe\n",
    "df2 = pd.read_csv('Doping_History_Trainers.csv',sep=';')\n",
    "print(df2.info())\n",
    "#print(df2.head())\n",
    "#print(df2.columns)\n",
    "print('Shape:', df2.shape)"
   ]
  },
  {
   "cell_type": "markdown",
   "metadata": {},
   "source": [
    "## Merging the Datasets"
   ]
  },
  {
   "cell_type": "code",
   "execution_count": 1613,
   "metadata": {},
   "outputs": [
    {
     "data": {
      "text/html": [
       "<div>\n",
       "<style>\n",
       "    .dataframe thead tr:only-child th {\n",
       "        text-align: right;\n",
       "    }\n",
       "\n",
       "    .dataframe thead th {\n",
       "        text-align: left;\n",
       "    }\n",
       "\n",
       "    .dataframe tbody tr th {\n",
       "        vertical-align: top;\n",
       "    }\n",
       "</style>\n",
       "<table border=\"1\" class=\"dataframe\">\n",
       "  <thead>\n",
       "    <tr style=\"text-align: right;\">\n",
       "      <th></th>\n",
       "      <th>Year</th>\n",
       "      <th>Incident Date</th>\n",
       "      <th>Incident Type</th>\n",
       "      <th>Track</th>\n",
       "      <th>Inv Location</th>\n",
       "      <th>Racing Type Description</th>\n",
       "      <th>Division</th>\n",
       "      <th>Weather Conditions</th>\n",
       "      <th>Horse</th>\n",
       "      <th>Trainer</th>\n",
       "      <th>...</th>\n",
       "      <th>Rain</th>\n",
       "      <th>Snow</th>\n",
       "      <th>Wind</th>\n",
       "      <th>Thunder Storm</th>\n",
       "      <th>Hot</th>\n",
       "      <th>Humid</th>\n",
       "      <th>Warm</th>\n",
       "      <th>Year of Action</th>\n",
       "      <th>Action Description</th>\n",
       "      <th>Source</th>\n",
       "    </tr>\n",
       "  </thead>\n",
       "  <tbody>\n",
       "    <tr>\n",
       "      <th>0</th>\n",
       "      <td>2009</td>\n",
       "      <td>2009-03-04</td>\n",
       "      <td>EQUINE DEATH</td>\n",
       "      <td>Aqueduct Racetrack (NYRA)</td>\n",
       "      <td>Aqueduct</td>\n",
       "      <td>Racing</td>\n",
       "      <td>Thoroughbred</td>\n",
       "      <td>NaN</td>\n",
       "      <td>Private Details</td>\n",
       "      <td>JOHN P. TERRANOVA II</td>\n",
       "      <td>...</td>\n",
       "      <td>0</td>\n",
       "      <td>0</td>\n",
       "      <td>0</td>\n",
       "      <td>0</td>\n",
       "      <td>0</td>\n",
       "      <td>0</td>\n",
       "      <td>0</td>\n",
       "      <td>NaN</td>\n",
       "      <td>NaN</td>\n",
       "      <td>NaN</td>\n",
       "    </tr>\n",
       "    <tr>\n",
       "      <th>1</th>\n",
       "      <td>2009</td>\n",
       "      <td>2009-03-04</td>\n",
       "      <td>ACCIDENT - ON TRACK</td>\n",
       "      <td>Aqueduct Racetrack (NYRA)</td>\n",
       "      <td>NaN</td>\n",
       "      <td>Racing</td>\n",
       "      <td>Thoroughbred</td>\n",
       "      <td>NaN</td>\n",
       "      <td>Private Details</td>\n",
       "      <td>JOHN P. TERRANOVA II</td>\n",
       "      <td>...</td>\n",
       "      <td>0</td>\n",
       "      <td>0</td>\n",
       "      <td>0</td>\n",
       "      <td>0</td>\n",
       "      <td>0</td>\n",
       "      <td>0</td>\n",
       "      <td>0</td>\n",
       "      <td>NaN</td>\n",
       "      <td>NaN</td>\n",
       "      <td>NaN</td>\n",
       "    </tr>\n",
       "    <tr>\n",
       "      <th>2</th>\n",
       "      <td>2009</td>\n",
       "      <td>2009-03-04</td>\n",
       "      <td>ACCIDENT - ON TRACK</td>\n",
       "      <td>Aqueduct Racetrack (NYRA)</td>\n",
       "      <td>Aqueduct</td>\n",
       "      <td>Racing</td>\n",
       "      <td>Thoroughbred</td>\n",
       "      <td>NaN</td>\n",
       "      <td>All Bets Off</td>\n",
       "      <td>B E. LEVINE</td>\n",
       "      <td>...</td>\n",
       "      <td>0</td>\n",
       "      <td>0</td>\n",
       "      <td>0</td>\n",
       "      <td>0</td>\n",
       "      <td>0</td>\n",
       "      <td>0</td>\n",
       "      <td>0</td>\n",
       "      <td>NaN</td>\n",
       "      <td>NaN</td>\n",
       "      <td>NaN</td>\n",
       "    </tr>\n",
       "    <tr>\n",
       "      <th>3</th>\n",
       "      <td>2009</td>\n",
       "      <td>2009-03-04</td>\n",
       "      <td>ACCIDENT - ON TRACK</td>\n",
       "      <td>Aqueduct Racetrack (NYRA)</td>\n",
       "      <td>Aqueduct</td>\n",
       "      <td>Racing</td>\n",
       "      <td>Thoroughbred</td>\n",
       "      <td>NaN</td>\n",
       "      <td>Hot Chile Soup</td>\n",
       "      <td>ENRIQUE ARROYO</td>\n",
       "      <td>...</td>\n",
       "      <td>0</td>\n",
       "      <td>0</td>\n",
       "      <td>0</td>\n",
       "      <td>0</td>\n",
       "      <td>0</td>\n",
       "      <td>0</td>\n",
       "      <td>0</td>\n",
       "      <td>NaN</td>\n",
       "      <td>NaN</td>\n",
       "      <td>NaN</td>\n",
       "    </tr>\n",
       "    <tr>\n",
       "      <th>4</th>\n",
       "      <td>2009</td>\n",
       "      <td>2009-03-04</td>\n",
       "      <td>ACCIDENT - ON TRACK</td>\n",
       "      <td>Aqueduct Racetrack (NYRA)</td>\n",
       "      <td>Aqueduct</td>\n",
       "      <td>Racing</td>\n",
       "      <td>Thoroughbred</td>\n",
       "      <td>NaN</td>\n",
       "      <td>One Dream Union</td>\n",
       "      <td>BRUCE R. BROWN</td>\n",
       "      <td>...</td>\n",
       "      <td>0</td>\n",
       "      <td>0</td>\n",
       "      <td>0</td>\n",
       "      <td>0</td>\n",
       "      <td>0</td>\n",
       "      <td>0</td>\n",
       "      <td>0</td>\n",
       "      <td>NaN</td>\n",
       "      <td>NaN</td>\n",
       "      <td>NaN</td>\n",
       "    </tr>\n",
       "  </tbody>\n",
       "</table>\n",
       "<p>5 rows × 27 columns</p>\n",
       "</div>"
      ],
      "text/plain": [
       "   Year Incident Date        Incident Type                      Track  \\\n",
       "0  2009    2009-03-04         EQUINE DEATH  Aqueduct Racetrack (NYRA)   \n",
       "1  2009    2009-03-04  ACCIDENT - ON TRACK  Aqueduct Racetrack (NYRA)   \n",
       "2  2009    2009-03-04  ACCIDENT - ON TRACK  Aqueduct Racetrack (NYRA)   \n",
       "3  2009    2009-03-04  ACCIDENT - ON TRACK  Aqueduct Racetrack (NYRA)   \n",
       "4  2009    2009-03-04  ACCIDENT - ON TRACK  Aqueduct Racetrack (NYRA)   \n",
       "\n",
       "  Inv Location Racing Type Description      Division Weather Conditions  \\\n",
       "0     Aqueduct                  Racing  Thoroughbred                NaN   \n",
       "1          NaN                  Racing  Thoroughbred                NaN   \n",
       "2     Aqueduct                  Racing  Thoroughbred                NaN   \n",
       "3     Aqueduct                  Racing  Thoroughbred                NaN   \n",
       "4     Aqueduct                  Racing  Thoroughbred                NaN   \n",
       "\n",
       "             Horse               Trainer   ...   Rain Snow Wind  \\\n",
       "0  Private Details  JOHN P. TERRANOVA II   ...      0    0    0   \n",
       "1  Private Details  JOHN P. TERRANOVA II   ...      0    0    0   \n",
       "2     All Bets Off           B E. LEVINE   ...      0    0    0   \n",
       "3   Hot Chile Soup        ENRIQUE ARROYO   ...      0    0    0   \n",
       "4  One Dream Union        BRUCE R. BROWN   ...      0    0    0   \n",
       "\n",
       "   Thunder Storm  Hot  Humid  Warm  Year of Action  Action Description  Source  \n",
       "0              0    0      0     0             NaN                 NaN     NaN  \n",
       "1              0    0      0     0             NaN                 NaN     NaN  \n",
       "2              0    0      0     0             NaN                 NaN     NaN  \n",
       "3              0    0      0     0             NaN                 NaN     NaN  \n",
       "4              0    0      0     0             NaN                 NaN     NaN  \n",
       "\n",
       "[5 rows x 27 columns]"
      ]
     },
     "execution_count": 1613,
     "metadata": {},
     "output_type": "execute_result"
    }
   ],
   "source": [
    "# merge the two dataframes on 'Trainer'\n",
    "df = df1.merge(df2,on='Trainer',how='left')\n",
    "df.head()"
   ]
  },
  {
   "cell_type": "code",
   "execution_count": 1614,
   "metadata": {},
   "outputs": [
    {
     "data": {
      "text/html": [
       "<div>\n",
       "<style>\n",
       "    .dataframe thead tr:only-child th {\n",
       "        text-align: right;\n",
       "    }\n",
       "\n",
       "    .dataframe thead th {\n",
       "        text-align: left;\n",
       "    }\n",
       "\n",
       "    .dataframe tbody tr th {\n",
       "        vertical-align: top;\n",
       "    }\n",
       "</style>\n",
       "<table border=\"1\" class=\"dataframe\">\n",
       "  <thead>\n",
       "    <tr style=\"text-align: right;\">\n",
       "      <th></th>\n",
       "      <th>Year</th>\n",
       "      <th>Incident Date</th>\n",
       "      <th>Incident Type</th>\n",
       "      <th>Track</th>\n",
       "      <th>Inv Location</th>\n",
       "      <th>Racing Type Description</th>\n",
       "      <th>Division</th>\n",
       "      <th>Weather Conditions</th>\n",
       "      <th>Horse</th>\n",
       "      <th>Trainer</th>\n",
       "      <th>...</th>\n",
       "      <th>Rain</th>\n",
       "      <th>Snow</th>\n",
       "      <th>Wind</th>\n",
       "      <th>Thunder Storm</th>\n",
       "      <th>Hot</th>\n",
       "      <th>Humid</th>\n",
       "      <th>Warm</th>\n",
       "      <th>Year of Action</th>\n",
       "      <th>Action Description</th>\n",
       "      <th>Source</th>\n",
       "    </tr>\n",
       "  </thead>\n",
       "  <tbody>\n",
       "    <tr>\n",
       "      <th>34</th>\n",
       "      <td>2009</td>\n",
       "      <td>2009-04-28</td>\n",
       "      <td>EQUINE DEATH</td>\n",
       "      <td>Belmont Park (NYRA)</td>\n",
       "      <td>1mile 1/4</td>\n",
       "      <td>Training</td>\n",
       "      <td>Thoroughbred</td>\n",
       "      <td>Clear</td>\n",
       "      <td>Timberah</td>\n",
       "      <td>STEVEN M. ASMUSSEN</td>\n",
       "      <td>...</td>\n",
       "      <td>0</td>\n",
       "      <td>0</td>\n",
       "      <td>0</td>\n",
       "      <td>0</td>\n",
       "      <td>0</td>\n",
       "      <td>0</td>\n",
       "      <td>0</td>\n",
       "      <td>2015.0</td>\n",
       "      <td>fined for violating New York State Gaming Comm...</td>\n",
       "      <td>https://www.nytimes.com/2015/11/24/sports/stev...</td>\n",
       "    </tr>\n",
       "    <tr>\n",
       "      <th>207</th>\n",
       "      <td>2009</td>\n",
       "      <td>2009-08-29</td>\n",
       "      <td>STEWARDS/VETS LIST</td>\n",
       "      <td>Saratoga Racecourse (NYRA)</td>\n",
       "      <td>5/8 Pole.</td>\n",
       "      <td>Racing</td>\n",
       "      <td>Thoroughbred</td>\n",
       "      <td>Cloudy</td>\n",
       "      <td>Cairiene</td>\n",
       "      <td>STEVEN M. ASMUSSEN</td>\n",
       "      <td>...</td>\n",
       "      <td>0</td>\n",
       "      <td>0</td>\n",
       "      <td>0</td>\n",
       "      <td>0</td>\n",
       "      <td>0</td>\n",
       "      <td>0</td>\n",
       "      <td>0</td>\n",
       "      <td>2015.0</td>\n",
       "      <td>fined for violating New York State Gaming Comm...</td>\n",
       "      <td>https://www.nytimes.com/2015/11/24/sports/stev...</td>\n",
       "    </tr>\n",
       "    <tr>\n",
       "      <th>208</th>\n",
       "      <td>2009</td>\n",
       "      <td>2009-08-29</td>\n",
       "      <td>STEWARDS/VETS LIST</td>\n",
       "      <td>Saratoga Racecourse (NYRA)</td>\n",
       "      <td>5/8 Pole.</td>\n",
       "      <td>Unknown</td>\n",
       "      <td>Thoroughbred</td>\n",
       "      <td>Cloudy</td>\n",
       "      <td>Cairiene</td>\n",
       "      <td>STEVEN M. ASMUSSEN</td>\n",
       "      <td>...</td>\n",
       "      <td>0</td>\n",
       "      <td>0</td>\n",
       "      <td>0</td>\n",
       "      <td>0</td>\n",
       "      <td>0</td>\n",
       "      <td>0</td>\n",
       "      <td>0</td>\n",
       "      <td>2015.0</td>\n",
       "      <td>fined for violating New York State Gaming Comm...</td>\n",
       "      <td>https://www.nytimes.com/2015/11/24/sports/stev...</td>\n",
       "    </tr>\n",
       "    <tr>\n",
       "      <th>339</th>\n",
       "      <td>2010</td>\n",
       "      <td>2010-01-01</td>\n",
       "      <td>FALL OF RIDER</td>\n",
       "      <td>Aqueduct Racetrack (NYRA)</td>\n",
       "      <td>At start of race.</td>\n",
       "      <td>Racing</td>\n",
       "      <td>Thoroughbred</td>\n",
       "      <td>Cloudy</td>\n",
       "      <td>Raffie's Deer</td>\n",
       "      <td>STEVEN M. ASMUSSEN</td>\n",
       "      <td>...</td>\n",
       "      <td>0</td>\n",
       "      <td>0</td>\n",
       "      <td>0</td>\n",
       "      <td>0</td>\n",
       "      <td>0</td>\n",
       "      <td>0</td>\n",
       "      <td>0</td>\n",
       "      <td>2015.0</td>\n",
       "      <td>fined for violating New York State Gaming Comm...</td>\n",
       "      <td>https://www.nytimes.com/2015/11/24/sports/stev...</td>\n",
       "    </tr>\n",
       "    <tr>\n",
       "      <th>590</th>\n",
       "      <td>2010</td>\n",
       "      <td>2010-08-09</td>\n",
       "      <td>EQUINE DEATH</td>\n",
       "      <td>Belmont Park (NYRA)</td>\n",
       "      <td>1/8 pole</td>\n",
       "      <td>Training</td>\n",
       "      <td>Thoroughbred</td>\n",
       "      <td>Clear 83*</td>\n",
       "      <td>Edwards</td>\n",
       "      <td>STEVEN M. ASMUSSEN</td>\n",
       "      <td>...</td>\n",
       "      <td>0</td>\n",
       "      <td>0</td>\n",
       "      <td>0</td>\n",
       "      <td>0</td>\n",
       "      <td>0</td>\n",
       "      <td>0</td>\n",
       "      <td>0</td>\n",
       "      <td>2015.0</td>\n",
       "      <td>fined for violating New York State Gaming Comm...</td>\n",
       "      <td>https://www.nytimes.com/2015/11/24/sports/stev...</td>\n",
       "    </tr>\n",
       "  </tbody>\n",
       "</table>\n",
       "<p>5 rows × 27 columns</p>\n",
       "</div>"
      ],
      "text/plain": [
       "     Year Incident Date       Incident Type                       Track  \\\n",
       "34   2009    2009-04-28        EQUINE DEATH         Belmont Park (NYRA)   \n",
       "207  2009    2009-08-29  STEWARDS/VETS LIST  Saratoga Racecourse (NYRA)   \n",
       "208  2009    2009-08-29  STEWARDS/VETS LIST  Saratoga Racecourse (NYRA)   \n",
       "339  2010    2010-01-01       FALL OF RIDER   Aqueduct Racetrack (NYRA)   \n",
       "590  2010    2010-08-09        EQUINE DEATH         Belmont Park (NYRA)   \n",
       "\n",
       "          Inv Location Racing Type Description      Division  \\\n",
       "34           1mile 1/4                Training  Thoroughbred   \n",
       "207          5/8 Pole.                  Racing  Thoroughbred   \n",
       "208          5/8 Pole.                 Unknown  Thoroughbred   \n",
       "339  At start of race.                  Racing  Thoroughbred   \n",
       "590           1/8 pole                Training  Thoroughbred   \n",
       "\n",
       "    Weather Conditions          Horse             Trainer  \\\n",
       "34               Clear       Timberah  STEVEN M. ASMUSSEN   \n",
       "207             Cloudy       Cairiene  STEVEN M. ASMUSSEN   \n",
       "208             Cloudy       Cairiene  STEVEN M. ASMUSSEN   \n",
       "339             Cloudy  Raffie's Deer  STEVEN M. ASMUSSEN   \n",
       "590          Clear 83*        Edwards  STEVEN M. ASMUSSEN   \n",
       "\n",
       "                           ...                         Rain Snow Wind  \\\n",
       "34                         ...                            0    0    0   \n",
       "207                        ...                            0    0    0   \n",
       "208                        ...                            0    0    0   \n",
       "339                        ...                            0    0    0   \n",
       "590                        ...                            0    0    0   \n",
       "\n",
       "     Thunder Storm  Hot  Humid  Warm  Year of Action  \\\n",
       "34               0    0      0     0          2015.0   \n",
       "207              0    0      0     0          2015.0   \n",
       "208              0    0      0     0          2015.0   \n",
       "339              0    0      0     0          2015.0   \n",
       "590              0    0      0     0          2015.0   \n",
       "\n",
       "                                    Action Description  \\\n",
       "34   fined for violating New York State Gaming Comm...   \n",
       "207  fined for violating New York State Gaming Comm...   \n",
       "208  fined for violating New York State Gaming Comm...   \n",
       "339  fined for violating New York State Gaming Comm...   \n",
       "590  fined for violating New York State Gaming Comm...   \n",
       "\n",
       "                                                Source  \n",
       "34   https://www.nytimes.com/2015/11/24/sports/stev...  \n",
       "207  https://www.nytimes.com/2015/11/24/sports/stev...  \n",
       "208  https://www.nytimes.com/2015/11/24/sports/stev...  \n",
       "339  https://www.nytimes.com/2015/11/24/sports/stev...  \n",
       "590  https://www.nytimes.com/2015/11/24/sports/stev...  \n",
       "\n",
       "[5 rows x 27 columns]"
      ]
     },
     "execution_count": 1614,
     "metadata": {},
     "output_type": "execute_result"
    }
   ],
   "source": [
    "# check the first trainer name that appears in the doping data set to check that it's properly merged\n",
    "df.loc[df['Trainer'] == 'STEVEN M. ASMUSSEN'].head()"
   ]
  },
  {
   "cell_type": "code",
   "execution_count": 1615,
   "metadata": {
    "collapsed": true
   },
   "outputs": [],
   "source": [
    "# check the datatypes of all the columns\n",
    "#df.info()"
   ]
  },
  {
   "cell_type": "code",
   "execution_count": 1616,
   "metadata": {},
   "outputs": [
    {
     "name": "stdout",
     "output_type": "stream",
     "text": [
      "<class 'pandas.core.frame.DataFrame'>\n",
      "Int64Index: 3240 entries, 0 to 3239\n",
      "Data columns (total 28 columns):\n",
      "Year                       3240 non-null int64\n",
      "Incident Date              3240 non-null datetime64[ns]\n",
      "Incident Type              3240 non-null category\n",
      "Track                      3240 non-null category\n",
      "Inv Location               3137 non-null object\n",
      "Racing Type Description    3240 non-null category\n",
      "Division                   3240 non-null category\n",
      "Weather Conditions         2189 non-null object\n",
      "Horse                      3239 non-null object\n",
      "Trainer                    3185 non-null object\n",
      "Jockey Driver              2090 non-null object\n",
      "Incident Description       3240 non-null object\n",
      "Death or Injury            2751 non-null category\n",
      "Cloudy                     3240 non-null int64\n",
      "Sunny                      3240 non-null int64\n",
      "Clear                      3240 non-null int64\n",
      "Overcast                   3240 non-null int64\n",
      "Rain                       3240 non-null int64\n",
      "Snow                       3240 non-null int64\n",
      "Wind                       3240 non-null int64\n",
      "Thunder Storm              3240 non-null int64\n",
      "Hot                        3240 non-null int64\n",
      "Humid                      3240 non-null int64\n",
      "Warm                       3240 non-null int64\n",
      "Year of Action             189 non-null float64\n",
      "Action Description         189 non-null object\n",
      "Source                     189 non-null object\n",
      "Doping Trainer             3240 non-null int64\n",
      "dtypes: category(5), datetime64[ns](1), float64(1), int64(13), object(8)\n",
      "memory usage: 624.8+ KB\n"
     ]
    }
   ],
   "source": [
    "# add a column of binomial variables for whether trainer has a history of doping\n",
    "df['Doping Trainer'] = np.nan\n",
    "\n",
    "# create make_doper function\n",
    "def make_doper(yr_of_action):\n",
    "    if ~np.isnan(yr_of_action):\n",
    "        return 1\n",
    "    else:\n",
    "        return 0\n",
    "\n",
    "# apply make_doper function\n",
    "df['Doping Trainer'] = df['Year of Action'].apply(make_doper)\n",
    "\n",
    "# print head and info of dataframe\n",
    "#df.head(20)\n",
    "df.info()"
   ]
  },
  {
   "cell_type": "code",
   "execution_count": 1617,
   "metadata": {
    "collapsed": true
   },
   "outputs": [],
   "source": [
    "# export final dataframe to csv file\n",
    "df.to_csv('Equine_Breakdown_Death_Doping.csv')"
   ]
  },
  {
   "cell_type": "markdown",
   "metadata": {},
   "source": [
    "# Data Storytelling\n",
    "\n",
    "## Trends Over Time"
   ]
  },
  {
   "cell_type": "code",
   "execution_count": 1618,
   "metadata": {},
   "outputs": [
    {
     "name": "stdout",
     "output_type": "stream",
     "text": [
      "   Year  Total\n",
      "0  2009    339\n",
      "1  2010    442\n",
      "2  2011    426\n",
      "3  2012    483\n",
      "4  2013    418\n",
      "5  2014    373\n",
      "6  2015    295\n",
      "7  2016    251\n",
      "8  2017    213\n",
      "Average:  360.0\n"
     ]
    }
   ],
   "source": [
    "# build dataframe of each year and total count of breakdowns and deaths for that year\n",
    "year_total = df.groupby('Year')['Year'].count().reset_index(name='Total')\n",
    "print(year_total)\n",
    "\n",
    "# print mean of yearly totals for reference (rate: deaths and breakdowns per year)\n",
    "print('Average: ', year_total['Total'].mean())"
   ]
  },
  {
   "cell_type": "code",
   "execution_count": 1619,
   "metadata": {},
   "outputs": [
    {
     "data": {
      "image/png": "[encoded data removed]",
      "text/plain": [
       "<matplotlib.figure.Figure at 0x1c1eb029e8>"
      ]
     },
     "metadata": {},
     "output_type": "display_data"
    }
   ],
   "source": [
    "# build line plot displaying total number of deaths and breakdowns by year\n",
    "_ = plt.figure(figsize=(8,6))\n",
    "_ = plt.plot('Year', 'Total', data=year_total)\n",
    "_ = plt.xlabel('Year')\n",
    "_ = plt.ylabel('Total Recorded Deaths and Breakdowns')\n",
    "_ = plt.title('Total Recorded Deaths and Breakdowns By Year')\n",
    "_ = plt.yticks([0,100,200,300,400,500,600])\n",
    "_ = plt.grid(alpha=.5)\n",
    "plt.show()"
   ]
  },
  {
   "cell_type": "code",
   "execution_count": 1620,
   "metadata": {},
   "outputs": [
    {
     "data": {
      "image/png": "[encoded data removed]",
      "text/plain": [
       "<matplotlib.figure.Figure at 0x111849b38>"
      ]
     },
     "metadata": {},
     "output_type": "display_data"
    }
   ],
   "source": [
    "# RACING TYPE\n",
    "\n",
    "# create pivot table of how many of each racing type occurred each year\n",
    "racingtype_pivot = df.pivot_table(values='Incident Date', index='Year', columns='Racing Type Description', aggfunc='count')\n",
    "# drop the 'Unknown' column since it contains little data\n",
    "del racingtype_pivot['Unknown']\n",
    "\n",
    "# plot the above pivot table\n",
    "_ = plt.figure(figsize=(8,6))\n",
    "_ = plt.plot(racingtype_pivot)\n",
    "_ = plt.xlabel('Year')\n",
    "_ = plt.ylabel('Total by Racing Type')\n",
    "_ = plt.title('Total Recorded Deaths and Breakdowns \\n By Year and Racing Type')\n",
    "_ = plt.legend(('Non-Racing', 'Racing', 'Training'), fontsize='large')\n",
    "_ = plt.yticks([0,100,200,300,400])\n",
    "_ = plt.grid(alpha=.5)\n",
    "plt.show()"
   ]
  },
  {
   "cell_type": "code",
   "execution_count": 1621,
   "metadata": {},
   "outputs": [
    {
     "data": {
      "image/png": "[encoded data removed]",
      "text/plain": [
       "<matplotlib.figure.Figure at 0x1c1d890c18>"
      ]
     },
     "metadata": {},
     "output_type": "display_data"
    }
   ],
   "source": [
    "# INCIDENT TYPE\n",
    "\n",
    "# create pivot table of how many of each incident type occurred each year\n",
    "incidenttype_pivot = df.pivot_table(values='Incident Date', index='Year', columns='Incident Type', aggfunc='count')\n",
    "\n",
    "# remove some less populated columns for more clarity in our graph and discussion\n",
    "del incidenttype_pivot['ACCIDENT - DRIVER/JOCKEY']\n",
    "del incidenttype_pivot['ACCIDENT - IN STARTING GATE']\n",
    "del incidenttype_pivot['ACCIDENT - TAGGED SULKY']\n",
    "del incidenttype_pivot['DRIVER/JOCKEY INJURED']\n",
    "del incidenttype_pivot['EQUINE DEATH - INFECTIOUS DISEASE']\n",
    "del incidenttype_pivot['FALL OF HORSE']\n",
    "del incidenttype_pivot['FALL OF RIDER']\n",
    "\n",
    "# plot the above pivot table\n",
    "_ = plt.figure(figsize=(8,6))\n",
    "_ = plt.plot(incidenttype_pivot)\n",
    "_ = plt.xlabel('Year')\n",
    "_ = plt.ylabel('Total by Incident Type')\n",
    "_ = plt.title('Total Recorded Deaths and Breakdowns \\n By Year and Incident Type')\n",
    "_ = plt.legend(('Accident - On Track', 'Equine Death', 'Racing Injury', 'Stewards/Vets List'), fontsize='large')\n",
    "_ = plt.ylim([0,230])\n",
    "_ = plt.grid(alpha=.5)\n",
    "plt.show()"
   ]
  },
  {
   "cell_type": "markdown",
   "metadata": {},
   "source": [
    "## Weather Conditions - Frequency"
   ]
  },
  {
   "cell_type": "code",
   "execution_count": 1622,
   "metadata": {},
   "outputs": [
    {
     "name": "stdout",
     "output_type": "stream",
     "text": [
      "            index  Count\n",
      "0          Cloudy    703\n",
      "1           Sunny    148\n",
      "2           Clear   1025\n",
      "3        Overcast     43\n",
      "4            Rain    120\n",
      "5            Snow     23\n",
      "6            Wind     23\n",
      "7   Thunder Storm      2\n",
      "8             Hot     38\n",
      "9           Humid     23\n",
      "10           Warm     52\n"
     ]
    },
    {
     "data": {
      "image/png": "[encoded data removed]",
      "text/plain": [
       "<matplotlib.figure.Figure at 0x1c1de94cc0>"
      ]
     },
     "metadata": {},
     "output_type": "display_data"
    }
   ],
   "source": [
    "# create a dataframe of boolean weather columns\n",
    "weather_bool = df.loc[:,('Cloudy', 'Sunny', 'Clear', 'Overcast', 'Rain', \n",
    "                         'Snow', 'Wind', 'Thunder Storm', 'Hot', 'Humid', 'Warm')]\n",
    "\n",
    "# calculate how many of each weather condition appears in our dataset\n",
    "weather_count = weather_bool.sum().reset_index(name='Count')\n",
    "print(weather_count)\n",
    "\n",
    "# plot weather_count\n",
    "_ = plt.figure(figsize=(12,6))\n",
    "_ = weather_count['Count'].plot(kind='bar')\n",
    "_.set_xlabel('Weather Condition')\n",
    "_.set_ylabel('Total')\n",
    "_.set_title('Total Recorded Deaths and Breakdowns \\n by Weather Condition')\n",
    "_.set_xticklabels(weather_count['index'].tolist(), fontsize='medium')\n",
    "#_ = plt.xticks(rotation=45)\n",
    "#_.yaxis.grid(True,alpha=.5)\n",
    "plt.show()"
   ]
  },
  {
   "cell_type": "markdown",
   "metadata": {},
   "source": [
    "## Trainers and Doping"
   ]
  },
  {
   "cell_type": "code",
   "execution_count": 1623,
   "metadata": {},
   "outputs": [
    {
     "name": "stdout",
     "output_type": "stream",
     "text": [
      "Number of trainers with a history of doping:  22\n",
      "Number of horses trained per trainer: \n",
      "RODOLFO (RUDY) RODRIGUEZ    50\n",
      "GARY C. CONTESSA            46\n",
      "WILLIAM I. MOTT             17\n",
      "MIKE J. MAKER               16\n",
      "STEVEN M. ASMUSSEN          15\n",
      "RICHARD E. DUTROW JR        12\n",
      "JAMIE J. NESS                5\n",
      "SEAN M. CAMPBELL             5\n",
      "ROY SEDLACEK                 4\n",
      "ALAN E. GOLDBERG             3\n",
      "DAWN M. DEVAUX               3\n",
      "JOSEPH R. CARRUBBA           2\n",
      "MARC (JOE) J. SHARP          2\n",
      "MEGAN M. GILMOUR             1\n",
      "LUIS PENA                    1\n",
      "JULIE E. MILLER              1\n",
      "STEPHEN MURCHISON            1\n",
      "ANTONIO C. AVILA             1\n",
      "ROBERTINO DIODORO            1\n",
      "BOB BAFFERT                  1\n",
      "RONALD J. BURKE              1\n",
      "PATRICIA FARRO               1\n",
      "Name: Trainer, dtype: int64\n"
     ]
    }
   ],
   "source": [
    "# pull records of trainers with a history of doping\n",
    "doping_trainers = df.loc[df['Doping Trainer'] == 1]\n",
    "\n",
    "# display the number of unique trainer names in the dataset\n",
    "print('Number of trainers with a history of doping: ', doping_trainers['Trainer'].nunique())\n",
    "\n",
    "# display how many horses with incidents each trainer trained\n",
    "print('Number of horses trained per trainer: ')\n",
    "print(doping_trainers['Trainer'].value_counts())"
   ]
  },
  {
   "cell_type": "code",
   "execution_count": 1624,
   "metadata": {},
   "outputs": [
    {
     "data": {
      "image/png": "[encoded data removed]",
      "text/plain": [
       "<matplotlib.figure.Figure at 0x1c1dd72be0>"
      ]
     },
     "metadata": {},
     "output_type": "display_data"
    }
   ],
   "source": [
    "# calculate how many horses had incidents each year under doping trainers\n",
    "doped_horses_year = doping_trainers.groupby('Year')['Year'].count().reset_index(name='Count')\n",
    "\n",
    "# plot the yearly totals of horses that broke down or died for trainers with a history of doping\n",
    "_ = plt.figure(figsize=(8,6))\n",
    "_ = plt.plot(doped_horses_year['Year'],doped_horses_year['Count'])\n",
    "_ = plt.xlabel('Year')\n",
    "_ = plt.ylabel('Total Deaths and Breakdowns')\n",
    "_ = plt.title('Total Recorded Deaths and Breakdowns \\n Under Doping Trainers By Year')\n",
    "_ = plt.yticks([0,5,10,15,20,25,30,35])\n",
    "_ = plt.grid(alpha=.5)\n",
    "plt.show()"
   ]
  },
  {
   "cell_type": "markdown",
   "metadata": {},
   "source": [
    "# Inferential Statistics"
   ]
  },
  {
   "cell_type": "markdown",
   "metadata": {},
   "source": [
    "## Yearly Rates - Total (Doping Trainers and Non-Doping Trainers)\n",
    "\n",
    "### Hypothesis Test\n",
    "\n",
    "$H_0$: There is no significant difference in the 2017 death and breakdown rate and the average death and breakdown rate of other years (2009 - 2016)\n",
    "\n",
    "$H_A$: There is a significant difference in the 2017 death and breakdown rate and the average death and breakdown rate of other years (2009 - 2016)"
   ]
  },
  {
   "cell_type": "code",
   "execution_count": 1625,
   "metadata": {
    "scrolled": true
   },
   "outputs": [
    {
     "name": "stdout",
     "output_type": "stream",
     "text": [
      "count      9.000000\n",
      "mean     360.000000\n",
      "std       92.126272\n",
      "min      213.000000\n",
      "25%      295.000000\n",
      "50%      373.000000\n",
      "75%      426.000000\n",
      "max      483.000000\n",
      "Name: Total, dtype: float64\n",
      "\n",
      "Total in 2017: 213\n",
      "Average total in years 2009-2016: 378.375\n",
      "\n",
      "t = 6.337\n",
      "p = p( t <=  -6.337 ) + p( t >=  6.337 ) =  0.0\n",
      "p (unrounded) is  0.000390091360871\n"
     ]
    }
   ],
   "source": [
    "# perform t test\n",
    "\n",
    "# extract yearly totals\n",
    "year_total = df.groupby('Year')['Year'].count().reset_index(name='Total')\n",
    "total_rate_2017 = year_total['Total'].values[8]\n",
    "total_rate_otheryrs = year_total['Total'][:8]\n",
    "n1 = len(total_rate_otheryrs)\n",
    "\n",
    "# print some sample statistics\n",
    "print(year_total['Total'].describe())\n",
    "print()\n",
    "print('Total in 2017:', total_rate_2017)\n",
    "print('Average total in years 2009-2016:', np.mean(total_rate_otheryrs))\n",
    "print()\n",
    "\n",
    "# calculate t statistic\n",
    "t1 = ( np.mean(total_rate_otheryrs) - total_rate_2017 ) / ( np.std(total_rate_otheryrs) / np.sqrt(n1) )\n",
    "print('t =', round(t1,3))\n",
    "\n",
    "# perform two sided t test\n",
    "p_t1 = stats.t.sf(abs(t1), n1-1) * 2\n",
    "print('p = p( t <= ', -round(t1,3), ') + p( t >= ', abs(round(t1,3)), ') = ', round(p_t1,3))\n",
    "print('p (unrounded) is ', p_t1)"
   ]
  },
  {
   "cell_type": "markdown",
   "metadata": {},
   "source": [
    "## Yearly Rates - Total (Doping Trainers)\n",
    "\n",
    "### Hypothesis Test\n",
    "\n",
    "$H_0$: There is no significant difference in the 2017 death and breakdown rate and the average death and breakdown rate of other years (2009 - 2016) for horses trained by trainers with a history of doping\n",
    "\n",
    "$H_A$: There is a significant difference in the 2017 death and breakdown rate and the average death and breakdown rate of other years (2009 - 2016) for horses trained by trainers with a history of doping"
   ]
  },
  {
   "cell_type": "code",
   "execution_count": 1626,
   "metadata": {},
   "outputs": [
    {
     "name": "stdout",
     "output_type": "stream",
     "text": [
      "count     9.00000\n",
      "mean     21.00000\n",
      "std       8.20061\n",
      "min       9.00000\n",
      "25%      15.00000\n",
      "50%      23.00000\n",
      "75%      28.00000\n",
      "max      31.00000\n",
      "Name: Total, dtype: float64\n",
      "\n",
      "Total under doping trainers in 2017: 9\n",
      "Average total under doping trainers in years 2009-2016: 22.5\n",
      "\n",
      "t = 5.57\n",
      "p = p( t <=  -5.57 ) + p( t >=  5.57 ) =  0.113\n",
      "p (unrounded) is  0.113096089343\n"
     ]
    }
   ],
   "source": [
    "# perform t test\n",
    "\n",
    "# extract yearly totals\n",
    "doping_trainers = df.loc[pd.notnull(df['Year of Action'])]\n",
    "doped_year_total = doping_trainers.groupby('Year')['Year'].count().reset_index(name='Total')\n",
    "doped_total_rate_2017 = doped_year_total['Total'].values[8]\n",
    "doped_total_rate_otheryrs = doped_year_total['Total'][:8]\n",
    "n2 = len(doped_total_rate_otheryrs)\n",
    "\n",
    "# print some sample statistics\n",
    "print(doped_year_total['Total'].describe())\n",
    "print()\n",
    "print('Total under doping trainers in 2017:', doped_total_rate_2017)\n",
    "print('Average total under doping trainers in years 2009-2016:', np.mean(doped_total_rate_otheryrs))\n",
    "print()\n",
    "\n",
    "# calculate t statistic\n",
    "t2 = ( np.mean(doped_total_rate_otheryrs) - doped_total_rate_2017 ) / ( np.std(doped_total_rate_otheryrs) / np.sqrt(n2) )\n",
    "print('t =', round(t2,3))\n",
    "\n",
    "# perform two sided t test\n",
    "p_t2 = stats.t.sf(abs(t2), 2-1) * 2\n",
    "print('p = p( t <= ', -round(t2,3), ') + p( t >= ', abs(round(t2,3)), ') = ', round(p_t2,3))\n",
    "print('p (unrounded) is ', p_t2)"
   ]
  },
  {
   "cell_type": "markdown",
   "metadata": {},
   "source": [
    "# Proportion of Incidents Under Doping Trainers to Total Incidents"
   ]
  },
  {
   "cell_type": "code",
   "execution_count": 1627,
   "metadata": {},
   "outputs": [
    {
     "data": {
      "image/png": "[encoded data removed]",
      "text/plain": [
       "<matplotlib.figure.Figure at 0x1a1bd10470>"
      ]
     },
     "metadata": {},
     "output_type": "display_data"
    }
   ],
   "source": [
    "# plot yearly totals and yearly totals under doping trainers\n",
    "_ = plt.figure(figsize=(8,6))\n",
    "_ = plt.plot(year_total['Year'], year_total['Total'])\n",
    "_ = plt.plot(doped_year_total['Year'], doped_year_total['Total'])\n",
    "_ = plt.xlabel('Year')\n",
    "_ = plt.ylabel('Total Deaths and Breakdowns')\n",
    "_ = plt.title('Total Recorded Deaths and Breakdowns By Year')\n",
    "_ = plt.legend(('Total', 'Total Under Doping Trainers'), fontsize='large')\n",
    "_ = plt.ylim([0,500])\n",
    "_ = plt.grid(alpha=.5)\n",
    "plt.show()"
   ]
  },
  {
   "cell_type": "markdown",
   "metadata": {},
   "source": [
    "### Hypothesis Test\n",
    "\n",
    "$H_0$: There is no significant difference in the 2017 proportion of incidents under doping trainers to total incidents and the average proportion of incidents under doping trainers to total incidents of other years (2009 - 2016)\n",
    "\n",
    "$H_A$: There is a significant difference in the 2017 proportion of incidents under doping trainers to total incidents and the average proportion of incidents under doping trainers to total incidents of other years (2009 - 2016)"
   ]
  },
  {
   "cell_type": "code",
   "execution_count": 1628,
   "metadata": {},
   "outputs": [
    {
     "name": "stdout",
     "output_type": "stream",
     "text": [
      "   Year     Total\n",
      "0  2009  2.949853\n",
      "1  2010  6.561086\n",
      "2  2011  5.399061\n",
      "3  2012  5.797101\n",
      "4  2013  7.416268\n",
      "5  2014  6.702413\n",
      "6  2015  6.440678\n",
      "7  2016  5.976096\n",
      "8  2017  4.225352\n",
      "\n",
      "count    9.000000\n",
      "mean     5.718656\n",
      "std      1.376203\n",
      "min      2.949853\n",
      "25%      5.399061\n",
      "50%      5.976096\n",
      "75%      6.561086\n",
      "max      7.416268\n",
      "Name: Total, dtype: float64\n",
      "\n",
      "Proportion in 2017: 4.22535211268\n",
      "Average proportion in years 2009-2016: 5.905319419651566\n",
      "\n",
      "t = 3.78\n",
      "p = p( t <=  -3.78 ) + p( t >=  3.78 ) =  0.007\n",
      "p (unrounded) is  0.00689400099676\n"
     ]
    }
   ],
   "source": [
    "# perform t test\n",
    "\n",
    "# calculate and extract yearly proportion totals\n",
    "doping_proportion = doped_year_total / year_total * 100\n",
    "doping_proportion['Year'] = [2009, 2010, 2011, 2012, 2013, 2014, 2015, 2016, 2017]\n",
    "doping_proportion_2017 = doping_proportion['Total'].values[8]\n",
    "doping_proportion_otheryrs = doping_proportion['Total'][:8]\n",
    "n3 = len(total_rate_otheryrs)\n",
    "\n",
    "# print all yearly proportions\n",
    "print(doping_proportion)\n",
    "print()\n",
    "\n",
    "# print some sample statistics\n",
    "print(doping_proportion['Total'].describe())\n",
    "print()\n",
    "print('Proportion in 2017:', doping_proportion_2017)\n",
    "print('Average proportion in years 2009-2016:', np.mean(doping_proportion_otheryrs))\n",
    "print()\n",
    "\n",
    "# calculate t statistic\n",
    "t3 = ( np.mean(doping_proportion_otheryrs) - doping_proportion_2017 ) / ( np.std(doping_proportion_otheryrs) / np.sqrt(n3) )\n",
    "print('t =', round(t3,3))\n",
    "\n",
    "# perform two sided t test\n",
    "p_t3 = stats.t.sf(abs(t3), n3-1) * 2\n",
    "print('p = p( t <= ', -round(t3,3), ') + p( t >= ', abs(round(t3,3)), ') = ', round(p_t3,3))\n",
    "print('p (unrounded) is ', p_t3)"
   ]
  },
  {
   "cell_type": "markdown",
   "metadata": {},
   "source": [
    "# Machine Learning\n",
    "\n",
    "## Logistic Regression"
   ]
  },
  {
   "cell_type": "code",
   "execution_count": 1629,
   "metadata": {
    "collapsed": true
   },
   "outputs": [],
   "source": [
    "# reformat new dataframe with binary variables\n",
    "df_logreg = df.loc[:,('Year', 'Incident Type', 'Track', \n",
    "       'Racing Type Description', 'Division', 'Doping Trainer',  \n",
    "       'Cloudy', 'Sunny', 'Clear', 'Overcast', 'Rain', 'Snow', 'Wind',\n",
    "       'Thunder Storm', 'Hot', 'Humid', 'Warm')]"
   ]
  },
  {
   "cell_type": "code",
   "execution_count": 1630,
   "metadata": {
    "collapsed": true
   },
   "outputs": [],
   "source": [
    "# TRANSFORM INCIDENT TYPE DATA\n",
    "# only use data for 'Accident - On Track', 'Equine Death', 'Racing Injury', 'Stewards/Vets List'\n",
    "\n",
    "# populate 'Incident_AccidentOnTrack' column\n",
    "# create make_incidenttype_accidentontrack function\n",
    "def make_incidenttype_accidentontrack(incident):\n",
    "    if incident == 'Accident - On Track':\n",
    "        return 1\n",
    "    else:\n",
    "        return 0\n",
    "# apply make_incidenttype_accidentontrack function\n",
    "df_logreg['Incident_AccidentOnTrack'] = df_logreg['Incident Type'].apply(make_incidenttype_accidentontrack)\n",
    "\n",
    "# populate 'Incident_EquineDeath' column\n",
    "# create make_incidenttype_equinedeath function\n",
    "def make_incidenttype_equinedeath(incident):\n",
    "    if incident == 'Equine Death':\n",
    "        return 1\n",
    "    else:\n",
    "        return 0\n",
    "# apply make_incidenttype_equinedeath function\n",
    "df_logreg['Incident_EquineDeath'] = df_logreg['Incident Type'].apply(make_incidenttype_equinedeath)\n",
    "\n",
    "# populate 'Incident_RacingInjury' column\n",
    "# create make_incidenttype_racinginjury function\n",
    "def make_incidenttype_racinginjury(incident):\n",
    "    if incident == 'Racing Injury':\n",
    "        return 1\n",
    "    else:\n",
    "        return 0\n",
    "# apply make_incidenttype_racinginjury function\n",
    "df_logreg['Incident_RacingInjury'] = df_logreg['Incident Type'].apply(make_incidenttype_racinginjury)\n",
    "\n",
    "# populate 'Incident_StewardsList' column\n",
    "# create make_incidenttype_stewardslist function\n",
    "def make_incidenttype_stewardslist(incident):\n",
    "    if incident == 'Stewards/Vets List':\n",
    "        return 1\n",
    "    else:\n",
    "        return 0\n",
    "# apply make_incidenttype_stewardslist function\n",
    "df_logreg['Incident_StewardsList'] = df_logreg['Incident Type'].apply(make_incidenttype_stewardslist)\n",
    "\n",
    "# check head of df_logreg dataframe\n",
    "#df_logreg.head()"
   ]
  },
  {
   "cell_type": "code",
   "execution_count": 1631,
   "metadata": {
    "collapsed": true
   },
   "outputs": [],
   "source": [
    "# TRANSFORM TRACK DATA\n",
    "\n",
    "# populate 'Track_Aqueduct' column\n",
    "# create make_track_aqueduct function\n",
    "def make_track_aqueduct(track):\n",
    "    if track == 'Aqueduct Racetrack (NYRA)':\n",
    "        return 1\n",
    "    else:\n",
    "        return 0\n",
    "# apply make_track_aqueduct function\n",
    "df_logreg['Track_Aqueduct'] = df_logreg['Track'].apply(make_track_aqueduct)\n",
    "\n",
    "# populate 'Track_Batvia' column\n",
    "# create make_track_batvia function\n",
    "def make_track_batvia(track):\n",
    "    if track == 'Batavia Downs':\n",
    "        return 1\n",
    "    else:\n",
    "        return 0\n",
    "# apply make_track_batvia function\n",
    "df_logreg['Track_Batvia'] = df_logreg['Track'].apply(make_track_batvia)\n",
    "\n",
    "# populate 'Track_Belmont' column\n",
    "# create make_track_belmont function\n",
    "def make_track_belmont(track):\n",
    "    if track == 'Belmont Park (NYRA)':\n",
    "        return 1\n",
    "    else:\n",
    "        return 0\n",
    "# apply make_track_belmont function\n",
    "df_logreg['Track_Belmont'] = df_logreg['Track'].apply(make_track_belmont)\n",
    "\n",
    "# populate 'Track_Buffalo' column\n",
    "# create make_track_buffalo function\n",
    "def make_track_buffalo(track):\n",
    "    if track == 'Buffalo Raceway':\n",
    "        return 1\n",
    "    else:\n",
    "        return 0\n",
    "# apply make_track_buffalo function\n",
    "df_logreg['Track_Buffalo'] = df_logreg['Track'].apply(make_track_buffalo)\n",
    "\n",
    "# populate 'Track_Finger' column\n",
    "# create make_track_finger function\n",
    "def make_track_finger(track):\n",
    "    if track == 'Finger Lakes Gaming & Racetrack':\n",
    "        return 1\n",
    "    else:\n",
    "        return 0\n",
    "# apply make_track_finger function\n",
    "df_logreg['Track_Finger'] = df_logreg['Track'].apply(make_track_finger)\n",
    "\n",
    "# populate 'Track_Monticello' column\n",
    "# create make_track_monticello function\n",
    "def make_track_monticello(track):\n",
    "    if track == 'Monticello Raceway & Mighty M Gaming':\n",
    "        return 1\n",
    "    else:\n",
    "        return 0\n",
    "# apply make_track_monticello function\n",
    "df_logreg['Track_Monticello'] = df_logreg['Track'].apply(make_track_monticello)\n",
    "\n",
    "# populate 'Track_SaratogaG' column\n",
    "# create make_track_saratogag function\n",
    "def make_track_saratogag(track):\n",
    "    if track == 'Saratoga Gaming & Raceway':\n",
    "        return 1\n",
    "    else:\n",
    "        return 0\n",
    "# apply make_track_saratogag function\n",
    "df_logreg['Track_SaratogaG'] = df_logreg['Track'].apply(make_track_saratogag)\n",
    "\n",
    "# populate 'Track_SaratogaR' column\n",
    "# create make_track_saratogar function\n",
    "def make_track_saratogar(track):\n",
    "    if track == 'Saratoga Racecourse (NYRA)':\n",
    "        return 1\n",
    "    else:\n",
    "        return 0\n",
    "# apply make_track_saratogar function\n",
    "df_logreg['Track_SaratogaR'] = df_logreg['Track'].apply(make_track_saratogar)\n",
    "\n",
    "# populate 'Track_Tioga' column\n",
    "# create make_track_tioga function\n",
    "def make_track_tioga(track):\n",
    "    if track == 'Tioga Downs':\n",
    "        return 1\n",
    "    else:\n",
    "        return 0\n",
    "# apply make_track_tioga function\n",
    "df_logreg['Track_Tioga'] = df_logreg['Track'].apply(make_track_tioga)\n",
    "\n",
    "# populate 'Track_Vernon' column\n",
    "# create make_track_vernon function\n",
    "def make_track_vernon(track):\n",
    "    if track == 'Vernon Downs':\n",
    "        return 1\n",
    "    else:\n",
    "        return 0\n",
    "# apply make_track_vernon function\n",
    "df_logreg['Track_Vernon'] = df_logreg['Track'].apply(make_track_vernon)\n",
    "\n",
    "# we don't add a column for Yonkers Raceway in order to avoid collinearity\n",
    "\n",
    "# check head of df_logreg dataframe\n",
    "#df_logreg.head()"
   ]
  },
  {
   "cell_type": "code",
   "execution_count": 1632,
   "metadata": {
    "collapsed": true
   },
   "outputs": [],
   "source": [
    "# TRANSFORM RACING TYPE DESCRIPTION DATA\n",
    "\n",
    "# populate 'RacingType_NonRacing' column\n",
    "# create make_racingtype_nonracing function\n",
    "def make_racingtype_nonracing(racingtype):\n",
    "    if racingtype == 'Non-Racing':\n",
    "        return 1\n",
    "    else:\n",
    "        return 0\n",
    "# apply make_racingtype_nonracing function\n",
    "df_logreg['RacingType_NonRacing'] = df_logreg['Racing Type Description'].apply(make_racingtype_nonracing)\n",
    "\n",
    "# populate 'RacingType_Racing' column\n",
    "# create make_racingtype_racing function\n",
    "def make_racingtype_racing(racingtype):\n",
    "    if racingtype == 'Racing':\n",
    "        return 1\n",
    "    else:\n",
    "        return 0\n",
    "# apply make_racingtype_racing function\n",
    "df_logreg['RacingType_Racing'] = df_logreg['Racing Type Description'].apply(make_racingtype_racing)\n",
    "\n",
    "# populate 'RacingType_Training' column\n",
    "# create make_racingtype_training function\n",
    "def make_racingtype_training(racingtype):\n",
    "    if racingtype == 'Training':\n",
    "        return 1\n",
    "    else:\n",
    "        return 0\n",
    "# apply make_racingtype_training function\n",
    "df_logreg['RacingType_Training'] = df_logreg['Racing Type Description'].apply(make_racingtype_training)\n",
    "\n",
    "# we don't add a column for Unknown in order to avoid collinearity\n",
    "\n",
    "# check head of df_logreg dataframe\n",
    "#df_logreg.head()"
   ]
  },
  {
   "cell_type": "code",
   "execution_count": 1633,
   "metadata": {},
   "outputs": [
    {
     "data": {
      "text/html": [
       "<div>\n",
       "<style>\n",
       "    .dataframe thead tr:only-child th {\n",
       "        text-align: right;\n",
       "    }\n",
       "\n",
       "    .dataframe thead th {\n",
       "        text-align: left;\n",
       "    }\n",
       "\n",
       "    .dataframe tbody tr th {\n",
       "        vertical-align: top;\n",
       "    }\n",
       "</style>\n",
       "<table border=\"1\" class=\"dataframe\">\n",
       "  <thead>\n",
       "    <tr style=\"text-align: right;\">\n",
       "      <th></th>\n",
       "      <th>Year</th>\n",
       "      <th>Incident Type</th>\n",
       "      <th>Track</th>\n",
       "      <th>Racing Type Description</th>\n",
       "      <th>Division</th>\n",
       "      <th>Doping Trainer</th>\n",
       "      <th>Cloudy</th>\n",
       "      <th>Sunny</th>\n",
       "      <th>Clear</th>\n",
       "      <th>Overcast</th>\n",
       "      <th>...</th>\n",
       "      <th>Track_Finger</th>\n",
       "      <th>Track_Monticello</th>\n",
       "      <th>Track_SaratogaG</th>\n",
       "      <th>Track_SaratogaR</th>\n",
       "      <th>Track_Tioga</th>\n",
       "      <th>Track_Vernon</th>\n",
       "      <th>RacingType_NonRacing</th>\n",
       "      <th>RacingType_Racing</th>\n",
       "      <th>RacingType_Training</th>\n",
       "      <th>Division_Thoroughbred</th>\n",
       "    </tr>\n",
       "  </thead>\n",
       "  <tbody>\n",
       "    <tr>\n",
       "      <th>0</th>\n",
       "      <td>2009</td>\n",
       "      <td>EQUINE DEATH</td>\n",
       "      <td>Aqueduct Racetrack (NYRA)</td>\n",
       "      <td>Racing</td>\n",
       "      <td>Thoroughbred</td>\n",
       "      <td>0</td>\n",
       "      <td>0</td>\n",
       "      <td>0</td>\n",
       "      <td>0</td>\n",
       "      <td>0</td>\n",
       "      <td>...</td>\n",
       "      <td>0</td>\n",
       "      <td>0</td>\n",
       "      <td>0</td>\n",
       "      <td>0</td>\n",
       "      <td>0</td>\n",
       "      <td>0</td>\n",
       "      <td>0</td>\n",
       "      <td>1</td>\n",
       "      <td>0</td>\n",
       "      <td>1</td>\n",
       "    </tr>\n",
       "    <tr>\n",
       "      <th>1</th>\n",
       "      <td>2009</td>\n",
       "      <td>ACCIDENT - ON TRACK</td>\n",
       "      <td>Aqueduct Racetrack (NYRA)</td>\n",
       "      <td>Racing</td>\n",
       "      <td>Thoroughbred</td>\n",
       "      <td>0</td>\n",
       "      <td>0</td>\n",
       "      <td>0</td>\n",
       "      <td>0</td>\n",
       "      <td>0</td>\n",
       "      <td>...</td>\n",
       "      <td>0</td>\n",
       "      <td>0</td>\n",
       "      <td>0</td>\n",
       "      <td>0</td>\n",
       "      <td>0</td>\n",
       "      <td>0</td>\n",
       "      <td>0</td>\n",
       "      <td>1</td>\n",
       "      <td>0</td>\n",
       "      <td>1</td>\n",
       "    </tr>\n",
       "    <tr>\n",
       "      <th>2</th>\n",
       "      <td>2009</td>\n",
       "      <td>ACCIDENT - ON TRACK</td>\n",
       "      <td>Aqueduct Racetrack (NYRA)</td>\n",
       "      <td>Racing</td>\n",
       "      <td>Thoroughbred</td>\n",
       "      <td>0</td>\n",
       "      <td>0</td>\n",
       "      <td>0</td>\n",
       "      <td>0</td>\n",
       "      <td>0</td>\n",
       "      <td>...</td>\n",
       "      <td>0</td>\n",
       "      <td>0</td>\n",
       "      <td>0</td>\n",
       "      <td>0</td>\n",
       "      <td>0</td>\n",
       "      <td>0</td>\n",
       "      <td>0</td>\n",
       "      <td>1</td>\n",
       "      <td>0</td>\n",
       "      <td>1</td>\n",
       "    </tr>\n",
       "    <tr>\n",
       "      <th>3</th>\n",
       "      <td>2009</td>\n",
       "      <td>ACCIDENT - ON TRACK</td>\n",
       "      <td>Aqueduct Racetrack (NYRA)</td>\n",
       "      <td>Racing</td>\n",
       "      <td>Thoroughbred</td>\n",
       "      <td>0</td>\n",
       "      <td>0</td>\n",
       "      <td>0</td>\n",
       "      <td>0</td>\n",
       "      <td>0</td>\n",
       "      <td>...</td>\n",
       "      <td>0</td>\n",
       "      <td>0</td>\n",
       "      <td>0</td>\n",
       "      <td>0</td>\n",
       "      <td>0</td>\n",
       "      <td>0</td>\n",
       "      <td>0</td>\n",
       "      <td>1</td>\n",
       "      <td>0</td>\n",
       "      <td>1</td>\n",
       "    </tr>\n",
       "    <tr>\n",
       "      <th>4</th>\n",
       "      <td>2009</td>\n",
       "      <td>ACCIDENT - ON TRACK</td>\n",
       "      <td>Aqueduct Racetrack (NYRA)</td>\n",
       "      <td>Racing</td>\n",
       "      <td>Thoroughbred</td>\n",
       "      <td>0</td>\n",
       "      <td>0</td>\n",
       "      <td>0</td>\n",
       "      <td>0</td>\n",
       "      <td>0</td>\n",
       "      <td>...</td>\n",
       "      <td>0</td>\n",
       "      <td>0</td>\n",
       "      <td>0</td>\n",
       "      <td>0</td>\n",
       "      <td>0</td>\n",
       "      <td>0</td>\n",
       "      <td>0</td>\n",
       "      <td>1</td>\n",
       "      <td>0</td>\n",
       "      <td>1</td>\n",
       "    </tr>\n",
       "  </tbody>\n",
       "</table>\n",
       "<p>5 rows × 35 columns</p>\n",
       "</div>"
      ],
      "text/plain": [
       "   Year        Incident Type                      Track  \\\n",
       "0  2009         EQUINE DEATH  Aqueduct Racetrack (NYRA)   \n",
       "1  2009  ACCIDENT - ON TRACK  Aqueduct Racetrack (NYRA)   \n",
       "2  2009  ACCIDENT - ON TRACK  Aqueduct Racetrack (NYRA)   \n",
       "3  2009  ACCIDENT - ON TRACK  Aqueduct Racetrack (NYRA)   \n",
       "4  2009  ACCIDENT - ON TRACK  Aqueduct Racetrack (NYRA)   \n",
       "\n",
       "  Racing Type Description      Division  Doping Trainer  Cloudy  Sunny  Clear  \\\n",
       "0                  Racing  Thoroughbred               0       0      0      0   \n",
       "1                  Racing  Thoroughbred               0       0      0      0   \n",
       "2                  Racing  Thoroughbred               0       0      0      0   \n",
       "3                  Racing  Thoroughbred               0       0      0      0   \n",
       "4                  Racing  Thoroughbred               0       0      0      0   \n",
       "\n",
       "   Overcast          ...            Track_Finger  Track_Monticello  \\\n",
       "0         0          ...                       0                 0   \n",
       "1         0          ...                       0                 0   \n",
       "2         0          ...                       0                 0   \n",
       "3         0          ...                       0                 0   \n",
       "4         0          ...                       0                 0   \n",
       "\n",
       "   Track_SaratogaG  Track_SaratogaR  Track_Tioga  Track_Vernon  \\\n",
       "0                0                0            0             0   \n",
       "1                0                0            0             0   \n",
       "2                0                0            0             0   \n",
       "3                0                0            0             0   \n",
       "4                0                0            0             0   \n",
       "\n",
       "   RacingType_NonRacing  RacingType_Racing  RacingType_Training  \\\n",
       "0                     0                  1                    0   \n",
       "1                     0                  1                    0   \n",
       "2                     0                  1                    0   \n",
       "3                     0                  1                    0   \n",
       "4                     0                  1                    0   \n",
       "\n",
       "   Division_Thoroughbred  \n",
       "0                      1  \n",
       "1                      1  \n",
       "2                      1  \n",
       "3                      1  \n",
       "4                      1  \n",
       "\n",
       "[5 rows x 35 columns]"
      ]
     },
     "execution_count": 1633,
     "metadata": {},
     "output_type": "execute_result"
    }
   ],
   "source": [
    "# TRANSFORM DIVISION DATA\n",
    "\n",
    "# populate 'Division_Thoroughbred' column\n",
    "# create make_division_thoroughbred function\n",
    "def make_division_thoroughbred(division):\n",
    "    if division == 'Thoroughbred':\n",
    "        return 1\n",
    "    else:\n",
    "        return 0\n",
    "# apply make_division_thoroughbred function\n",
    "df_logreg['Division_Thoroughbred'] = df_logreg['Division'].apply(make_division_thoroughbred)\n",
    "\n",
    "# we don't add a column for Harness in order to avoid collinearity\n",
    "\n",
    "# check head of df_logreg dataframe\n",
    "df_logreg.head()"
   ]
  },
  {
   "cell_type": "code",
   "execution_count": 1634,
   "metadata": {
    "collapsed": true
   },
   "outputs": [],
   "source": [
    "# remove 'Incident Type', 'Track', 'Racing Type Description', and 'Division' columns\n",
    "df_logreg = df_logreg.drop(['Incident Type', 'Track', 'Racing Type Description', 'Division'], axis=1)"
   ]
  },
  {
   "cell_type": "code",
   "execution_count": 1635,
   "metadata": {},
   "outputs": [
    {
     "name": "stdout",
     "output_type": "stream",
     "text": [
      "   Year  Doping Trainer  Cloudy  Sunny  Clear  Overcast  Rain  Snow  Wind  \\\n",
      "0  2009               0       0      0      0         0     0     0     0   \n",
      "1  2009               0       0      0      0         0     0     0     0   \n",
      "2  2009               0       0      0      0         0     0     0     0   \n",
      "3  2009               0       0      0      0         0     0     0     0   \n",
      "4  2009               0       0      0      0         0     0     0     0   \n",
      "\n",
      "   Thunder Storm          ...            Track_Finger  Track_Monticello  \\\n",
      "0              0          ...                       0                 0   \n",
      "1              0          ...                       0                 0   \n",
      "2              0          ...                       0                 0   \n",
      "3              0          ...                       0                 0   \n",
      "4              0          ...                       0                 0   \n",
      "\n",
      "   Track_SaratogaG  Track_SaratogaR  Track_Tioga  Track_Vernon  \\\n",
      "0                0                0            0             0   \n",
      "1                0                0            0             0   \n",
      "2                0                0            0             0   \n",
      "3                0                0            0             0   \n",
      "4                0                0            0             0   \n",
      "\n",
      "   RacingType_NonRacing  RacingType_Racing  RacingType_Training  \\\n",
      "0                     0                  1                    0   \n",
      "1                     0                  1                    0   \n",
      "2                     0                  1                    0   \n",
      "3                     0                  1                    0   \n",
      "4                     0                  1                    0   \n",
      "\n",
      "   Division_Thoroughbred  \n",
      "0                      1  \n",
      "1                      1  \n",
      "2                      1  \n",
      "3                      1  \n",
      "4                      1  \n",
      "\n",
      "[5 rows x 31 columns]\n"
     ]
    }
   ],
   "source": [
    "# check head\n",
    "print(df_logreg.head())"
   ]
  },
  {
   "cell_type": "code",
   "execution_count": 1636,
   "metadata": {},
   "outputs": [
    {
     "data": {
      "text/plain": [
       "Index(['Year', 'Doping Trainer', 'Cloudy', 'Sunny', 'Clear', 'Overcast',\n",
       "       'Rain', 'Snow', 'Wind', 'Thunder Storm', 'Hot', 'Humid', 'Warm',\n",
       "       'Incident_AccidentOnTrack', 'Incident_EquineDeath',\n",
       "       'Incident_RacingInjury', 'Incident_StewardsList', 'Track_Aqueduct',\n",
       "       'Track_Batvia', 'Track_Belmont', 'Track_Buffalo', 'Track_Finger',\n",
       "       'Track_Monticello', 'Track_SaratogaG', 'Track_SaratogaR', 'Track_Tioga',\n",
       "       'Track_Vernon', 'RacingType_NonRacing', 'RacingType_Racing',\n",
       "       'RacingType_Training', 'Division_Thoroughbred'],\n",
       "      dtype='object')"
      ]
     },
     "execution_count": 1636,
     "metadata": {},
     "output_type": "execute_result"
    }
   ],
   "source": [
    "# check head and columns\n",
    "df_logreg.columns"
   ]
  },
  {
   "cell_type": "code",
   "execution_count": 1637,
   "metadata": {
    "collapsed": true
   },
   "outputs": [],
   "source": [
    "# extract data for logistic regression\n",
    "y = df_logreg['Doping Trainer']\n",
    "X = df_logreg[['Track_Aqueduct',\n",
    "       'Track_Batvia', 'Track_Belmont', 'Track_Buffalo', 'Track_Finger',\n",
    "       'Track_Monticello', 'Track_SaratogaG', 'Track_SaratogaR', 'Track_Tioga',\n",
    "       'Track_Vernon', 'RacingType_NonRacing', 'RacingType_Racing',\n",
    "       'RacingType_Training']]\n",
    "\n",
    "# also look at X data including weather conditions\n",
    "X_withweather = df_logreg[['Cloudy', 'Sunny', 'Clear', 'Overcast',\n",
    "       'Rain', 'Snow', 'Wind', 'Thunder Storm', 'Hot', 'Humid', 'Warm', 'Track_Aqueduct',\n",
    "       'Track_Batvia', 'Track_Belmont', 'Track_Buffalo', 'Track_Finger',\n",
    "       'Track_Monticello', 'Track_SaratogaG', 'Track_SaratogaR', 'Track_Tioga',\n",
    "       'Track_Vernon', 'RacingType_NonRacing', 'RacingType_Racing',\n",
    "       'RacingType_Training']]"
   ]
  },
  {
   "cell_type": "code",
   "execution_count": 1638,
   "metadata": {},
   "outputs": [
    {
     "name": "stdout",
     "output_type": "stream",
     "text": [
      "Warning: Maximum number of iterations has been exceeded.\n",
      "         Current function value: 0.195673\n",
      "         Iterations: 35\n",
      "                           Logit Regression Results                           \n",
      "==============================================================================\n",
      "Dep. Variable:         Doping Trainer   No. Observations:                 3240\n",
      "Model:                          Logit   Df Residuals:                     3227\n",
      "Method:                           MLE   Df Model:                           12\n",
      "Date:                Mon, 15 Jan 2018   Pseudo R-squ.:                  0.1200\n",
      "Time:                        10:41:07   Log-Likelihood:                -633.98\n",
      "converged:                      False   LL-Null:                       -720.44\n",
      "                                        LLR p-value:                 1.211e-30\n",
      "========================================================================================\n",
      "                           coef    std err          z      P>|z|      [0.025      0.975]\n",
      "----------------------------------------------------------------------------------------\n",
      "Track_Aqueduct           0.3619      0.307      1.180      0.238      -0.239       0.963\n",
      "Track_Batvia           -38.8715   1.25e+08  -3.12e-07      1.000   -2.44e+08    2.44e+08\n",
      "Track_Belmont            0.3271      0.311      1.051      0.293      -0.283       0.937\n",
      "Track_Buffalo          -17.1796   1827.969     -0.009      0.993   -3599.933    3565.574\n",
      "Track_Finger           -35.0184   6.54e+06  -5.35e-06      1.000   -1.28e+07    1.28e+07\n",
      "Track_Monticello        -0.6742      0.432     -1.561      0.119      -1.521       0.172\n",
      "Track_SaratogaG         -3.5539      1.035     -3.434      0.001      -5.582      -1.526\n",
      "Track_SaratogaR          0.3444      0.326      1.056      0.291      -0.295       0.984\n",
      "Track_Tioga            -29.7420   1.15e+06  -2.58e-05      1.000   -2.26e+06    2.26e+06\n",
      "Track_Vernon            -1.8483      1.046     -1.768      0.077      -3.898       0.201\n",
      "RacingType_NonRacing    -3.1386      0.466     -6.742      0.000      -4.051      -2.226\n",
      "RacingType_Racing       -2.5030      0.281     -8.909      0.000      -3.054      -1.952\n",
      "RacingType_Training     -2.4321      0.349     -6.977      0.000      -3.115      -1.749\n",
      "========================================================================================\n",
      "\n",
      "Possibly complete quasi-separation: A fraction 0.23 of observations can be\n",
      "perfectly predicted. This might indicate that there is complete\n",
      "quasi-separation. In this case some parameters will not be identified.\n"
     ]
    },
    {
     "name": "stderr",
     "output_type": "stream",
     "text": [
      "/Users/isabelvanzijl/anaconda3/lib/python3.6/site-packages/statsmodels/base/model.py:496: ConvergenceWarning: Maximum Likelihood optimization failed to converge. Check mle_retvals\n",
      "  \"Check mle_retvals\", ConvergenceWarning)\n"
     ]
    }
   ],
   "source": [
    "# run Logit of X\n",
    "logit_model = sm.Logit(y,X)\n",
    "result = logit_model.fit()\n",
    "print(result.summary())"
   ]
  },
  {
   "cell_type": "code",
   "execution_count": 1639,
   "metadata": {},
   "outputs": [
    {
     "name": "stdout",
     "output_type": "stream",
     "text": [
      "Warning: Maximum number of iterations has been exceeded.\n",
      "         Current function value: 0.193244\n",
      "         Iterations: 35\n",
      "                           Logit Regression Results                           \n",
      "==============================================================================\n",
      "Dep. Variable:         Doping Trainer   No. Observations:                 3240\n",
      "Model:                          Logit   Df Residuals:                     3216\n",
      "Method:                           MLE   Df Model:                           23\n",
      "Date:                Mon, 15 Jan 2018   Pseudo R-squ.:                  0.1309\n",
      "Time:                        10:41:07   Log-Likelihood:                -626.11\n",
      "converged:                      False   LL-Null:                       -720.44\n",
      "                                        LLR p-value:                 5.543e-28\n",
      "========================================================================================\n",
      "                           coef    std err          z      P>|z|      [0.025      0.975]\n",
      "----------------------------------------------------------------------------------------\n",
      "Cloudy                  -0.4375      0.201     -2.172      0.030      -0.832      -0.043\n",
      "Sunny                   -0.5685      0.487     -1.168      0.243      -1.523       0.386\n",
      "Clear                   -0.2155      0.178     -1.211      0.226      -0.564       0.133\n",
      "Overcast               -16.5296   3192.353     -0.005      0.996   -6273.426    6240.367\n",
      "Rain                    -0.9421      0.622     -1.514      0.130      -2.162       0.278\n",
      "Snow                   -26.3857   4.77e+05  -5.53e-05      1.000   -9.35e+05    9.35e+05\n",
      "Wind                   -22.6866   7.77e+04     -0.000      1.000   -1.52e+05    1.52e+05\n",
      "Thunder Storm           -8.2743    133.895     -0.062      0.951    -270.703     254.154\n",
      "Hot                     -0.4840      1.457     -0.332      0.740      -3.340       2.372\n",
      "Humid                    0.3507      1.424      0.246      0.805      -2.440       3.141\n",
      "Warm                     0.8678      0.711      1.221      0.222      -0.525       2.260\n",
      "Track_Aqueduct           0.4520      0.316      1.428      0.153      -0.168       1.072\n",
      "Track_Batvia           -14.0519    577.865     -0.024      0.981   -1146.647    1118.544\n",
      "Track_Belmont            0.4079      0.321      1.271      0.204      -0.221       1.037\n",
      "Track_Buffalo          -15.3886    857.681     -0.018      0.986   -1696.412    1665.635\n",
      "Track_Finger           -22.9146   1.53e+04     -0.001      0.999   -3.01e+04       3e+04\n",
      "Track_Monticello        -0.5575      0.482     -1.157      0.247      -1.502       0.387\n",
      "Track_SaratogaG         -3.4532      1.040     -3.322      0.001      -5.491      -1.416\n",
      "Track_SaratogaR          0.4495      0.337      1.335      0.182      -0.210       1.109\n",
      "Track_Tioga            -20.0087   9161.408     -0.002      0.998    -1.8e+04    1.79e+04\n",
      "Track_Vernon            -1.9089      1.062     -1.797      0.072      -3.991       0.173\n",
      "RacingType_NonRacing    -3.0555      0.471     -6.482      0.000      -3.979      -2.132\n",
      "RacingType_Racing       -2.3452      0.296     -7.911      0.000      -2.926      -1.764\n",
      "RacingType_Training     -2.3393      0.359     -6.513      0.000      -3.043      -1.635\n",
      "========================================================================================\n",
      "\n",
      "Possibly complete quasi-separation: A fraction 0.25 of observations can be\n",
      "perfectly predicted. This might indicate that there is complete\n",
      "quasi-separation. In this case some parameters will not be identified.\n"
     ]
    },
    {
     "name": "stderr",
     "output_type": "stream",
     "text": [
      "/Users/isabelvanzijl/anaconda3/lib/python3.6/site-packages/statsmodels/base/model.py:496: ConvergenceWarning: Maximum Likelihood optimization failed to converge. Check mle_retvals\n",
      "  \"Check mle_retvals\", ConvergenceWarning)\n"
     ]
    }
   ],
   "source": [
    "# run Logit with X_withweather\n",
    "logit_model = sm.Logit(y,X_withweather)\n",
    "result = logit_model.fit()\n",
    "print(result.summary())"
   ]
  },
  {
   "cell_type": "code",
   "execution_count": 1640,
   "metadata": {},
   "outputs": [
    {
     "name": "stdout",
     "output_type": "stream",
     "text": [
      "RacingType_NonRacing: 0.0470991652993 0.952900834701\n",
      "RacingType_Racing: 0.0958280346069 0.904171965393\n",
      "RacingType_Training: 0.096395091183 0.903604908817\n",
      "\n",
      "Track_SaratogaG: 0.0316442127061 0.968355787294\n"
     ]
    }
   ],
   "source": [
    "# calculate odds ratios for statistically significant variables\n",
    "\n",
    "# Racing Type\n",
    "print('RacingType_NonRacing:', np.exp(-3.0555), 1 - np.exp(-3.0555))\n",
    "print('RacingType_Racing:', np.exp(-2.3452), 1 - np.exp(-2.3452))\n",
    "print('RacingType_Training:', np.exp(-2.3393), 1 - np.exp(-2.3393))\n",
    "print()\n",
    "\n",
    "# Track\n",
    "print('Track_SaratogaG:', np.exp(-3.4532), 1 - np.exp(-3.4532))"
   ]
  },
  {
   "cell_type": "code",
   "execution_count": 1641,
   "metadata": {},
   "outputs": [
    {
     "name": "stdout",
     "output_type": "stream",
     "text": [
      "Accuracy of logistic regression classifier on test set: 0.937\n"
     ]
    }
   ],
   "source": [
    "X_all = df_logreg[['Cloudy', 'Sunny', 'Clear', 'Overcast',\n",
    "       'Rain', 'Snow', 'Wind', 'Thunder Storm', 'Hot', 'Humid', 'Warm',\n",
    "       'Incident_AccidentOnTrack', 'Incident_EquineDeath',\n",
    "       'Incident_RacingInjury', 'Incident_StewardsList', 'Track_Aqueduct',\n",
    "       'Track_Batvia', 'Track_Belmont', 'Track_Buffalo', 'Track_Finger',\n",
    "       'Track_Monticello', 'Track_SaratogaG', 'Track_SaratogaR', 'Track_Tioga',\n",
    "       'Track_Vernon', 'RacingType_NonRacing', 'RacingType_Racing',\n",
    "       'RacingType_Training', 'Division_Thoroughbred']]\n",
    "\n",
    "# run LogisticRegression\n",
    "X_train, X_test, y_train, y_test = train_test_split(X_all, y, test_size=0.3, random_state=10)\n",
    "logreg = LogisticRegression()\n",
    "logreg.fit(X_train, y_train)\n",
    "\n",
    "y_pred = logreg.predict(X_test)\n",
    "print('Accuracy of logistic regression classifier on test set: {:.3f}'.format(logreg.score(X_test, y_test)))\n"
   ]
  },
  {
   "cell_type": "code",
   "execution_count": 1642,
   "metadata": {
    "collapsed": true
   },
   "outputs": [],
   "source": [
    "#y_pred"
   ]
  },
  {
   "cell_type": "code",
   "execution_count": 1643,
   "metadata": {
    "collapsed": true
   },
   "outputs": [],
   "source": [
    "#np.matrix(y_test)"
   ]
  },
  {
   "cell_type": "code",
   "execution_count": 1644,
   "metadata": {},
   "outputs": [
    {
     "name": "stdout",
     "output_type": "stream",
     "text": [
      "10-fold cross validation average accuracy: 0.944\n"
     ]
    }
   ],
   "source": [
    "# cross validation\n",
    "kfold = model_selection.KFold(n_splits=10, random_state=10)\n",
    "modelCV = LogisticRegression()\n",
    "scoring = 'accuracy'\n",
    "results = model_selection.cross_val_score(modelCV, X_train, y_train, cv=kfold, scoring=scoring)\n",
    "print(\"10-fold cross validation average accuracy: %.3f\" % (results.mean()))"
   ]
  },
  {
   "cell_type": "code",
   "execution_count": 1645,
   "metadata": {},
   "outputs": [
    {
     "data": {
      "text/plain": [
       "array([ 0.93832599,  0.94713656,  0.94273128,  0.9339207 ,  0.9339207 ,\n",
       "        0.94713656,  0.95594714,  0.9339207 ,  0.95132743,  0.95132743])"
      ]
     },
     "execution_count": 1645,
     "metadata": {},
     "output_type": "execute_result"
    }
   ],
   "source": [
    "results"
   ]
  },
  {
   "cell_type": "code",
   "execution_count": 1646,
   "metadata": {},
   "outputs": [
    {
     "name": "stdout",
     "output_type": "stream",
     "text": [
      "[[911   0]\n",
      " [ 61   0]]\n"
     ]
    }
   ],
   "source": [
    "# build confusion matrix\n",
    "confusion_matrix = confusion_matrix(y_test, y_pred)\n",
    "print(confusion_matrix)"
   ]
  },
  {
   "cell_type": "code",
   "execution_count": 1647,
   "metadata": {},
   "outputs": [
    {
     "name": "stdout",
     "output_type": "stream",
     "text": [
      "             precision    recall  f1-score   support\n",
      "\n",
      "          0       0.94      1.00      0.97       911\n",
      "          1       0.00      0.00      0.00        61\n",
      "\n",
      "avg / total       0.88      0.94      0.91       972\n",
      "\n"
     ]
    },
    {
     "name": "stderr",
     "output_type": "stream",
     "text": [
      "/Users/isabelvanzijl/anaconda3/lib/python3.6/site-packages/sklearn/metrics/classification.py:1135: UndefinedMetricWarning: Precision and F-score are ill-defined and being set to 0.0 in labels with no predicted samples.\n",
      "  'precision', 'predicted', average, warn_for)\n"
     ]
    }
   ],
   "source": [
    "# print precision and recall\n",
    "print(classification_report(y_test, y_pred))"
   ]
  },
  {
   "cell_type": "code",
   "execution_count": 1648,
   "metadata": {},
   "outputs": [
    {
     "data": {
      "image/png": "[encoded data removed]",
      "text/plain": [
       "<matplotlib.figure.Figure at 0x1c1e8d5518>"
      ]
     },
     "metadata": {},
     "output_type": "display_data"
    }
   ],
   "source": [
    "logit_roc_auc = roc_auc_score(y_test, logreg.predict(X_test))\n",
    "fpr, tpr, thresholds = roc_curve(y_test, logreg.predict_proba(X_test)[:,1])\n",
    "_ = plt.figure(figsize=(8,6))\n",
    "_ = plt.plot(fpr, tpr, label='Logistic Regression (area = %0.2f)' % logit_roc_auc)\n",
    "_ = plt.plot([0, 1], [0, 1],'--')\n",
    "_ = plt.xlim([0.0, 1.0])\n",
    "_ = plt.ylim([0.0, 1.05])\n",
    "_ = plt.xlabel('False Positive Rate')\n",
    "_ = plt.ylabel('True Positive Rate')\n",
    "_ = plt.title('Receiver Operating Characteristic')\n",
    "_ = plt.legend(loc=\"lower right\")\n",
    "plt.show()"
   ]
  },
  {
   "cell_type": "markdown",
   "metadata": {},
   "source": [
    "## Random Forest"
   ]
  },
  {
   "cell_type": "code",
   "execution_count": 1661,
   "metadata": {
    "collapsed": true
   },
   "outputs": [],
   "source": [
    "# run Random Forest classifier with 25 trees\n",
    "X_train2, X_test2, y_train2, y_test2 = train_test_split(X_all, y, test_size=0.3, random_state=10)\n",
    "classifier = RandomForestClassifier(n_estimators=25)\n",
    "classifier.fit(X_train2,y_train2)\n",
    "\n",
    "y_pred2 = classifier.predict(X_test2)"
   ]
  },
  {
   "cell_type": "code",
   "execution_count": 1662,
   "metadata": {
    "collapsed": true
   },
   "outputs": [],
   "source": [
    "#y_pred2"
   ]
  },
  {
   "cell_type": "code",
   "execution_count": 1663,
   "metadata": {
    "collapsed": true
   },
   "outputs": [],
   "source": [
    "#np.matrix(y_test2)"
   ]
  },
  {
   "cell_type": "code",
   "execution_count": 1664,
   "metadata": {},
   "outputs": [
    {
     "name": "stdout",
     "output_type": "stream",
     "text": [
      "             precision    recall  f1-score   support\n",
      "\n",
      "          0       0.94      0.99      0.96       911\n",
      "          1       0.00      0.00      0.00        61\n",
      "\n",
      "avg / total       0.88      0.93      0.90       972\n",
      "\n"
     ]
    }
   ],
   "source": [
    "# print precision and recall\n",
    "print(classification_report(y_test2, y_pred2))"
   ]
  },
  {
   "cell_type": "code",
   "execution_count": 1665,
   "metadata": {},
   "outputs": [
    {
     "data": {
      "text/plain": [
       "0.92901234567901236"
      ]
     },
     "execution_count": 1665,
     "metadata": {},
     "output_type": "execute_result"
    }
   ],
   "source": [
    "# display accuracy score\n",
    "accuracy_score(y_test2, y_pred2)"
   ]
  },
  {
   "cell_type": "code",
   "execution_count": 1679,
   "metadata": {
    "scrolled": false
   },
   "outputs": [
    {
     "data": {
      "text/plain": [
       "[('Division_Thoroughbred', 0.13121823306103164),\n",
       " ('RacingType_Training', 0.12212863450566953),\n",
       " ('Track_Finger', 0.10260247269076517),\n",
       " ('Track_Aqueduct', 0.091328499753294712),\n",
       " ('Cloudy', 0.077461689452325594),\n",
       " ('Track_Belmont', 0.067482462864969062),\n",
       " ('Clear', 0.063642765198827361),\n",
       " ('Sunny', 0.062016349813066828),\n",
       " ('RacingType_Racing', 0.054041600241378641),\n",
       " ('Rain', 0.043751388292441171),\n",
       " ('RacingType_NonRacing', 0.040019149564752284),\n",
       " ('Track_SaratogaR', 0.038524988672113791),\n",
       " ('Track_Monticello', 0.028281009789073424),\n",
       " ('Track_SaratogaG', 0.023819668962615174),\n",
       " ('Warm', 0.018340006054240222),\n",
       " ('Track_Tioga', 0.011462301687958677),\n",
       " ('Track_Vernon', 0.0073829238801771599),\n",
       " ('Overcast', 0.0043811652147450614),\n",
       " ('Humid', 0.0039114170441193145),\n",
       " ('Snow', 0.0038181348274552974),\n",
       " ('Track_Batvia', 0.0020133802179477791),\n",
       " ('Track_Buffalo', 0.0014466898247672108),\n",
       " ('Hot', 0.00062381700493663794),\n",
       " ('Wind', 0.00020768484748037323),\n",
       " ('Thunder Storm', 9.3566533847934098e-05),\n",
       " ('Incident_AccidentOnTrack', 0.0),\n",
       " ('Incident_EquineDeath', 0.0),\n",
       " ('Incident_RacingInjury', 0.0),\n",
       " ('Incident_StewardsList', 0.0)]"
      ]
     },
     "execution_count": 1679,
     "metadata": {},
     "output_type": "execute_result"
    }
   ],
   "source": [
    "# fit an Extra Trees model to the data\n",
    "model2 = ExtraTreesClassifier()\n",
    "model2.fit(X_train2, y_train2)\n",
    "\n",
    "# print importance of each variable\n",
    "var_importances = {}\n",
    "for i, j in enumerate(model2.feature_importances_):\n",
    "    var_importances[X_all.columns[i]] = j\n",
    "\n",
    "var_importances = sorted(var_importances.items(), key=operator.itemgetter(1), reverse=True)\n",
    "var_importances"
   ]
  },
  {
   "cell_type": "code",
   "execution_count": 1668,
   "metadata": {},
   "outputs": [
    {
     "data": {
      "image/png": "[encoded data removed]",
      "text/plain": [
       "<matplotlib.figure.Figure at 0x1c1d87af60>"
      ]
     },
     "metadata": {},
     "output_type": "display_data"
    }
   ],
   "source": [
    "# test different number of trees, see how it effects accuracy\n",
    "trees = range(50)\n",
    "accuracy = np.zeros(50)\n",
    "\n",
    "for i in range(len(trees)):\n",
    "    cl = RandomForestClassifier(n_estimators = i + 1)\n",
    "    cl.fit(X_train2, y_train2)\n",
    "    y_pred = cl.predict(X_test2)\n",
    "    accuracy[i] = accuracy_score(y_test2, y_pred)\n",
    "\n",
    "plt.figure(figsize=[8,6])\n",
    "plt.plot(trees, accuracy)\n",
    "plt.xlim([0.0, 50])\n",
    "plt.ylim([0.0, 1])\n",
    "plt.xlabel('Number of Trees')\n",
    "plt.ylabel('Accuracy')\n",
    "plt.title('Number of Trees in a Random Forest \\n and their Accuracy')\n",
    "plt.show()"
   ]
  },
  {
   "cell_type": "code",
   "execution_count": null,
   "metadata": {
    "collapsed": true
   },
   "outputs": [],
   "source": []
  }
 ],
 "metadata": {
  "kernelspec": {
   "display_name": "Python 3",
   "language": "python",
   "name": "python3"
  },
  "language_info": {
   "codemirror_mode": {
    "name": "ipython",
    "version": 3
   },
   "file_extension": ".py",
   "mimetype": "text/x-python",
   "name": "python",
   "nbconvert_exporter": "python",
   "pygments_lexer": "ipython3",
   "version": "3.6.2"
  }
 },
 "nbformat": 4,
 "nbformat_minor": 2
}
