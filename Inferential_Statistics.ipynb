{
 "cells": [
  {
   "cell_type": "markdown",
   "metadata": {},
   "source": [
    "# Inferential Statistics\n",
    "\n",
    "## Background\n",
    "\n",
    "With the increasing prevalence of drug-abuse within the sport of horse racing over the past couple decades, the Thoroughbred Horseracing Integrity Act of 2015 was introduced to monitor and regulate drug usage and administration to American race horses under a national uniform standard. Effective on January 1, 2017, the legislation authorizes the Thoroughbred Horseracing Anti-Doping Authority (THADA) to develop and administer a national anti-doping program. As an independent organization, THADA aims to uphold the integrity of the sport and focus on the welfare of the horses.\n",
    "\n",
    "The Thoroughbred Horseracing Integrity Act has only been in effect for less than a year at this point, but we hope that the act has been able to make a difference in the sport already. We will be attempting to identify whether any differences in yearly death and breakdown rates are noticeable compared to our previous years of data. We will focus especially on horses with incidents under trainers with a history of doping."
   ]
  },
  {
   "cell_type": "code",
   "execution_count": 200,
   "metadata": {
    "collapsed": true
   },
   "outputs": [],
   "source": [
    "# import packages\n",
    "import pandas as pd\n",
    "import numpy as np\n",
    "import matplotlib.pyplot as plt\n",
    "from scipy import stats \n",
    "import seaborn as sns\n",
    "\n",
    "#import dataset as a dataframe\n",
    "df = pd.read_csv('Equine_Breakdown_Death_Doping.csv',index_col = 'Unnamed: 0')"
   ]
  },
  {
   "cell_type": "markdown",
   "metadata": {},
   "source": [
    "# Yearly Death and Breakdown Rate\n",
    "\n",
    "As we discussed in the exploratory data analysis, the number of horses that have had incidents per year has decreased since 2012. But is this decrease significant? The Thoroughbred Horseracing Integrity Act was enacted on January 1st, 2017, so we will test to see if the 2017 death and breakdown rate is significantly different from the mean of the other years. We only have 9 years worth of data total, so we will be performing a t-test. We do have to keep in mind that the year of 2017 is not yet complete, but we can assume that there most likely won't be many more incidents this year since it's Novermber and therefore off season in New York."
   ]
  },
  {
   "cell_type": "markdown",
   "metadata": {},
   "source": [
    "## Yearly Rates - Total (Doping Trainers and Non-Doping Trainers)\n",
    "\n",
    "### Hypothesis Test\n",
    "\n",
    "$H_0$: There is no significant difference in the 2017 death and breakdown rate and the average death and breakdown rate of other years (2009 - 2016)\n",
    "\n",
    "$H_A$: There is a significant difference in the 2017 death and breakdown rate and the average death and breakdown rate of other years (2009 - 2016)"
   ]
  },
  {
   "cell_type": "markdown",
   "metadata": {},
   "source": [
    "### Perform t Test"
   ]
  },
  {
   "cell_type": "code",
   "execution_count": 201,
   "metadata": {},
   "outputs": [
    {
     "name": "stdout",
     "output_type": "stream",
     "text": [
      "count      9.000000\n",
      "mean     360.000000\n",
      "std       92.126272\n",
      "min      213.000000\n",
      "25%      295.000000\n",
      "50%      373.000000\n",
      "75%      426.000000\n",
      "max      483.000000\n",
      "Name: Total, dtype: float64\n",
      "\n",
      "Total in 2017: 213\n",
      "Average total in years 2009-2016: 378.375\n"
     ]
    }
   ],
   "source": [
    "# extract yearly totals\n",
    "year_total = df.groupby('Year')['Year'].count().reset_index(name='Total')\n",
    "total_rate_2017 = year_total['Total'].values[8]\n",
    "total_rate_otheryrs = year_total['Total'][:8]\n",
    "n1 = len(total_rate_otheryrs)\n",
    "\n",
    "# print some sample statistics\n",
    "print(year_total['Total'].describe())\n",
    "print()\n",
    "print('Total in 2017:', total_rate_2017)\n",
    "print('Average total in years 2009-2016:', np.mean(total_rate_otheryrs))"
   ]
  },
  {
   "cell_type": "code",
   "execution_count": 202,
   "metadata": {},
   "outputs": [
    {
     "name": "stdout",
     "output_type": "stream",
     "text": [
      "t = 6.337\n",
      "p = p( t <=  -6.337 ) + p( t >=  6.337 ) =  0.0\n",
      "p (unrounded) is  0.000390091360871\n"
     ]
    }
   ],
   "source": [
    "# calculate t statistic\n",
    "t1 = ( np.mean(total_rate_otheryrs) - total_rate_2017 ) / ( np.std(total_rate_otheryrs) / np.sqrt(n1) )\n",
    "print('t =', round(t1,3))\n",
    "\n",
    "# perform two sided t test\n",
    "p_t1 = stats.t.sf(abs(t1), n1-1) * 2\n",
    "print('p = p( t <= ', -round(t1,3), ') + p( t >= ', abs(round(t1,3)), ') = ', round(p_t1,3))\n",
    "print('p (unrounded) is ', p_t1)"
   ]
  },
  {
   "cell_type": "markdown",
   "metadata": {},
   "source": [
    "We have found a very small p value, revealing that we should reject the null hypothesis. There is indeed a statistically significant difference in the 2017 death and breakdown rate and the average death and breakdown rate of other years (2009 - 2016). This suggests that the sport really has been improving over the past few years, whether or not it's related to anti-doping legislation.\n",
    "\n",
    "We do have to keep in mind that we are working with a small dataset. We only have 8 years worth of data (2009-2016) that we are using to calculate a pre-2017 mean. The fact that we still get a very small p value though suggests that the difference is significant."
   ]
  },
  {
   "cell_type": "markdown",
   "metadata": {},
   "source": [
    "## Yearly Rates - Total (Doping Trainers)\n",
    "\n",
    "Now that we know that there's been a significant decrease in the number of deaths and breakdowns per year, let's see if we can discover if it's related to the introduction of anti-doping programs. Has there been a decrease in the number of horses dying and breaking down under trainers with a doping history?\n",
    "\n",
    "### Hypothesis Test\n",
    "\n",
    "$H_0$: There is no significant difference in the 2017 death and breakdown rate and the average death and breakdown rate of other years (2009 - 2016) for horses trained by trainers with a history of doping\n",
    "\n",
    "$H_A$: There is a significant difference in the 2017 death and breakdown rate and the average death and breakdown rate of other years (2009 - 2016) for horses trained by trainers with a history of doping"
   ]
  },
  {
   "cell_type": "markdown",
   "metadata": {},
   "source": [
    "### Perform t Test"
   ]
  },
  {
   "cell_type": "code",
   "execution_count": 203,
   "metadata": {},
   "outputs": [
    {
     "name": "stdout",
     "output_type": "stream",
     "text": [
      "count     9.00000\n",
      "mean     21.00000\n",
      "std       8.20061\n",
      "min       9.00000\n",
      "25%      15.00000\n",
      "50%      23.00000\n",
      "75%      28.00000\n",
      "max      31.00000\n",
      "Name: Total, dtype: float64\n",
      "\n",
      "Total under doping trainers in 2017: 9\n",
      "Average total under doping trainers in years 2009-2016: 22.5\n"
     ]
    }
   ],
   "source": [
    "# extract yearly totals\n",
    "doping_trainers = df.loc[pd.notnull(df['Year of Action'])]\n",
    "doped_year_total = doping_trainers.groupby('Year')['Year'].count().reset_index(name='Total')\n",
    "doped_total_rate_2017 = doped_year_total['Total'].values[8]\n",
    "doped_total_rate_otheryrs = doped_year_total['Total'][:8]\n",
    "n2 = len(doped_total_rate_otheryrs)\n",
    "\n",
    "# print some sample statistics\n",
    "print(doped_year_total['Total'].describe())\n",
    "print()\n",
    "print('Total under doping trainers in 2017:', doped_total_rate_2017)\n",
    "print('Average total under doping trainers in years 2009-2016:', np.mean(doped_total_rate_otheryrs))"
   ]
  },
  {
   "cell_type": "code",
   "execution_count": 204,
   "metadata": {},
   "outputs": [
    {
     "name": "stdout",
     "output_type": "stream",
     "text": [
      "t = 5.57\n",
      "p = p( t <=  -5.57 ) + p( t >=  5.57 ) =  0.113\n",
      "p (unrounded) is  0.113096089343\n"
     ]
    }
   ],
   "source": [
    "# calculate t statistic\n",
    "t2 = ( np.mean(doped_total_rate_otheryrs) - doped_total_rate_2017 ) / ( np.std(doped_total_rate_otheryrs) / np.sqrt(n2) )\n",
    "print('t =', round(t2,3))\n",
    "\n",
    "# perform two sided t test\n",
    "p_t2 = stats.t.sf(abs(t2), 2-1) * 2\n",
    "print('p = p( t <= ', -round(t2,3), ') + p( t >= ', abs(round(t2,3)), ') = ', round(p_t2,3))\n",
    "print('p (unrounded) is ', p_t2)"
   ]
  },
  {
   "cell_type": "markdown",
   "metadata": {},
   "source": [
    "The p value we've calculated does not pass the statistical significance test since it is greater than 0.55. Even if we were testing at the 10% level, our p value would still be too large. We then accept the null hypothesis in this situation. There is no significant difference in the 2017 death and breakdown rate and the average death and breakdown rate of other years (2009 - 2016) for horses trained by trainers with a history of doping. If this is true, is legislation actually making an impact on whether trainers are choosing to drug their horses?\n",
    "\n",
    "Let's visualize our two sets of data to get an idea of how yearly rates have trended over time."
   ]
  },
  {
   "cell_type": "code",
   "execution_count": 205,
   "metadata": {},
   "outputs": [
    {
     "data": {
      "image/png": "[encoded data removed]",
      "text/plain": [
       "<matplotlib.figure.Figure at 0x1099f07b8>"
      ]
     },
     "metadata": {},
     "output_type": "display_data"
    }
   ],
   "source": [
    "# plot yearly totals and yearly totals under doping trainers\n",
    "_ = plt.subplots(figsize=(14,8))\n",
    "_ = plt.plot(year_total['Year'], year_total['Total'], color='blue')\n",
    "_ = plt.plot(doped_year_total['Year'], doped_year_total['Total'], color='red')\n",
    "_ = plt.xlabel('Year')\n",
    "_ = plt.ylabel('Total Deaths and Breakdowns')\n",
    "_ = plt.title('Total Recorded Deaths and Breakdowns By Year')\n",
    "_ = plt.legend(('Total', 'Total Under Doping Trainers'))\n",
    "_ = plt.ylim([0,500])\n",
    "_ = plt.grid(alpha=.5)\n",
    "plt.show()"
   ]
  },
  {
   "cell_type": "markdown",
   "metadata": {},
   "source": [
    "We can see that there are much fewer incidents under trainers with a history of doping. We should keep in mind though that the total under doping trainers could be artificially low in the years 2009 to 2016. There wasn't a standard anti-doping test available yet and restrictions have gotten stricter over the years, so there could be unidentified trainers in that time span that regularly drugged their horses.\n",
    "\n",
    "Since we've tested the incident rates seperately, we should now test whether the proportional difference is significant. If the rate under doping trainers is decreasing simply because the overall rate is also decreasing, it doesn't really mean that anti-doping rules and regulations are making a difference."
   ]
  },
  {
   "cell_type": "markdown",
   "metadata": {},
   "source": [
    "## Proportion of Incidents Under Doping Trainers to Total Incidents\n",
    "\n",
    "Since we know that both the total yearly incident rate and the yearly incident rate under doping trainers have both been decreasing over the years, we will now test whether the change in the proportion of drugged horses out of the total is significant. We will be comparing two values, so we will perform another t test.\n",
    "\n",
    "### Hypothesis Test\n",
    "\n",
    "$H_0$: There is no significant difference in the 2017 proportion of incidents under doping trainers to total incidents and the average proportion of incidents under doping trainers to total incidents of other years (2009 - 2016)\n",
    "\n",
    "$H_A$: There is a significant difference in the 2017 proportion of incidents under doping trainers to total incidents and the average proportion of incidents under doping trainers to total incidents of other years (2009 - 2016)"
   ]
  },
  {
   "cell_type": "markdown",
   "metadata": {},
   "source": [
    "### Perform t Test"
   ]
  },
  {
   "cell_type": "code",
   "execution_count": 206,
   "metadata": {},
   "outputs": [
    {
     "name": "stdout",
     "output_type": "stream",
     "text": [
      "count    9.000000\n",
      "mean     5.718656\n",
      "std      1.376203\n",
      "min      2.949853\n",
      "25%      5.399061\n",
      "50%      5.976096\n",
      "75%      6.561086\n",
      "max      7.416268\n",
      "Name: Total, dtype: float64\n",
      "\n",
      "Proportion in 2017: 4.22535211268\n",
      "Average proportion in years 2009-2016: 5.905319419651566\n"
     ]
    }
   ],
   "source": [
    "# calculate and extract yearly proportion totals\n",
    "doping_proportion = doped_year_total / year_total * 100\n",
    "doping_proportion['Year'] = [2009, 2010, 2011, 2012, 2013, 2014, 2015, 2016, 2017]\n",
    "doping_proportion_2017 = doping_proportion['Total'].values[8]\n",
    "doping_proportion_otheryrs = doping_proportion['Total'][:8]\n",
    "n3 = len(total_rate_otheryrs)\n",
    "\n",
    "# print some sample statistics\n",
    "print(doping_proportion['Total'].describe())\n",
    "print()\n",
    "print('Proportion in 2017:', doping_proportion_2017)\n",
    "print('Average proportion in years 2009-2016:', np.mean(doping_proportion_otheryrs))"
   ]
  },
  {
   "cell_type": "code",
   "execution_count": 207,
   "metadata": {},
   "outputs": [
    {
     "name": "stdout",
     "output_type": "stream",
     "text": [
      "t = 3.78\n",
      "p = p( t <=  -3.78 ) + p( t >=  3.78 ) =  0.007\n",
      "p (unrounded) is  0.00689400099676\n"
     ]
    }
   ],
   "source": [
    "# calculate t statistic\n",
    "t3 = ( np.mean(doping_proportion_otheryrs) - doping_proportion_2017 ) / ( np.std(doping_proportion_otheryrs) / np.sqrt(n3) )\n",
    "print('t =', round(t3,3))\n",
    "\n",
    "# perform two sided t test\n",
    "p_t3 = stats.t.sf(abs(t3), n3-1) * 2\n",
    "print('p = p( t <= ', -round(t3,3), ') + p( t >= ', abs(round(t3,3)), ') = ', round(p_t3,3))\n",
    "print('p (unrounded) is ', p_t3)"
   ]
  },
  {
   "cell_type": "markdown",
   "metadata": {},
   "source": [
    "Our small p value suggests that there is a statistically significant difference in the 2017 proportion of incidents under doping trainers to total incidents and the average proportion of incidents under doping trainers to total incidents of other years (2009 - 2016). "
   ]
  },
  {
   "cell_type": "markdown",
   "metadata": {},
   "source": [
    "# Conclusions\n",
    "\n",
    "Though we didn't find the decrease of the 2017 incident rate under doping trainers compared to other years to be significant, we still identified statistical significance in our two other tests. The significant decrease in the proportion of incidents under doping trainers in 2017 compared to the average proportion  of indicents under doping trainers for the previous eight years suggests that legislation and regulations could be making a difference in whether trainers choose to drug their horses. With the development of more robust anti-doping tests and more stringent rules, hopefully the number of deaths and breakdowns per year will continue to decrease and the racetrack can return to being a level playing field for all participants."
   ]
  }
 ],
 "metadata": {
  "kernelspec": {
   "display_name": "Python 3",
   "language": "python",
   "name": "python3"
  },
  "language_info": {
   "codemirror_mode": {
    "name": "ipython",
    "version": 3
   },
   "file_extension": ".py",
   "mimetype": "text/x-python",
   "name": "python",
   "nbconvert_exporter": "python",
   "pygments_lexer": "ipython3",
   "version": "3.6.2"
  }
 },
 "nbformat": 4,
 "nbformat_minor": 2
}
